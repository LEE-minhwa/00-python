{
 "cells": [
  {
   "cell_type": "code",
   "execution_count": 1,
   "metadata": {
    "id": "DxUygMozkNXP"
   },
   "outputs": [],
   "source": [
    "# 튜토리얼 진행을 위한 모듈 import\n",
    "import pandas as pd\n",
    "import numpy as np\n",
    "import matplotlib.pyplot as plt\n",
    "import seaborn as sns\n",
    "from IPython.display import Image\n",
    "import warnings\n",
    "\n",
    "np.set_printoptions(suppress=True, precision=3)\n",
    "\n",
    "# 경고 메시지 출력 표기 생략\n",
    "warnings.filterwarnings('ignore')"
   ]
  },
  {
   "cell_type": "markdown",
   "metadata": {
    "id": "4w25biB_5-G4"
   },
   "source": [
    "# 회귀 (regression)"
   ]
  },
  {
   "cell_type": "markdown",
   "metadata": {
    "id": "MNQRgZZKkNXT"
   },
   "source": [
    "회귀 분석(regression analysis)은 관찰된 연속형 변수들에 대해 두 변수 사이의 모형을 구한뒤 적합도를 측정해 내는 분석 방법입니다.\n",
    "\n",
    "하나의 종속변수와 하나의 독립변수 사이의 관계를 분석할 경우를 **단순회귀분석(simple regression analysis)**, 하나의 종속변수와 여러 독립변수 사이의 관계를 규명하고자 할 경우를 **다중회귀분석(multiple regression analysis)**이라고 합니다."
   ]
  },
  {
   "cell_type": "markdown",
   "metadata": {
    "id": "5Y_f-BWX6CCA"
   },
   "source": [
    "**예시**\n",
    "- 주택 가격 예측\n",
    "- 매출액 예측\n",
    "- 주가 예측\n",
    "- 온도 예측"
   ]
  },
  {
   "cell_type": "markdown",
   "metadata": {
    "id": "ExYrS9GzkNXU"
   },
   "source": [
    "대표적인 회귀 모델로는\n",
    "\n",
    "- 최소제곱법(Ordinary Least Squares)을 활용한 **LinearRegression**\n",
    "- 경사하강법(Gradient Descent)을 활용한 **SGDRegressor**\n",
    "- 선형 회귀 모델에 L1, L2 규제를 더한 **Lasso, Ridge, ElasticNet**\n",
    "\n",
    "등이 있습니다."
   ]
  },
  {
   "cell_type": "markdown",
   "metadata": {
    "id": "xlUKcoPiJid2"
   },
   "source": [
    "[도큐먼트](https://scikit-learn.org/stable/supervised_learning.html#supervised-learning)"
   ]
  },
  {
   "cell_type": "markdown",
   "metadata": {
    "id": "IXUBcFNLv-hN"
   },
   "source": [
    "## 회귀 모델을 위한 평가 지표"
   ]
  },
  {
   "cell_type": "code",
   "execution_count": 2,
   "metadata": {
    "id": "sAfJTTk4kNXV"
   },
   "outputs": [],
   "source": [
    "def make_linear(w=0.5, b=0.8, size=50, noise=1.0):\n",
    "    np.random.seed(123)\n",
    "    x = np.arange(size)\n",
    "    y = w * x + b\n",
    "    noise = np.random.uniform(-abs(noise), abs(noise), size=y.shape)\n",
    "    yy = y + noise\n",
    "    plt.figure(figsize=(10, 7))\n",
    "    plt.plot(x, y, color='r', label=f'y = {w}*x + {b}')\n",
    "    plt.scatter(x, yy, label='data')\n",
    "    plt.legend(fontsize=20)\n",
    "    plt.show()\n",
    "    print(f'w: {w}, b: {b}')\n",
    "    return x, y, yy"
   ]
  },
  {
   "cell_type": "code",
   "execution_count": 3,
   "metadata": {
    "id": "oGteMRsfkNXX",
    "outputId": "b110c4ff-ed07-4052-c37b-fe9be028521b"
   },
   "outputs": [
    {
     "data": {
      "image/png": "[encoded data removed]",
      "text/plain": [
       "<Figure size 720x504 with 1 Axes>"
      ]
     },
     "metadata": {
      "needs_background": "light"
     },
     "output_type": "display_data"
    },
    {
     "name": "stdout",
     "output_type": "stream",
     "text": [
      "w: 1.5, b: 0.8\n"
     ]
    }
   ],
   "source": [
    "x, y_true, y_pred = make_linear(size=50, w=1.5, b=0.8, noise=5.5)"
   ]
  },
  {
   "cell_type": "markdown",
   "metadata": {
    "id": "q-9zi44LwAwk"
   },
   "source": [
    "### R2 Score (결정계수)"
   ]
  },
  {
   "cell_type": "markdown",
   "metadata": {
    "id": "YukHMw8ykNXa"
   },
   "source": [
    "- 통계학 회귀분석에서 자주 쓰이는 회귀 평가 지표.\n",
    "- 실제 값의 분산 대비 예측 값의 분산 비율을 나타냅니다.\n",
    "- 1에 가까울 수록 좋은 모델, 0에 가까울 수록 나쁨, **음수가 나오면 잘못 평가** 되었음을 의미합니다."
   ]
  },
  {
   "cell_type": "markdown",
   "metadata": {},
   "source": [
    "$\\Large R^{2}= 1-\\frac{\\sum_{i=1}^{n}{(y_i - \\hat{y_i})^2}}{\\sum_{i=1}^{n}(y_i - \\bar{y})^2}$"
   ]
  },
  {
   "cell_type": "markdown",
   "metadata": {
    "id": "RjxRKHwdkNXa"
   },
   "source": [
    "Python 코드로 위의 수식을 그대로 구현합니다.\n",
    "\n",
    "`r2`에 결과를 대입합니다."
   ]
  },
  {
   "cell_type": "code",
   "execution_count": 4,
   "metadata": {
    "id": "HrRtidBwkNXb",
    "outputId": "ede2572e-d710-48b3-8d68-3e9ba70670d3"
   },
   "outputs": [],
   "source": [
    "# 코드를 입력해 주세요\n",
    "r2 = 1 - ((y_true - y_pred)**2).sum() / ((y_true - y_true.mean())**2).sum()"
   ]
  },
  {
   "cell_type": "code",
   "execution_count": 5,
   "metadata": {
    "id": "HrRtidBwkNXb",
    "outputId": "ede2572e-d710-48b3-8d68-3e9ba70670d3"
   },
   "outputs": [
    {
     "name": "stdout",
     "output_type": "stream",
     "text": [
      "r2 score = 0.986\n"
     ]
    }
   ],
   "source": [
    "# 코드검증\n",
    "print('r2 score = {:.3f}'.format(r2))"
   ]
  },
  {
   "cell_type": "markdown",
   "metadata": {
    "id": "tgaYnrvukNXd"
   },
   "source": [
    "`sklearn.metrics`패키지에 `r2_score`로 구현"
   ]
  },
  {
   "cell_type": "code",
   "execution_count": 6,
   "metadata": {
    "id": "Y6grcjykkNXd",
    "outputId": "1e40e0a0-741f-4d71-ccf4-d16577b86842"
   },
   "outputs": [],
   "source": [
    "from sklearn.metrics import r2_score"
   ]
  },
  {
   "cell_type": "markdown",
   "metadata": {},
   "source": [
    "`r2_` 변수에 결과를 대입합니다."
   ]
  },
  {
   "cell_type": "code",
   "execution_count": 7,
   "metadata": {
    "id": "Y6grcjykkNXd",
    "outputId": "1e40e0a0-741f-4d71-ccf4-d16577b86842"
   },
   "outputs": [],
   "source": [
    "# 코드를 입력해 주세요\n",
    "r2_ = r2_score(y_true, y_pred)"
   ]
  },
  {
   "cell_type": "code",
   "execution_count": 8,
   "metadata": {
    "id": "Y6grcjykkNXd",
    "outputId": "1e40e0a0-741f-4d71-ccf4-d16577b86842"
   },
   "outputs": [
    {
     "name": "stdout",
     "output_type": "stream",
     "text": [
      "r2 score = 0.986\n"
     ]
    }
   ],
   "source": [
    "# 코드검증\n",
    "print('r2 score = {:.3f}'.format(r2_))"
   ]
  },
  {
   "cell_type": "markdown",
   "metadata": {
    "id": "EoG4CEm4v-aJ"
   },
   "source": [
    "### MSE (Mean Squared Error)"
   ]
  },
  {
   "cell_type": "markdown",
   "metadata": {
    "id": "P0TUHffBzCly"
   },
   "source": [
    "- 예측 값과 실제 값의 차이에 대한 **제곱**에 대하여 평균을 낸 값\n",
    "- MSE 오차가 작으면 작을수록 좋지만, 과대적합이 될 수 있음에 주의합니다.\n",
    "- 예측 값과 실제 값보다 크게 예측이 되는지 작게 예측되는지 알 수 없습니다."
   ]
  },
  {
   "cell_type": "markdown",
   "metadata": {},
   "source": [
    "$\\Large MSE = \\frac{1}{n}\\sum_{i=1}^{n}{(y_i - \\hat{y_i})^2}$"
   ]
  },
  {
   "cell_type": "markdown",
   "metadata": {
    "id": "Hd31hgftkNXi"
   },
   "source": [
    "Python 코드로 위의 수식을 그대로 구현합니다."
   ]
  },
  {
   "cell_type": "markdown",
   "metadata": {},
   "source": [
    "`mse` 변수에 결과를 대입합니다."
   ]
  },
  {
   "cell_type": "code",
   "execution_count": 9,
   "metadata": {
    "id": "fSXv0MNXkNXi",
    "outputId": "1a044e18-9690-4a8c-b7ed-d6f2f62a9b7e"
   },
   "outputs": [],
   "source": [
    "# 코드를 입력해 주세요\n",
    "mse = ((y_true - y_pred)**2).mean()"
   ]
  },
  {
   "cell_type": "code",
   "execution_count": 10,
   "metadata": {
    "id": "fSXv0MNXkNXi",
    "outputId": "1a044e18-9690-4a8c-b7ed-d6f2f62a9b7e"
   },
   "outputs": [
    {
     "name": "stdout",
     "output_type": "stream",
     "text": [
      "mse = 6.540\n"
     ]
    }
   ],
   "source": [
    "# 코드검증\n",
    "print('mse = {:.3f}'.format(mse))"
   ]
  },
  {
   "cell_type": "markdown",
   "metadata": {
    "id": "3d15QwUukNXk"
   },
   "source": [
    "`sklearn.metrics` 패키지에 `mean_squared_error`를 활용합니다."
   ]
  },
  {
   "cell_type": "code",
   "execution_count": 11,
   "metadata": {
    "id": "P0HoZioLkNXk"
   },
   "outputs": [],
   "source": [
    "from sklearn.metrics import mean_squared_error"
   ]
  },
  {
   "cell_type": "markdown",
   "metadata": {},
   "source": [
    "`mse_` 변수에 결과를 대입합니다."
   ]
  },
  {
   "cell_type": "code",
   "execution_count": 12,
   "metadata": {
    "id": "Lv47jMb8kNXm",
    "outputId": "413d52af-55c0-490e-c761-4ae009689277"
   },
   "outputs": [],
   "source": [
    "# 코드를 입력해 주세요\n",
    "mse_ = mean_squared_error(y_true, y_pred)"
   ]
  },
  {
   "cell_type": "code",
   "execution_count": 13,
   "metadata": {
    "id": "Lv47jMb8kNXm",
    "outputId": "413d52af-55c0-490e-c761-4ae009689277"
   },
   "outputs": [
    {
     "name": "stdout",
     "output_type": "stream",
     "text": [
      "mse = 6.540\n"
     ]
    }
   ],
   "source": [
    "# 코드검증\n",
    "print('mse = {:.3f}'.format(mse_))"
   ]
  },
  {
   "cell_type": "markdown",
   "metadata": {
    "id": "yvGjUcuxwFFi"
   },
   "source": [
    "### MAE (Mean Absolute Error)"
   ]
  },
  {
   "cell_type": "markdown",
   "metadata": {
    "id": "6GLVRFIIkNXo"
   },
   "source": [
    "- 예측값과 실제값의 차이에 대한 **절대값**에 대하여 평균을 낸 값\n",
    "- 실제 값과 예측 값 차이를 절대 값으로 변환해 평균을 계산합니다. 작을수록 좋지만, 과대적합이 될 수 있음에 주의합니다.\n",
    "- **스케일에 의존적**입니다.\n",
    "\n",
    "예를 들어, 아파트 집값은 10억, 20억으로 구성되어 있고, 과일 가격은 5000원, 10000원으로 구성되어 있을때,\n",
    "\n",
    "예측하는 각각 모델의 MSE 가 똑같이 100 이 나왔다고 가정한다며,동일한 오차율이 아님에도 불구하고 동일하게 평가되어 지는 현상이 발생합니다.\n",
    "이는 MSE 오차에서도 마찬가지 입니다."
   ]
  },
  {
   "cell_type": "markdown",
   "metadata": {},
   "source": [
    "$\\Large MAE = \\frac{1}{n}\\sum_{i=1}^{n}{|(y_i - \\hat{y_i})|}$"
   ]
  },
  {
   "cell_type": "markdown",
   "metadata": {
    "id": "DLrUCYeGkNXq"
   },
   "source": [
    "Python 코드로 위의 수식을 그대로 구현합니다.\n",
    "\n",
    "`mae` 변수에 결과를 대입합니다."
   ]
  },
  {
   "cell_type": "code",
   "execution_count": 14,
   "metadata": {},
   "outputs": [],
   "source": [
    "# 코드를 입력해 주세요\n",
    "mae = np.abs(y_true - y_pred).mean()"
   ]
  },
  {
   "cell_type": "code",
   "execution_count": 15,
   "metadata": {},
   "outputs": [
    {
     "name": "stdout",
     "output_type": "stream",
     "text": [
      "mae = 2.084\n"
     ]
    }
   ],
   "source": [
    "# 코드검증\n",
    "print('mae = {:.3f}'.format(mae))"
   ]
  },
  {
   "cell_type": "markdown",
   "metadata": {
    "id": "5WL-hXLSkNXr"
   },
   "source": [
    "`sklearn.metrics` 패키지에 `mean_absolute_error`를 활용합니다."
   ]
  },
  {
   "cell_type": "code",
   "execution_count": 16,
   "metadata": {
    "id": "TLSkoRzVkNXr"
   },
   "outputs": [],
   "source": [
    "from sklearn.metrics import mean_absolute_error"
   ]
  },
  {
   "cell_type": "markdown",
   "metadata": {},
   "source": [
    "`mae_` 변수에 결과를 대입합니다."
   ]
  },
  {
   "cell_type": "code",
   "execution_count": 17,
   "metadata": {
    "id": "bD7F-vOhkNXt",
    "outputId": "3cd6e593-220f-41b6-f5b5-519a33e2480c"
   },
   "outputs": [],
   "source": [
    "# 코드를 입력해 주세요\n",
    "mae_ = mean_absolute_error(y_true, y_pred)"
   ]
  },
  {
   "cell_type": "code",
   "execution_count": 18,
   "metadata": {
    "id": "bD7F-vOhkNXt",
    "outputId": "3cd6e593-220f-41b6-f5b5-519a33e2480c"
   },
   "outputs": [
    {
     "name": "stdout",
     "output_type": "stream",
     "text": [
      "mae = 2.084\n"
     ]
    }
   ],
   "source": [
    "# 코드검증\n",
    "print('mae = {:.3f}'.format(mae_))"
   ]
  },
  {
   "cell_type": "markdown",
   "metadata": {
    "id": "XW5K9yLWwimQ"
   },
   "source": [
    "### RMSE (Root Mean Squared Error)"
   ]
  },
  {
   "cell_type": "markdown",
   "metadata": {},
   "source": [
    "$\\Large RMSE = \\sqrt{\\frac{1}{n}\\sum_{i=1}^{n}{(y_i - \\hat{y_i})^2}}$"
   ]
  },
  {
   "cell_type": "markdown",
   "metadata": {
    "id": "zd1Bouq5zBqC"
   },
   "source": [
    "- 예측값과 실제값의 차이에 대한 **제곱**에 대하여 평균을 낸 뒤 **루트**를 씌운 값\n",
    "- MSE의 장단점을 거의 그대로 따라갑니다.\n",
    "- 제곱 오차에 대한 왜곡을 줄여줍니다."
   ]
  },
  {
   "cell_type": "markdown",
   "metadata": {
    "id": "ew5w2brfkNXx"
   },
   "source": [
    "Python 코드로 위의 수식을 그대로 구현합니다.\n",
    "\n",
    "`rmse` 변수에 결과를 대입합니다."
   ]
  },
  {
   "cell_type": "code",
   "execution_count": 19,
   "metadata": {
    "id": "vIoNh-I1FNmt",
    "outputId": "88fb3511-f5ba-41bd-a6c2-83799a57766f"
   },
   "outputs": [],
   "source": [
    "# 코드를 입력해 주세요\n",
    "rmse = np.sqrt(mse)"
   ]
  },
  {
   "cell_type": "code",
   "execution_count": 20,
   "metadata": {
    "id": "vIoNh-I1FNmt",
    "outputId": "88fb3511-f5ba-41bd-a6c2-83799a57766f"
   },
   "outputs": [
    {
     "name": "stdout",
     "output_type": "stream",
     "text": [
      "mse = 6.540, rmse = 2.557\n"
     ]
    }
   ],
   "source": [
    "print('mse = {:.3f}, rmse = {:.3f}'.format(mse, rmse))"
   ]
  },
  {
   "cell_type": "markdown",
   "metadata": {
    "id": "kTCilIaEkNXz"
   },
   "source": [
    "`sklearn.metrics` 패키지에는 별도로 **RMSE 평가지표는 없습니다.**"
   ]
  },
  {
   "cell_type": "markdown",
   "metadata": {
    "id": "AtV5LD9wkNXz"
   },
   "source": [
    "## 회귀 모델 (Regression Models)"
   ]
  },
  {
   "cell_type": "markdown",
   "metadata": {
    "id": "Yt9pqvyOGW0N"
   },
   "source": [
    "### 모델별 성능 확인을 위한 함수"
   ]
  },
  {
   "cell_type": "code",
   "execution_count": 21,
   "metadata": {},
   "outputs": [],
   "source": [
    "# 모듈 설치\n",
    "!pip install teddynote -q"
   ]
  },
  {
   "cell_type": "code",
   "execution_count": 22,
   "metadata": {},
   "outputs": [],
   "source": [
    "from teddynote import utils\n",
    "\n",
    "# 그래프 사이즈 설정\n",
    "utils.set_plot_options(figsize=(12, 10))\n",
    "\n",
    "# MSE 에러 설정\n",
    "utils.set_plot_error('mse')"
   ]
  },
  {
   "cell_type": "markdown",
   "metadata": {
    "id": "OA_smO1FkNX2"
   },
   "source": [
    "### 보스턴 집 값 데이터"
   ]
  },
  {
   "cell_type": "markdown",
   "metadata": {
    "id": "sIqBLdbnu-7_"
   },
   "source": [
    "**데이터 로드 (load_boston)**"
   ]
  },
  {
   "cell_type": "code",
   "execution_count": 23,
   "metadata": {
    "id": "DHjz2_orwMHe"
   },
   "outputs": [],
   "source": [
    "from sklearn.datasets import load_boston"
   ]
  },
  {
   "cell_type": "code",
   "execution_count": 24,
   "metadata": {
    "id": "DHjz2_orwMHe"
   },
   "outputs": [],
   "source": [
    "# 코드를 입력해 주세요\n",
    "data = load_boston()"
   ]
  },
  {
   "cell_type": "markdown",
   "metadata": {
    "id": "NPGcQQ8KvBcd"
   },
   "source": [
    "data['data']에는 X 데이터, data['feature_names']에는 컬럼 명입니다."
   ]
  },
  {
   "cell_type": "code",
   "execution_count": 25,
   "metadata": {
    "id": "pIhh3ThhwRed"
   },
   "outputs": [],
   "source": [
    "# 코드를 입력해 주세요\n",
    "df = pd.DataFrame(data['data'], columns=data['feature_names'])\n",
    "df['target'] = data['target']"
   ]
  },
  {
   "cell_type": "markdown",
   "metadata": {
    "id": "5YFfSlDAvJXc"
   },
   "source": [
    "target 데이터도 Column 에 추가 합니다."
   ]
  },
  {
   "cell_type": "code",
   "execution_count": 26,
   "metadata": {
    "colab": {
     "base_uri": "https://localhost:8080/",
     "height": 198
    },
    "id": "qEcK8Erlwi7a",
    "outputId": "6accb454-c321-46b9-d67a-94234d975488"
   },
   "outputs": [
    {
     "data": {
      "text/html": [
       "<div>\n",
       "<style scoped>\n",
       "    .dataframe tbody tr th:only-of-type {\n",
       "        vertical-align: middle;\n",
       "    }\n",
       "\n",
       "    .dataframe tbody tr th {\n",
       "        vertical-align: top;\n",
       "    }\n",
       "\n",
       "    .dataframe thead th {\n",
       "        text-align: right;\n",
       "    }\n",
       "</style>\n",
       "<table border=\"1\" class=\"dataframe\">\n",
       "  <thead>\n",
       "    <tr style=\"text-align: right;\">\n",
       "      <th></th>\n",
       "      <th>CRIM</th>\n",
       "      <th>ZN</th>\n",
       "      <th>INDUS</th>\n",
       "      <th>CHAS</th>\n",
       "      <th>NOX</th>\n",
       "      <th>RM</th>\n",
       "      <th>AGE</th>\n",
       "      <th>DIS</th>\n",
       "      <th>RAD</th>\n",
       "      <th>TAX</th>\n",
       "      <th>PTRATIO</th>\n",
       "      <th>B</th>\n",
       "      <th>LSTAT</th>\n",
       "      <th>target</th>\n",
       "    </tr>\n",
       "  </thead>\n",
       "  <tbody>\n",
       "    <tr>\n",
       "      <th>0</th>\n",
       "      <td>0.00632</td>\n",
       "      <td>18.0</td>\n",
       "      <td>2.31</td>\n",
       "      <td>0.0</td>\n",
       "      <td>0.538</td>\n",
       "      <td>6.575</td>\n",
       "      <td>65.2</td>\n",
       "      <td>4.0900</td>\n",
       "      <td>1.0</td>\n",
       "      <td>296.0</td>\n",
       "      <td>15.3</td>\n",
       "      <td>396.90</td>\n",
       "      <td>4.98</td>\n",
       "      <td>24.0</td>\n",
       "    </tr>\n",
       "    <tr>\n",
       "      <th>1</th>\n",
       "      <td>0.02731</td>\n",
       "      <td>0.0</td>\n",
       "      <td>7.07</td>\n",
       "      <td>0.0</td>\n",
       "      <td>0.469</td>\n",
       "      <td>6.421</td>\n",
       "      <td>78.9</td>\n",
       "      <td>4.9671</td>\n",
       "      <td>2.0</td>\n",
       "      <td>242.0</td>\n",
       "      <td>17.8</td>\n",
       "      <td>396.90</td>\n",
       "      <td>9.14</td>\n",
       "      <td>21.6</td>\n",
       "    </tr>\n",
       "    <tr>\n",
       "      <th>2</th>\n",
       "      <td>0.02729</td>\n",
       "      <td>0.0</td>\n",
       "      <td>7.07</td>\n",
       "      <td>0.0</td>\n",
       "      <td>0.469</td>\n",
       "      <td>7.185</td>\n",
       "      <td>61.1</td>\n",
       "      <td>4.9671</td>\n",
       "      <td>2.0</td>\n",
       "      <td>242.0</td>\n",
       "      <td>17.8</td>\n",
       "      <td>392.83</td>\n",
       "      <td>4.03</td>\n",
       "      <td>34.7</td>\n",
       "    </tr>\n",
       "    <tr>\n",
       "      <th>3</th>\n",
       "      <td>0.03237</td>\n",
       "      <td>0.0</td>\n",
       "      <td>2.18</td>\n",
       "      <td>0.0</td>\n",
       "      <td>0.458</td>\n",
       "      <td>6.998</td>\n",
       "      <td>45.8</td>\n",
       "      <td>6.0622</td>\n",
       "      <td>3.0</td>\n",
       "      <td>222.0</td>\n",
       "      <td>18.7</td>\n",
       "      <td>394.63</td>\n",
       "      <td>2.94</td>\n",
       "      <td>33.4</td>\n",
       "    </tr>\n",
       "    <tr>\n",
       "      <th>4</th>\n",
       "      <td>0.06905</td>\n",
       "      <td>0.0</td>\n",
       "      <td>2.18</td>\n",
       "      <td>0.0</td>\n",
       "      <td>0.458</td>\n",
       "      <td>7.147</td>\n",
       "      <td>54.2</td>\n",
       "      <td>6.0622</td>\n",
       "      <td>3.0</td>\n",
       "      <td>222.0</td>\n",
       "      <td>18.7</td>\n",
       "      <td>396.90</td>\n",
       "      <td>5.33</td>\n",
       "      <td>36.2</td>\n",
       "    </tr>\n",
       "  </tbody>\n",
       "</table>\n",
       "</div>"
      ],
      "text/plain": [
       "      CRIM    ZN  INDUS  CHAS    NOX     RM   AGE     DIS  RAD    TAX  \\\n",
       "0  0.00632  18.0   2.31   0.0  0.538  6.575  65.2  4.0900  1.0  296.0   \n",
       "1  0.02731   0.0   7.07   0.0  0.469  6.421  78.9  4.9671  2.0  242.0   \n",
       "2  0.02729   0.0   7.07   0.0  0.469  7.185  61.1  4.9671  2.0  242.0   \n",
       "3  0.03237   0.0   2.18   0.0  0.458  6.998  45.8  6.0622  3.0  222.0   \n",
       "4  0.06905   0.0   2.18   0.0  0.458  7.147  54.2  6.0622  3.0  222.0   \n",
       "\n",
       "   PTRATIO       B  LSTAT  target  \n",
       "0     15.3  396.90   4.98    24.0  \n",
       "1     17.8  396.90   9.14    21.6  \n",
       "2     17.8  392.83   4.03    34.7  \n",
       "3     18.7  394.63   2.94    33.4  \n",
       "4     18.7  396.90   5.33    36.2  "
      ]
     },
     "execution_count": 26,
     "metadata": {},
     "output_type": "execute_result"
    }
   ],
   "source": [
    "# 코드검증\n",
    "df.head()"
   ]
  },
  {
   "cell_type": "markdown",
   "metadata": {
    "id": "2OJKxGHGQyra"
   },
   "source": [
    "**컬럼 소개**\n",
    "\n",
    "속성 수 : 13\n",
    "\n",
    "* **CRIM**: 자치시 별 범죄율\n",
    "* **ZN**: 25,000 평방 피트를 초과하는 주거용 토지의 비율\n",
    "* **INDUS**: 비소매(non-retail) 비즈니스 토지 비율\n",
    "* **CHAS**: 찰스 강과 인접한 경우에 대한 더비 변수 (1= 인접, 0= 인접하지 않음)\n",
    "* **NOX**: 산화 질소 농도 (10ppm)\n",
    "* **RM**:주택당 평균 객실 수\n",
    "* **AGE**: 1940 년 이전에 건축된 자가소유 점유 비율\n",
    "* **DIS**: 5 개의 보스턴 고용 센터까지의 가중 거리     \n",
    "* **RAD**: 고속도로 접근성 지수\n",
    "* **TAX**: 10,000 달러 당 전체 가치 재산 세율\n",
    "* **PTRATIO**  도시별 학생-교사 비율\n",
    "* **B**: 인구당 흑인의 비율. 1000(Bk - 0.63)^2, (Bk는 흑인의 비율을 뜻함)\n",
    "* **LSTAT**: 하위 계층의 비율\n",
    "* **target**: 자가 주택의 중앙값 (1,000 달러 단위)"
   ]
  },
  {
   "cell_type": "markdown",
   "metadata": {
    "id": "2sMNMyyjEGD2"
   },
   "source": [
    "**학습(train) / 테스트(test)** 용 데이터를 분할 합니다."
   ]
  },
  {
   "cell_type": "code",
   "execution_count": 27,
   "metadata": {
    "id": "Jt8fMUFYELEQ"
   },
   "outputs": [],
   "source": [
    "from sklearn.model_selection import train_test_split\n",
    "\n",
    "# 시드 설정\n",
    "SEED=30"
   ]
  },
  {
   "cell_type": "code",
   "execution_count": 28,
   "metadata": {
    "id": "CiT58Hq3EK-l"
   },
   "outputs": [],
   "source": [
    "# 코드를 입력해 주세요\n",
    "x_train, x_test, y_train, y_test = train_test_split(df.drop('target', 1), df['target'], random_state=SEED)"
   ]
  },
  {
   "cell_type": "markdown",
   "metadata": {},
   "source": [
    "`x_train`, `x_test`의 shape를 출력합니다."
   ]
  },
  {
   "cell_type": "code",
   "execution_count": 29,
   "metadata": {
    "colab": {
     "base_uri": "https://localhost:8080/",
     "height": 35
    },
    "id": "vCfOM_LDviy6",
    "outputId": "7c629d09-b6ce-4e01-bc47-e8ce0c7d8ff6"
   },
   "outputs": [
    {
     "data": {
      "text/plain": [
       "((379, 13), (127, 13))"
      ]
     },
     "execution_count": 29,
     "metadata": {},
     "output_type": "execute_result"
    }
   ],
   "source": [
    "# 코드를 입력해 주세요\n",
    "x_train.shape, x_test.shape"
   ]
  },
  {
   "cell_type": "code",
   "execution_count": 30,
   "metadata": {
    "colab": {
     "base_uri": "https://localhost:8080/",
     "height": 198
    },
    "id": "FKXrkYuSvqWk",
    "outputId": "6a74b5c7-1110-438e-e58e-9ab9e8f9bdb5"
   },
   "outputs": [
    {
     "data": {
      "text/html": [
       "<div>\n",
       "<style scoped>\n",
       "    .dataframe tbody tr th:only-of-type {\n",
       "        vertical-align: middle;\n",
       "    }\n",
       "\n",
       "    .dataframe tbody tr th {\n",
       "        vertical-align: top;\n",
       "    }\n",
       "\n",
       "    .dataframe thead th {\n",
       "        text-align: right;\n",
       "    }\n",
       "</style>\n",
       "<table border=\"1\" class=\"dataframe\">\n",
       "  <thead>\n",
       "    <tr style=\"text-align: right;\">\n",
       "      <th></th>\n",
       "      <th>CRIM</th>\n",
       "      <th>ZN</th>\n",
       "      <th>INDUS</th>\n",
       "      <th>CHAS</th>\n",
       "      <th>NOX</th>\n",
       "      <th>RM</th>\n",
       "      <th>AGE</th>\n",
       "      <th>DIS</th>\n",
       "      <th>RAD</th>\n",
       "      <th>TAX</th>\n",
       "      <th>PTRATIO</th>\n",
       "      <th>B</th>\n",
       "      <th>LSTAT</th>\n",
       "    </tr>\n",
       "  </thead>\n",
       "  <tbody>\n",
       "    <tr>\n",
       "      <th>142</th>\n",
       "      <td>3.32105</td>\n",
       "      <td>0.0</td>\n",
       "      <td>19.58</td>\n",
       "      <td>1.0</td>\n",
       "      <td>0.871</td>\n",
       "      <td>5.403</td>\n",
       "      <td>100.0</td>\n",
       "      <td>1.3216</td>\n",
       "      <td>5.0</td>\n",
       "      <td>403.0</td>\n",
       "      <td>14.7</td>\n",
       "      <td>396.90</td>\n",
       "      <td>26.82</td>\n",
       "    </tr>\n",
       "    <tr>\n",
       "      <th>10</th>\n",
       "      <td>0.22489</td>\n",
       "      <td>12.5</td>\n",
       "      <td>7.87</td>\n",
       "      <td>0.0</td>\n",
       "      <td>0.524</td>\n",
       "      <td>6.377</td>\n",
       "      <td>94.3</td>\n",
       "      <td>6.3467</td>\n",
       "      <td>5.0</td>\n",
       "      <td>311.0</td>\n",
       "      <td>15.2</td>\n",
       "      <td>392.52</td>\n",
       "      <td>20.45</td>\n",
       "    </tr>\n",
       "    <tr>\n",
       "      <th>393</th>\n",
       "      <td>8.64476</td>\n",
       "      <td>0.0</td>\n",
       "      <td>18.10</td>\n",
       "      <td>0.0</td>\n",
       "      <td>0.693</td>\n",
       "      <td>6.193</td>\n",
       "      <td>92.6</td>\n",
       "      <td>1.7912</td>\n",
       "      <td>24.0</td>\n",
       "      <td>666.0</td>\n",
       "      <td>20.2</td>\n",
       "      <td>396.90</td>\n",
       "      <td>15.17</td>\n",
       "    </tr>\n",
       "    <tr>\n",
       "      <th>162</th>\n",
       "      <td>1.83377</td>\n",
       "      <td>0.0</td>\n",
       "      <td>19.58</td>\n",
       "      <td>1.0</td>\n",
       "      <td>0.605</td>\n",
       "      <td>7.802</td>\n",
       "      <td>98.2</td>\n",
       "      <td>2.0407</td>\n",
       "      <td>5.0</td>\n",
       "      <td>403.0</td>\n",
       "      <td>14.7</td>\n",
       "      <td>389.61</td>\n",
       "      <td>1.92</td>\n",
       "    </tr>\n",
       "    <tr>\n",
       "      <th>363</th>\n",
       "      <td>4.22239</td>\n",
       "      <td>0.0</td>\n",
       "      <td>18.10</td>\n",
       "      <td>1.0</td>\n",
       "      <td>0.770</td>\n",
       "      <td>5.803</td>\n",
       "      <td>89.0</td>\n",
       "      <td>1.9047</td>\n",
       "      <td>24.0</td>\n",
       "      <td>666.0</td>\n",
       "      <td>20.2</td>\n",
       "      <td>353.04</td>\n",
       "      <td>14.64</td>\n",
       "    </tr>\n",
       "  </tbody>\n",
       "</table>\n",
       "</div>"
      ],
      "text/plain": [
       "        CRIM    ZN  INDUS  CHAS    NOX     RM    AGE     DIS   RAD    TAX  \\\n",
       "142  3.32105   0.0  19.58   1.0  0.871  5.403  100.0  1.3216   5.0  403.0   \n",
       "10   0.22489  12.5   7.87   0.0  0.524  6.377   94.3  6.3467   5.0  311.0   \n",
       "393  8.64476   0.0  18.10   0.0  0.693  6.193   92.6  1.7912  24.0  666.0   \n",
       "162  1.83377   0.0  19.58   1.0  0.605  7.802   98.2  2.0407   5.0  403.0   \n",
       "363  4.22239   0.0  18.10   1.0  0.770  5.803   89.0  1.9047  24.0  666.0   \n",
       "\n",
       "     PTRATIO       B  LSTAT  \n",
       "142     14.7  396.90  26.82  \n",
       "10      15.2  392.52  20.45  \n",
       "393     20.2  396.90  15.17  \n",
       "162     14.7  389.61   1.92  \n",
       "363     20.2  353.04  14.64  "
      ]
     },
     "execution_count": 30,
     "metadata": {},
     "output_type": "execute_result"
    }
   ],
   "source": [
    "# 검증코드\n",
    "x_train.head()"
   ]
  },
  {
   "cell_type": "markdown",
   "metadata": {
    "id": "qJmSsQ2yv0oV"
   },
   "source": [
    "## LinearRegression"
   ]
  },
  {
   "cell_type": "markdown",
   "metadata": {
    "id": "7DWapNujJn6P"
   },
   "source": [
    "[도큐먼트](https://scikit-learn.org/stable/modules/generated/sklearn.linear_model.LinearRegression.html)"
   ]
  },
  {
   "cell_type": "code",
   "execution_count": 31,
   "metadata": {
    "id": "y2cYsPENv_q0"
   },
   "outputs": [],
   "source": [
    "from sklearn.linear_model import LinearRegression"
   ]
  },
  {
   "cell_type": "code",
   "execution_count": 32,
   "metadata": {
    "id": "1nBUN6VWwFB7"
   },
   "outputs": [],
   "source": [
    "# 코드를 입력해 주세요\n",
    "model = LinearRegression()"
   ]
  },
  {
   "cell_type": "code",
   "execution_count": 33,
   "metadata": {
    "colab": {
     "base_uri": "https://localhost:8080/",
     "height": 35
    },
    "id": "B0ttPK9wEfOI",
    "outputId": "d83e3823-8cfd-4e73-8fa1-220e7e40ae57"
   },
   "outputs": [
    {
     "data": {
      "text/plain": [
       "LinearRegression()"
      ]
     },
     "execution_count": 33,
     "metadata": {},
     "output_type": "execute_result"
    }
   ],
   "source": [
    "# 코드를 입력해 주세요\n",
    "model.fit(x_train, y_train)"
   ]
  },
  {
   "cell_type": "markdown",
   "metadata": {},
   "source": [
    "`pred` 변수에 예측 결과를 대입합니다."
   ]
  },
  {
   "cell_type": "code",
   "execution_count": 34,
   "metadata": {
    "id": "v6LUCRSQwGwl"
   },
   "outputs": [],
   "source": [
    "# 코드를 입력해 주세요\n",
    "pred = model.predict(x_test)"
   ]
  },
  {
   "cell_type": "code",
   "execution_count": 35,
   "metadata": {
    "scrolled": false
   },
   "outputs": [
    {
     "data": {
      "image/png": "[encoded data removed]",
      "text/plain": [
       "<Figure size 864x720 with 1 Axes>"
      ]
     },
     "metadata": {
      "needs_background": "light"
     },
     "output_type": "display_data"
    },
    {
     "data": {
      "text/html": [
       "<div>\n",
       "<style scoped>\n",
       "    .dataframe tbody tr th:only-of-type {\n",
       "        vertical-align: middle;\n",
       "    }\n",
       "\n",
       "    .dataframe tbody tr th {\n",
       "        vertical-align: top;\n",
       "    }\n",
       "\n",
       "    .dataframe thead th {\n",
       "        text-align: right;\n",
       "    }\n",
       "</style>\n",
       "<table border=\"1\" class=\"dataframe\">\n",
       "  <thead>\n",
       "    <tr style=\"text-align: right;\">\n",
       "      <th></th>\n",
       "      <th>model</th>\n",
       "      <th>error</th>\n",
       "    </tr>\n",
       "  </thead>\n",
       "  <tbody>\n",
       "    <tr>\n",
       "      <th>0</th>\n",
       "      <td>LinearRegression</td>\n",
       "      <td>16.485165</td>\n",
       "    </tr>\n",
       "  </tbody>\n",
       "</table>\n",
       "</div>"
      ],
      "text/plain": [
       "              model      error\n",
       "0  LinearRegression  16.485165"
      ]
     },
     "metadata": {},
     "output_type": "display_data"
    },
    {
     "data": {
      "image/png": "[encoded data removed]",
      "text/plain": [
       "<Figure size 720x36 with 1 Axes>"
      ]
     },
     "metadata": {
      "needs_background": "light"
     },
     "output_type": "display_data"
    }
   ],
   "source": [
    "utils.plot_error('LinearRegression', y_test, pred)"
   ]
  },
  {
   "cell_type": "markdown",
   "metadata": {
    "id": "2f9ZKMb0yDF7"
   },
   "source": [
    "## 규제 (Regularization)"
   ]
  },
  {
   "cell_type": "markdown",
   "metadata": {
    "id": "7Jk-33W9yKU7"
   },
   "source": [
    "학습이 과대적합 되는 것을 방지하고자 일종의 **penalty**를 부여하는 것"
   ]
  },
  {
   "cell_type": "markdown",
   "metadata": {
    "id": "dyYZmpMiygqu"
   },
   "source": [
    "**L2 규제 (L2 Regularization)**\n",
    "\n",
    "* 각 가중치 제곱의 합에 규제 강도(Regularization Strength) α를 곱한다. \n",
    "* α를 크게 하면 가중치가 더 많이 감소되고(규제를 중요시함), α를 작게 하면 가중치가 증가한다(규제를 중요시하지 않음).\n",
    "\n",
    "**L1 규제 (L1 Regularization)**\n",
    "\n",
    "* 가중치의 제곱의 합이 아닌 **가중치의 합**을 더한 값에 규제 강도(Regularization Strength) α를 곱하여 오차에 더한다. \n",
    "* 어떤 가중치(w)는 실제로 0이 된다. 즉, 모델에서 완전히 제외되는 특성이 생기는 것이다. \n",
    "\n",
    "\n",
    "**L2 규제가 L1 규제에 비해 더 안정적이라 일반적으로는 L2규제가 더 많이 사용된다**"
   ]
  },
  {
   "cell_type": "markdown",
   "metadata": {
    "id": "Jzxz9aa6kNYO"
   },
   "source": [
    "### Ridge (L2 Regularization)"
   ]
  },
  {
   "cell_type": "markdown",
   "metadata": {
    "id": "dFXahp0tkNYO"
   },
   "source": [
    "- L2 규제 계수를 적용합니다. \n",
    "- 선형회귀에 가중치 (weight)들의 제곱합에 대한 최소화를 추가합니다.\n",
    "\n",
    "**주요 hyperparameter**\n",
    "- `alpha`: 규제 계수\n",
    "\n",
    "**수식**\n",
    "\n",
    "`α`는 규제 계수(강도)를 의미합니다.\n",
    "\n",
    "$\\Large Error=MSE+α\\sum_{i=1}^{n}{w_i^2}$ "
   ]
  },
  {
   "cell_type": "code",
   "execution_count": 36,
   "metadata": {
    "id": "c0kYJuLDFWra"
   },
   "outputs": [],
   "source": [
    "from sklearn.linear_model import Ridge"
   ]
  },
  {
   "cell_type": "markdown",
   "metadata": {
    "id": "Ebc1YuwQkNYQ"
   },
   "source": [
    "**규제 계수(alpha)**를 정의합니다."
   ]
  },
  {
   "cell_type": "code",
   "execution_count": 37,
   "metadata": {
    "id": "nP23iV4k2LvN"
   },
   "outputs": [],
   "source": [
    "# 값이 커질 수록 큰 규제입니다.\n",
    "alphas = [100, 10, 1, 0.1, 0.01, 0.001, 0.0001]"
   ]
  },
  {
   "cell_type": "code",
   "execution_count": 38,
   "metadata": {
    "colab": {
     "base_uri": "https://localhost:8080/",
     "height": 1000
    },
    "id": "gyNqasVUPpoV",
    "outputId": "381dd1b0-46cf-43d5-dc7d-168e0dfac5b3"
   },
   "outputs": [
    {
     "data": {
      "text/html": [
       "<div>\n",
       "<style scoped>\n",
       "    .dataframe tbody tr th:only-of-type {\n",
       "        vertical-align: middle;\n",
       "    }\n",
       "\n",
       "    .dataframe tbody tr th {\n",
       "        vertical-align: top;\n",
       "    }\n",
       "\n",
       "    .dataframe thead th {\n",
       "        text-align: right;\n",
       "    }\n",
       "</style>\n",
       "<table border=\"1\" class=\"dataframe\">\n",
       "  <thead>\n",
       "    <tr style=\"text-align: right;\">\n",
       "      <th></th>\n",
       "      <th>model</th>\n",
       "      <th>error</th>\n",
       "    </tr>\n",
       "  </thead>\n",
       "  <tbody>\n",
       "    <tr>\n",
       "      <th>0</th>\n",
       "      <td>Ridge(alpha=100)</td>\n",
       "      <td>18.018382</td>\n",
       "    </tr>\n",
       "    <tr>\n",
       "      <th>1</th>\n",
       "      <td>Ridge(alpha=10)</td>\n",
       "      <td>17.068408</td>\n",
       "    </tr>\n",
       "    <tr>\n",
       "      <th>2</th>\n",
       "      <td>Ridge(alpha=1)</td>\n",
       "      <td>16.652412</td>\n",
       "    </tr>\n",
       "    <tr>\n",
       "      <th>3</th>\n",
       "      <td>LinearRegression</td>\n",
       "      <td>16.485165</td>\n",
       "    </tr>\n",
       "    <tr>\n",
       "      <th>4</th>\n",
       "      <td>Ridge(alpha=0.0001)</td>\n",
       "      <td>16.485151</td>\n",
       "    </tr>\n",
       "    <tr>\n",
       "      <th>5</th>\n",
       "      <td>Ridge(alpha=0.001)</td>\n",
       "      <td>16.485020</td>\n",
       "    </tr>\n",
       "    <tr>\n",
       "      <th>6</th>\n",
       "      <td>Ridge(alpha=0.01)</td>\n",
       "      <td>16.483801</td>\n",
       "    </tr>\n",
       "    <tr>\n",
       "      <th>7</th>\n",
       "      <td>Ridge(alpha=0.1)</td>\n",
       "      <td>16.479483</td>\n",
       "    </tr>\n",
       "  </tbody>\n",
       "</table>\n",
       "</div>"
      ],
      "text/plain": [
       "                 model      error\n",
       "0     Ridge(alpha=100)  18.018382\n",
       "1      Ridge(alpha=10)  17.068408\n",
       "2       Ridge(alpha=1)  16.652412\n",
       "3     LinearRegression  16.485165\n",
       "4  Ridge(alpha=0.0001)  16.485151\n",
       "5   Ridge(alpha=0.001)  16.485020\n",
       "6    Ridge(alpha=0.01)  16.483801\n",
       "7     Ridge(alpha=0.1)  16.479483"
      ]
     },
     "metadata": {},
     "output_type": "display_data"
    },
    {
     "data": {
      "image/png": "[encoded data removed]",
      "text/plain": [
       "<Figure size 720x288 with 1 Axes>"
      ]
     },
     "metadata": {
      "needs_background": "light"
     },
     "output_type": "display_data"
    }
   ],
   "source": [
    "for alpha in alphas:\n",
    "    # 코드를 입력해 주세요\n",
    "    ridge = Ridge(alpha=alpha, random_state=SEED)\n",
    "    ridge.fit(x_train, y_train)\n",
    "    pred = ridge.predict(x_test)\n",
    "    utils.add_error('Ridge(alpha={})'.format(alpha), y_test, pred)\n",
    "utils.plot_all()"
   ]
  },
  {
   "cell_type": "markdown",
   "metadata": {
    "id": "WU0i4_hgkNYT"
   },
   "source": [
    "coef_는 **feature의 가중치**를 보여줍니다.\n",
    "\n",
    "가중치(weight)를 토대로 회귀 예측시 어떤 feature가 주요하게 영향을 미쳤는지 보여 줍니다."
   ]
  },
  {
   "cell_type": "code",
   "execution_count": 39,
   "metadata": {
    "colab": {
     "base_uri": "https://localhost:8080/",
     "height": 69
    },
    "id": "3L-aBBrXVbw8",
    "outputId": "bbe599cd-755b-4818-a0df-f164844e7df3"
   },
   "outputs": [
    {
     "data": {
      "text/plain": [
       "Index(['CRIM', 'ZN', 'INDUS', 'CHAS', 'NOX', 'RM', 'AGE', 'DIS', 'RAD', 'TAX',\n",
       "       'PTRATIO', 'B', 'LSTAT'],\n",
       "      dtype='object')"
      ]
     },
     "execution_count": 39,
     "metadata": {},
     "output_type": "execute_result"
    }
   ],
   "source": [
    "x_train.columns"
   ]
  },
  {
   "cell_type": "code",
   "execution_count": 40,
   "metadata": {
    "colab": {
     "base_uri": "https://localhost:8080/",
     "height": 86
    },
    "id": "QrwNwaZNVXzA",
    "outputId": "fda12bed-1fed-4bc9-ef31-dc0b96edcaa1"
   },
   "outputs": [
    {
     "data": {
      "text/plain": [
       "array([ -0.115,   0.04 ,  -0.003,   3.487, -18.012,   3.729,   0.005,\n",
       "        -1.529,   0.325,  -0.013,  -0.957,   0.006,  -0.557])"
      ]
     },
     "execution_count": 40,
     "metadata": {},
     "output_type": "execute_result"
    }
   ],
   "source": [
    "ridge.coef_"
   ]
  },
  {
   "cell_type": "markdown",
   "metadata": {
    "id": "Ek9-q42OkNYX"
   },
   "source": [
    "**DataFrame**으로 feature별 가중치를 시각화 합니다."
   ]
  },
  {
   "cell_type": "code",
   "execution_count": 41,
   "metadata": {
    "id": "Nl8E5KhMkNYX",
    "outputId": "70baa19c-42b4-48c0-aec0-6ee1bb849928"
   },
   "outputs": [
    {
     "data": {
      "text/html": [
       "<div>\n",
       "<style scoped>\n",
       "    .dataframe tbody tr th:only-of-type {\n",
       "        vertical-align: middle;\n",
       "    }\n",
       "\n",
       "    .dataframe tbody tr th {\n",
       "        vertical-align: top;\n",
       "    }\n",
       "\n",
       "    .dataframe thead th {\n",
       "        text-align: right;\n",
       "    }\n",
       "</style>\n",
       "<table border=\"1\" class=\"dataframe\">\n",
       "  <thead>\n",
       "    <tr style=\"text-align: right;\">\n",
       "      <th></th>\n",
       "      <th>features</th>\n",
       "      <th>importances</th>\n",
       "    </tr>\n",
       "  </thead>\n",
       "  <tbody>\n",
       "    <tr>\n",
       "      <th>4</th>\n",
       "      <td>NOX</td>\n",
       "      <td>-18.012494</td>\n",
       "    </tr>\n",
       "    <tr>\n",
       "      <th>7</th>\n",
       "      <td>DIS</td>\n",
       "      <td>-1.529399</td>\n",
       "    </tr>\n",
       "    <tr>\n",
       "      <th>10</th>\n",
       "      <td>PTRATIO</td>\n",
       "      <td>-0.957246</td>\n",
       "    </tr>\n",
       "    <tr>\n",
       "      <th>12</th>\n",
       "      <td>LSTAT</td>\n",
       "      <td>-0.557350</td>\n",
       "    </tr>\n",
       "    <tr>\n",
       "      <th>0</th>\n",
       "      <td>CRIM</td>\n",
       "      <td>-0.114736</td>\n",
       "    </tr>\n",
       "    <tr>\n",
       "      <th>9</th>\n",
       "      <td>TAX</td>\n",
       "      <td>-0.013134</td>\n",
       "    </tr>\n",
       "    <tr>\n",
       "      <th>2</th>\n",
       "      <td>INDUS</td>\n",
       "      <td>-0.002879</td>\n",
       "    </tr>\n",
       "    <tr>\n",
       "      <th>6</th>\n",
       "      <td>AGE</td>\n",
       "      <td>0.004546</td>\n",
       "    </tr>\n",
       "    <tr>\n",
       "      <th>11</th>\n",
       "      <td>B</td>\n",
       "      <td>0.006369</td>\n",
       "    </tr>\n",
       "    <tr>\n",
       "      <th>1</th>\n",
       "      <td>ZN</td>\n",
       "      <td>0.040452</td>\n",
       "    </tr>\n",
       "    <tr>\n",
       "      <th>8</th>\n",
       "      <td>RAD</td>\n",
       "      <td>0.324793</td>\n",
       "    </tr>\n",
       "    <tr>\n",
       "      <th>3</th>\n",
       "      <td>CHAS</td>\n",
       "      <td>3.486692</td>\n",
       "    </tr>\n",
       "    <tr>\n",
       "      <th>5</th>\n",
       "      <td>RM</td>\n",
       "      <td>3.728917</td>\n",
       "    </tr>\n",
       "  </tbody>\n",
       "</table>\n",
       "</div>"
      ],
      "text/plain": [
       "   features  importances\n",
       "4       NOX   -18.012494\n",
       "7       DIS    -1.529399\n",
       "10  PTRATIO    -0.957246\n",
       "12    LSTAT    -0.557350\n",
       "0      CRIM    -0.114736\n",
       "9       TAX    -0.013134\n",
       "2     INDUS    -0.002879\n",
       "6       AGE     0.004546\n",
       "11        B     0.006369\n",
       "1        ZN     0.040452\n",
       "8       RAD     0.324793\n",
       "3      CHAS     3.486692\n",
       "5        RM     3.728917"
      ]
     },
     "execution_count": 41,
     "metadata": {},
     "output_type": "execute_result"
    }
   ],
   "source": [
    "# 코드를 입력해 주세요\n",
    "pd.DataFrame(list(zip(x_train.columns, ridge.coef_)), columns=['features', 'importances']).sort_values('importances')"
   ]
  },
  {
   "cell_type": "code",
   "execution_count": 42,
   "metadata": {
    "id": "_oCb4WP2BFHH"
   },
   "outputs": [],
   "source": [
    "def plot_coef(columns, coef):\n",
    "    coef_df = pd.DataFrame(list(zip(columns, coef)))\n",
    "    coef_df.columns=['feature', 'coef']\n",
    "    coef_df = coef_df.sort_values('coef', ascending=False).reset_index(drop=True)\n",
    "    \n",
    "    fig, ax = plt.subplots(figsize=(9, 7))\n",
    "    ax.barh(np.arange(len(coef_df)), coef_df['coef'])\n",
    "    idx = np.arange(len(coef_df))\n",
    "    ax.set_yticks(idx)\n",
    "    ax.set_yticklabels(coef_df['feature'])\n",
    "    fig.tight_layout()\n",
    "    plt.show()"
   ]
  },
  {
   "cell_type": "code",
   "execution_count": 43,
   "metadata": {
    "colab": {
     "base_uri": "https://localhost:8080/",
     "height": 513
    },
    "id": "AUu91h5XVkOZ",
    "outputId": "83431861-008b-45e8-f8d8-da67e6d355b4"
   },
   "outputs": [
    {
     "data": {
      "image/png": "[encoded data removed]",
      "text/plain": [
       "<Figure size 648x504 with 1 Axes>"
      ]
     },
     "metadata": {
      "needs_background": "light"
     },
     "output_type": "display_data"
    }
   ],
   "source": [
    "plot_coef(x_train.columns, ridge.coef_)"
   ]
  },
  {
   "cell_type": "markdown",
   "metadata": {
    "id": "Afbm9a5OBxam"
   },
   "source": [
    "이번에는, **alpha 값에 따른 coef 의 차이**를 확인해 봅시다"
   ]
  },
  {
   "cell_type": "code",
   "execution_count": 44,
   "metadata": {
    "id": "h66krYLHBYPC"
   },
   "outputs": [],
   "source": [
    "ridge_100 = Ridge(alpha=100)\n",
    "ridge_100.fit(x_train, y_train)\n",
    "ridge_pred_100 = ridge_100.predict(x_test)\n",
    "\n",
    "ridge_001 = Ridge(alpha=0.001)\n",
    "ridge_001.fit(x_train, y_train)\n",
    "ridge_pred_001 = ridge_001.predict(x_test)"
   ]
  },
  {
   "cell_type": "code",
   "execution_count": 45,
   "metadata": {
    "colab": {
     "base_uri": "https://localhost:8080/",
     "height": 513
    },
    "id": "BUGdFft2BF1v",
    "outputId": "455d494e-f2d0-454b-f531-c1871cbf8105"
   },
   "outputs": [
    {
     "data": {
      "image/png": "[encoded data removed]",
      "text/plain": [
       "<Figure size 648x504 with 1 Axes>"
      ]
     },
     "metadata": {
      "needs_background": "light"
     },
     "output_type": "display_data"
    }
   ],
   "source": [
    "plot_coef(x_train.columns, ridge_100.coef_)"
   ]
  },
  {
   "cell_type": "code",
   "execution_count": 46,
   "metadata": {
    "colab": {
     "base_uri": "https://localhost:8080/",
     "height": 513
    },
    "id": "SlMEr3WcBo2s",
    "outputId": "69c29313-16ac-41fb-b662-3f95090f90db"
   },
   "outputs": [
    {
     "data": {
      "image/png": "[encoded data removed]",
      "text/plain": [
       "<Figure size 648x504 with 1 Axes>"
      ]
     },
     "metadata": {
      "needs_background": "light"
     },
     "output_type": "display_data"
    }
   ],
   "source": [
    "plot_coef(x_train.columns, ridge_001.coef_)"
   ]
  },
  {
   "cell_type": "markdown",
   "metadata": {
    "id": "O97OMy0xkNYk"
   },
   "source": [
    "### Lasso (L1 Regularization)"
   ]
  },
  {
   "cell_type": "markdown",
   "metadata": {
    "id": "JAkWKkUWkNYk"
   },
   "source": [
    "Lasso(Least Absolute Shrinkage and Selection Operator)\n",
    "\n",
    "- 선형 회귀에 L1 규제 계수를 적용합니다.\n",
    "- 가중치(weight)의 절대 값의 합을 최소화 하는 계수를 추가 합니다.\n",
    "- 불필요한 회귀 계수를 급격히 감소, 0으로 만들어 제거합니다.\n",
    "- 특성(Feature) 선택에 유리합니다.\n",
    "\n",
    "**주요 hyperparameter**\n",
    "- `alpha`: L1 규제 계수\n",
    "\n",
    "**수식**  \n",
    "\n",
    "`α`는 규제 계수(강도)를 의미합니다.\n",
    "\n",
    "$\\Large Error=MSE+α\\sum_{i=1}^{n}{|w_i|}$"
   ]
  },
  {
   "cell_type": "code",
   "execution_count": 47,
   "metadata": {
    "id": "O4qZl2fgPwL-"
   },
   "outputs": [],
   "source": [
    "from sklearn.linear_model import Lasso"
   ]
  },
  {
   "cell_type": "code",
   "execution_count": 48,
   "metadata": {
    "id": "h91GFyKjQC26"
   },
   "outputs": [],
   "source": [
    "# 값이 커질 수록 큰 규제입니다.\n",
    "alphas = [100, 10, 1, 0.1, 0.01, 0.001, 0.0001]"
   ]
  },
  {
   "cell_type": "code",
   "execution_count": 49,
   "metadata": {
    "colab": {
     "base_uri": "https://localhost:8080/",
     "height": 1000
    },
    "id": "a6YRIuAM6Njw",
    "outputId": "2e35259c-6820-43b0-8cd1-799e7bfadf10"
   },
   "outputs": [
    {
     "data": {
      "text/html": [
       "<div>\n",
       "<style scoped>\n",
       "    .dataframe tbody tr th:only-of-type {\n",
       "        vertical-align: middle;\n",
       "    }\n",
       "\n",
       "    .dataframe tbody tr th {\n",
       "        vertical-align: top;\n",
       "    }\n",
       "\n",
       "    .dataframe thead th {\n",
       "        text-align: right;\n",
       "    }\n",
       "</style>\n",
       "<table border=\"1\" class=\"dataframe\">\n",
       "  <thead>\n",
       "    <tr style=\"text-align: right;\">\n",
       "      <th></th>\n",
       "      <th>model</th>\n",
       "      <th>error</th>\n",
       "    </tr>\n",
       "  </thead>\n",
       "  <tbody>\n",
       "    <tr>\n",
       "      <th>0</th>\n",
       "      <td>Lasso(alpha=100)</td>\n",
       "      <td>48.725206</td>\n",
       "    </tr>\n",
       "    <tr>\n",
       "      <th>1</th>\n",
       "      <td>Lasso(alpha=10)</td>\n",
       "      <td>27.146245</td>\n",
       "    </tr>\n",
       "    <tr>\n",
       "      <th>2</th>\n",
       "      <td>Lasso(alpha=1)</td>\n",
       "      <td>19.882302</td>\n",
       "    </tr>\n",
       "    <tr>\n",
       "      <th>3</th>\n",
       "      <td>Ridge(alpha=100)</td>\n",
       "      <td>18.018382</td>\n",
       "    </tr>\n",
       "    <tr>\n",
       "      <th>4</th>\n",
       "      <td>Lasso(alpha=0.1)</td>\n",
       "      <td>17.083615</td>\n",
       "    </tr>\n",
       "    <tr>\n",
       "      <th>5</th>\n",
       "      <td>Ridge(alpha=10)</td>\n",
       "      <td>17.068408</td>\n",
       "    </tr>\n",
       "    <tr>\n",
       "      <th>6</th>\n",
       "      <td>Ridge(alpha=1)</td>\n",
       "      <td>16.652412</td>\n",
       "    </tr>\n",
       "    <tr>\n",
       "      <th>7</th>\n",
       "      <td>LinearRegression</td>\n",
       "      <td>16.485165</td>\n",
       "    </tr>\n",
       "    <tr>\n",
       "      <th>8</th>\n",
       "      <td>Ridge(alpha=0.0001)</td>\n",
       "      <td>16.485151</td>\n",
       "    </tr>\n",
       "    <tr>\n",
       "      <th>9</th>\n",
       "      <td>Ridge(alpha=0.001)</td>\n",
       "      <td>16.485020</td>\n",
       "    </tr>\n",
       "    <tr>\n",
       "      <th>10</th>\n",
       "      <td>Lasso(alpha=0.0001)</td>\n",
       "      <td>16.484261</td>\n",
       "    </tr>\n",
       "    <tr>\n",
       "      <th>11</th>\n",
       "      <td>Ridge(alpha=0.01)</td>\n",
       "      <td>16.483801</td>\n",
       "    </tr>\n",
       "    <tr>\n",
       "      <th>12</th>\n",
       "      <td>Ridge(alpha=0.1)</td>\n",
       "      <td>16.479483</td>\n",
       "    </tr>\n",
       "    <tr>\n",
       "      <th>13</th>\n",
       "      <td>Lasso(alpha=0.001)</td>\n",
       "      <td>16.476551</td>\n",
       "    </tr>\n",
       "    <tr>\n",
       "      <th>14</th>\n",
       "      <td>Lasso(alpha=0.01)</td>\n",
       "      <td>16.441822</td>\n",
       "    </tr>\n",
       "  </tbody>\n",
       "</table>\n",
       "</div>"
      ],
      "text/plain": [
       "                  model      error\n",
       "0      Lasso(alpha=100)  48.725206\n",
       "1       Lasso(alpha=10)  27.146245\n",
       "2        Lasso(alpha=1)  19.882302\n",
       "3      Ridge(alpha=100)  18.018382\n",
       "4      Lasso(alpha=0.1)  17.083615\n",
       "5       Ridge(alpha=10)  17.068408\n",
       "6        Ridge(alpha=1)  16.652412\n",
       "7      LinearRegression  16.485165\n",
       "8   Ridge(alpha=0.0001)  16.485151\n",
       "9    Ridge(alpha=0.001)  16.485020\n",
       "10  Lasso(alpha=0.0001)  16.484261\n",
       "11    Ridge(alpha=0.01)  16.483801\n",
       "12     Ridge(alpha=0.1)  16.479483\n",
       "13   Lasso(alpha=0.001)  16.476551\n",
       "14    Lasso(alpha=0.01)  16.441822"
      ]
     },
     "metadata": {},
     "output_type": "display_data"
    },
    {
     "data": {
      "image/png": "[encoded data removed]",
      "text/plain": [
       "<Figure size 720x540 with 1 Axes>"
      ]
     },
     "metadata": {
      "needs_background": "light"
     },
     "output_type": "display_data"
    }
   ],
   "source": [
    "for alpha in alphas:\n",
    "    # 코드를 입력해 주세요\n",
    "    lasso = Lasso(alpha=alpha)\n",
    "    lasso.fit(x_train, y_train)\n",
    "    pred = lasso.predict(x_test)\n",
    "    utils.add_error('Lasso(alpha={})'.format(alpha), y_test, pred)\n",
    "utils.plot_all()"
   ]
  },
  {
   "cell_type": "code",
   "execution_count": 50,
   "metadata": {
    "id": "jA-PG4oa8tPe"
   },
   "outputs": [],
   "source": [
    "lasso_100 = Lasso(alpha=100)\n",
    "lasso_100.fit(x_train, y_train)\n",
    "lasso_pred_100 = lasso_100.predict(x_test)\n",
    "\n",
    "lasso_001 = Lasso(alpha=0.001)\n",
    "lasso_001.fit(x_train, y_train)\n",
    "lasso_pred_001 = lasso_001.predict(x_test)"
   ]
  },
  {
   "cell_type": "code",
   "execution_count": 51,
   "metadata": {
    "id": "iMxH7RJzkNYr",
    "outputId": "c015dca1-b939-4ed1-e7c9-e7a67edd570b"
   },
   "outputs": [
    {
     "data": {
      "image/png": "[encoded data removed]",
      "text/plain": [
       "<Figure size 648x504 with 1 Axes>"
      ]
     },
     "metadata": {
      "needs_background": "light"
     },
     "output_type": "display_data"
    }
   ],
   "source": [
    "plot_coef(x_train.columns, lasso_001.coef_)"
   ]
  },
  {
   "cell_type": "code",
   "execution_count": 52,
   "metadata": {
    "id": "h-oMCpjskNYt",
    "outputId": "ce975c8c-225f-4186-f613-e7e0b603c106"
   },
   "outputs": [
    {
     "data": {
      "text/plain": [
       "array([ -0.115,   0.04 ,  -0.004,   3.468, -17.66 ,   3.73 ,   0.004,\n",
       "        -1.523,   0.324,  -0.013,  -0.954,   0.006,  -0.558])"
      ]
     },
     "execution_count": 52,
     "metadata": {},
     "output_type": "execute_result"
    }
   ],
   "source": [
    "lasso_001.coef_"
   ]
  },
  {
   "cell_type": "markdown",
   "metadata": {
    "id": "eVIrTVDAkNYv"
   },
   "source": [
    "Lasso 모델에 너무 큰 alpha 계수를 적용하면 **대부분의 feature들의 가중치가 0으로 수렴**합니다."
   ]
  },
  {
   "cell_type": "code",
   "execution_count": 53,
   "metadata": {
    "colab": {
     "base_uri": "https://localhost:8080/",
     "height": 513
    },
    "id": "adwyzjHUCDca",
    "outputId": "7a267133-162c-49ac-ec73-ab77b34c032b"
   },
   "outputs": [
    {
     "data": {
      "image/png": "[encoded data removed]",
      "text/plain": [
       "<Figure size 648x504 with 1 Axes>"
      ]
     },
     "metadata": {
      "needs_background": "light"
     },
     "output_type": "display_data"
    }
   ],
   "source": [
    "plot_coef(x_train.columns, lasso_100.coef_)"
   ]
  },
  {
   "cell_type": "code",
   "execution_count": 54,
   "metadata": {
    "colab": {
     "base_uri": "https://localhost:8080/",
     "height": 69
    },
    "id": "nnbJmbXMCP2n",
    "outputId": "54b42224-4676-42bb-b338-818314f8617e"
   },
   "outputs": [
    {
     "data": {
      "text/plain": [
       "array([-0.   ,  0.   , -0.   ,  0.   , -0.   ,  0.   , -0.   ,  0.   ,\n",
       "        0.   , -0.022, -0.   ,  0.004, -0.   ])"
      ]
     },
     "execution_count": 54,
     "metadata": {},
     "output_type": "execute_result"
    }
   ],
   "source": [
    "lasso_100.coef_"
   ]
  },
  {
   "cell_type": "markdown",
   "metadata": {
    "id": "Wn8VQi7aXhm0"
   },
   "source": [
    "### ElasticNet"
   ]
  },
  {
   "cell_type": "markdown",
   "metadata": {
    "id": "2rkmgm5EkNYy"
   },
   "source": [
    "Elastic Net 회귀모형은 **가중치의 절대값의 합(L1)과 제곱합(L2)을 동시에** 제약 조건으로 가지는 모형입니다."
   ]
  },
  {
   "cell_type": "code",
   "execution_count": 55,
   "metadata": {
    "id": "Oq-oKelfkNYy",
    "outputId": "6bbd1b90-3435-428b-c741-8a74723e775e"
   },
   "outputs": [
    {
     "data": {
      "text/html": [
       "<img src=\"https://miro.medium.com/max/1312/1*j_DDK7LbVrejTq0tfmavAA.png\" width=\"500\"/>"
      ],
      "text/plain": [
       "<IPython.core.display.Image object>"
      ]
     },
     "execution_count": 55,
     "metadata": {},
     "output_type": "execute_result"
    }
   ],
   "source": [
    "Image(url='https://miro.medium.com/max/1312/1*j_DDK7LbVrejTq0tfmavAA.png', width=500)"
   ]
  },
  {
   "cell_type": "markdown",
   "metadata": {
    "id": "6nSlkggjP3B3"
   },
   "source": [
    "**주요 hyperparameter**\n",
    "\n",
    "`alpha`: 규제 계수\n",
    "\n",
    "`l1_ratio (default=0.5)`\n",
    "\n",
    "- l1_ratio = 0 (L2 규제만 사용). \n",
    "- l1_ratio = 1 (L1 규제만 사용). \n",
    "- 0 < l1_ratio < 1 (L1 and L2 규제의 혼합사용)"
   ]
  },
  {
   "cell_type": "code",
   "execution_count": 56,
   "metadata": {
    "id": "Aj7V6TUX9Njl"
   },
   "outputs": [],
   "source": [
    "from sklearn.linear_model import ElasticNet"
   ]
  },
  {
   "cell_type": "code",
   "execution_count": 57,
   "metadata": {
    "id": "VuxqAPAL9QOK"
   },
   "outputs": [],
   "source": [
    "alpha=0.01\n",
    "ratios = [0.2, 0.5, 0.8]"
   ]
  },
  {
   "cell_type": "code",
   "execution_count": 58,
   "metadata": {
    "colab": {
     "base_uri": "https://localhost:8080/",
     "height": 1000
    },
    "id": "RCALSJR28aA8",
    "outputId": "62748381-3993-4421-86c5-d6b952c94666"
   },
   "outputs": [
    {
     "data": {
      "text/html": [
       "<div>\n",
       "<style scoped>\n",
       "    .dataframe tbody tr th:only-of-type {\n",
       "        vertical-align: middle;\n",
       "    }\n",
       "\n",
       "    .dataframe tbody tr th {\n",
       "        vertical-align: top;\n",
       "    }\n",
       "\n",
       "    .dataframe thead th {\n",
       "        text-align: right;\n",
       "    }\n",
       "</style>\n",
       "<table border=\"1\" class=\"dataframe\">\n",
       "  <thead>\n",
       "    <tr style=\"text-align: right;\">\n",
       "      <th></th>\n",
       "      <th>model</th>\n",
       "      <th>error</th>\n",
       "    </tr>\n",
       "  </thead>\n",
       "  <tbody>\n",
       "    <tr>\n",
       "      <th>0</th>\n",
       "      <td>Lasso(alpha=100)</td>\n",
       "      <td>48.725206</td>\n",
       "    </tr>\n",
       "    <tr>\n",
       "      <th>1</th>\n",
       "      <td>Lasso(alpha=10)</td>\n",
       "      <td>27.146245</td>\n",
       "    </tr>\n",
       "    <tr>\n",
       "      <th>2</th>\n",
       "      <td>Lasso(alpha=1)</td>\n",
       "      <td>19.882302</td>\n",
       "    </tr>\n",
       "    <tr>\n",
       "      <th>3</th>\n",
       "      <td>Ridge(alpha=100)</td>\n",
       "      <td>18.018382</td>\n",
       "    </tr>\n",
       "    <tr>\n",
       "      <th>4</th>\n",
       "      <td>Lasso(alpha=0.1)</td>\n",
       "      <td>17.083615</td>\n",
       "    </tr>\n",
       "    <tr>\n",
       "      <th>5</th>\n",
       "      <td>Ridge(alpha=10)</td>\n",
       "      <td>17.068408</td>\n",
       "    </tr>\n",
       "    <tr>\n",
       "      <th>6</th>\n",
       "      <td>ElasticNet(l1_ratio=0.2)</td>\n",
       "      <td>16.914638</td>\n",
       "    </tr>\n",
       "    <tr>\n",
       "      <th>7</th>\n",
       "      <td>ElasticNet(l1_ratio=0.5)</td>\n",
       "      <td>16.822431</td>\n",
       "    </tr>\n",
       "    <tr>\n",
       "      <th>8</th>\n",
       "      <td>Ridge(alpha=1)</td>\n",
       "      <td>16.652412</td>\n",
       "    </tr>\n",
       "    <tr>\n",
       "      <th>9</th>\n",
       "      <td>ElasticNet(l1_ratio=0.8)</td>\n",
       "      <td>16.638817</td>\n",
       "    </tr>\n",
       "    <tr>\n",
       "      <th>10</th>\n",
       "      <td>LinearRegression</td>\n",
       "      <td>16.485165</td>\n",
       "    </tr>\n",
       "    <tr>\n",
       "      <th>11</th>\n",
       "      <td>Ridge(alpha=0.0001)</td>\n",
       "      <td>16.485151</td>\n",
       "    </tr>\n",
       "    <tr>\n",
       "      <th>12</th>\n",
       "      <td>Ridge(alpha=0.001)</td>\n",
       "      <td>16.485020</td>\n",
       "    </tr>\n",
       "    <tr>\n",
       "      <th>13</th>\n",
       "      <td>Lasso(alpha=0.0001)</td>\n",
       "      <td>16.484261</td>\n",
       "    </tr>\n",
       "    <tr>\n",
       "      <th>14</th>\n",
       "      <td>Ridge(alpha=0.01)</td>\n",
       "      <td>16.483801</td>\n",
       "    </tr>\n",
       "    <tr>\n",
       "      <th>15</th>\n",
       "      <td>Ridge(alpha=0.1)</td>\n",
       "      <td>16.479483</td>\n",
       "    </tr>\n",
       "    <tr>\n",
       "      <th>16</th>\n",
       "      <td>Lasso(alpha=0.001)</td>\n",
       "      <td>16.476551</td>\n",
       "    </tr>\n",
       "    <tr>\n",
       "      <th>17</th>\n",
       "      <td>Lasso(alpha=0.01)</td>\n",
       "      <td>16.441822</td>\n",
       "    </tr>\n",
       "  </tbody>\n",
       "</table>\n",
       "</div>"
      ],
      "text/plain": [
       "                       model      error\n",
       "0           Lasso(alpha=100)  48.725206\n",
       "1            Lasso(alpha=10)  27.146245\n",
       "2             Lasso(alpha=1)  19.882302\n",
       "3           Ridge(alpha=100)  18.018382\n",
       "4           Lasso(alpha=0.1)  17.083615\n",
       "5            Ridge(alpha=10)  17.068408\n",
       "6   ElasticNet(l1_ratio=0.2)  16.914638\n",
       "7   ElasticNet(l1_ratio=0.5)  16.822431\n",
       "8             Ridge(alpha=1)  16.652412\n",
       "9   ElasticNet(l1_ratio=0.8)  16.638817\n",
       "10          LinearRegression  16.485165\n",
       "11       Ridge(alpha=0.0001)  16.485151\n",
       "12        Ridge(alpha=0.001)  16.485020\n",
       "13       Lasso(alpha=0.0001)  16.484261\n",
       "14         Ridge(alpha=0.01)  16.483801\n",
       "15          Ridge(alpha=0.1)  16.479483\n",
       "16        Lasso(alpha=0.001)  16.476551\n",
       "17         Lasso(alpha=0.01)  16.441822"
      ]
     },
     "metadata": {},
     "output_type": "display_data"
    },
    {
     "data": {
      "image/png": "[encoded data removed]",
      "text/plain": [
       "<Figure size 720x648 with 1 Axes>"
      ]
     },
     "metadata": {
      "needs_background": "light"
     },
     "output_type": "display_data"
    }
   ],
   "source": [
    "for ratio in ratios:\n",
    "    # 코드를 입력해 주세요\n",
    "    elasticnet = ElasticNet(alpha=alpha, l1_ratio=ratio, random_state=SEED)\n",
    "    elasticnet.fit(x_train, y_train)\n",
    "    pred = elasticnet.predict(x_test)\n",
    "    utils.add_error('ElasticNet(l1_ratio={})'.format(ratio), y_test, pred)\n",
    "utils.plot_all()"
   ]
  },
  {
   "cell_type": "code",
   "execution_count": 59,
   "metadata": {
    "id": "RSg2_5bnA8hP"
   },
   "outputs": [],
   "source": [
    "elsticnet_20 = ElasticNet(alpha=5, l1_ratio=0.2)\n",
    "elsticnet_20.fit(x_train, y_train)\n",
    "elasticnet_pred_20 = elsticnet_20.predict(x_test)\n",
    "\n",
    "elsticnet_80 = ElasticNet(alpha=5, l1_ratio=0.8)\n",
    "elsticnet_80.fit(x_train, y_train)\n",
    "elasticnet_pred_80 = elsticnet_80.predict(x_test)"
   ]
  },
  {
   "cell_type": "code",
   "execution_count": 60,
   "metadata": {
    "colab": {
     "base_uri": "https://localhost:8080/",
     "height": 513
    },
    "id": "ALiDJWFo-OgN",
    "outputId": "9713bdc9-6985-4192-ffe3-db438099aa10"
   },
   "outputs": [
    {
     "data": {
      "image/png": "[encoded data removed]",
      "text/plain": [
       "<Figure size 648x504 with 1 Axes>"
      ]
     },
     "metadata": {
      "needs_background": "light"
     },
     "output_type": "display_data"
    }
   ],
   "source": [
    "plot_coef(x_train.columns, elsticnet_20.coef_)"
   ]
  },
  {
   "cell_type": "code",
   "execution_count": 61,
   "metadata": {
    "colab": {
     "base_uri": "https://localhost:8080/",
     "height": 513
    },
    "id": "I8v-1r6cCpMM",
    "outputId": "c0be9519-60fb-49a6-a277-4ca30dfe14c9"
   },
   "outputs": [
    {
     "data": {
      "image/png": "[encoded data removed]",
      "text/plain": [
       "<Figure size 648x504 with 1 Axes>"
      ]
     },
     "metadata": {
      "needs_background": "light"
     },
     "output_type": "display_data"
    }
   ],
   "source": [
    "plot_coef(x_train.columns, elsticnet_80.coef_)"
   ]
  },
  {
   "cell_type": "markdown",
   "metadata": {
    "id": "mNgheyW7Y6q7"
   },
   "source": [
    "## Scaler 적용"
   ]
  },
  {
   "cell_type": "code",
   "execution_count": 62,
   "metadata": {
    "id": "-NWENp4dD5bF"
   },
   "outputs": [],
   "source": [
    "from sklearn.preprocessing import MinMaxScaler, StandardScaler"
   ]
  },
  {
   "cell_type": "markdown",
   "metadata": {
    "id": "DZfeQKc2G5DY"
   },
   "source": [
    "### MinMaxScaler (정규화)"
   ]
  },
  {
   "cell_type": "markdown",
   "metadata": {
    "id": "2DSqOsqYG8NV"
   },
   "source": [
    "정규화 (Normalization)도 표준화와 마찬가지로 데이터의 스케일을 조정합니다.\n",
    "\n",
    "정규화가 표준화와 다른 가장 큰 특징은 **모든 데이터가 0 ~ 1 사이의 값**을 가집니다.\n",
    "\n",
    "즉, 최대값은 1, 최소값은 0으로 데이터의 범위를 조정합니다."
   ]
  },
  {
   "cell_type": "markdown",
   "metadata": {
    "id": "QoywCZrbkNZB"
   },
   "source": [
    "**min값과 max값을 0~1사이로 정규화**"
   ]
  },
  {
   "cell_type": "code",
   "execution_count": 63,
   "metadata": {
    "id": "8v_xU3VjkNZB"
   },
   "outputs": [],
   "source": [
    "# 코드를 입력해 주세요\n",
    "minmax_scaler = MinMaxScaler()\n",
    "minmax_scaled = minmax_scaler.fit_transform(x_train)"
   ]
  },
  {
   "cell_type": "code",
   "execution_count": 64,
   "metadata": {
    "colab": {
     "base_uri": "https://localhost:8080/",
     "height": 294
    },
    "id": "L5RODwu2kNZC",
    "outputId": "d80d6e4a-002c-430a-d764-ec0bb30a2703"
   },
   "outputs": [
    {
     "data": {
      "text/html": [
       "<div>\n",
       "<style scoped>\n",
       "    .dataframe tbody tr th:only-of-type {\n",
       "        vertical-align: middle;\n",
       "    }\n",
       "\n",
       "    .dataframe tbody tr th {\n",
       "        vertical-align: top;\n",
       "    }\n",
       "\n",
       "    .dataframe thead th {\n",
       "        text-align: right;\n",
       "    }\n",
       "</style>\n",
       "<table border=\"1\" class=\"dataframe\">\n",
       "  <thead>\n",
       "    <tr style=\"text-align: right;\">\n",
       "      <th></th>\n",
       "      <th>0</th>\n",
       "      <th>1</th>\n",
       "      <th>2</th>\n",
       "      <th>3</th>\n",
       "      <th>4</th>\n",
       "      <th>5</th>\n",
       "      <th>6</th>\n",
       "      <th>7</th>\n",
       "      <th>8</th>\n",
       "      <th>9</th>\n",
       "      <th>10</th>\n",
       "      <th>11</th>\n",
       "      <th>12</th>\n",
       "    </tr>\n",
       "  </thead>\n",
       "  <tbody>\n",
       "    <tr>\n",
       "      <th>count</th>\n",
       "      <td>379.00</td>\n",
       "      <td>379.00</td>\n",
       "      <td>379.00</td>\n",
       "      <td>379.00</td>\n",
       "      <td>379.00</td>\n",
       "      <td>379.00</td>\n",
       "      <td>379.00</td>\n",
       "      <td>379.00</td>\n",
       "      <td>379.00</td>\n",
       "      <td>379.00</td>\n",
       "      <td>379.00</td>\n",
       "      <td>379.00</td>\n",
       "      <td>379.00</td>\n",
       "    </tr>\n",
       "    <tr>\n",
       "      <th>mean</th>\n",
       "      <td>0.04</td>\n",
       "      <td>0.12</td>\n",
       "      <td>0.38</td>\n",
       "      <td>0.07</td>\n",
       "      <td>0.34</td>\n",
       "      <td>0.52</td>\n",
       "      <td>0.66</td>\n",
       "      <td>0.28</td>\n",
       "      <td>0.37</td>\n",
       "      <td>0.42</td>\n",
       "      <td>0.62</td>\n",
       "      <td>0.90</td>\n",
       "      <td>0.31</td>\n",
       "    </tr>\n",
       "    <tr>\n",
       "      <th>std</th>\n",
       "      <td>0.11</td>\n",
       "      <td>0.24</td>\n",
       "      <td>0.25</td>\n",
       "      <td>0.25</td>\n",
       "      <td>0.24</td>\n",
       "      <td>0.14</td>\n",
       "      <td>0.30</td>\n",
       "      <td>0.22</td>\n",
       "      <td>0.38</td>\n",
       "      <td>0.32</td>\n",
       "      <td>0.23</td>\n",
       "      <td>0.23</td>\n",
       "      <td>0.20</td>\n",
       "    </tr>\n",
       "    <tr>\n",
       "      <th>min</th>\n",
       "      <td>0.00</td>\n",
       "      <td>0.00</td>\n",
       "      <td>0.00</td>\n",
       "      <td>0.00</td>\n",
       "      <td>0.00</td>\n",
       "      <td>0.00</td>\n",
       "      <td>0.00</td>\n",
       "      <td>0.00</td>\n",
       "      <td>0.00</td>\n",
       "      <td>0.00</td>\n",
       "      <td>0.00</td>\n",
       "      <td>0.00</td>\n",
       "      <td>0.00</td>\n",
       "    </tr>\n",
       "    <tr>\n",
       "      <th>25%</th>\n",
       "      <td>0.00</td>\n",
       "      <td>0.00</td>\n",
       "      <td>0.16</td>\n",
       "      <td>0.00</td>\n",
       "      <td>0.12</td>\n",
       "      <td>0.45</td>\n",
       "      <td>0.40</td>\n",
       "      <td>0.10</td>\n",
       "      <td>0.13</td>\n",
       "      <td>0.17</td>\n",
       "      <td>0.46</td>\n",
       "      <td>0.95</td>\n",
       "      <td>0.14</td>\n",
       "    </tr>\n",
       "    <tr>\n",
       "      <th>50%</th>\n",
       "      <td>0.00</td>\n",
       "      <td>0.00</td>\n",
       "      <td>0.29</td>\n",
       "      <td>0.00</td>\n",
       "      <td>0.31</td>\n",
       "      <td>0.51</td>\n",
       "      <td>0.76</td>\n",
       "      <td>0.22</td>\n",
       "      <td>0.17</td>\n",
       "      <td>0.27</td>\n",
       "      <td>0.69</td>\n",
       "      <td>0.99</td>\n",
       "      <td>0.27</td>\n",
       "    </tr>\n",
       "    <tr>\n",
       "      <th>75%</th>\n",
       "      <td>0.04</td>\n",
       "      <td>0.20</td>\n",
       "      <td>0.64</td>\n",
       "      <td>0.00</td>\n",
       "      <td>0.49</td>\n",
       "      <td>0.59</td>\n",
       "      <td>0.93</td>\n",
       "      <td>0.43</td>\n",
       "      <td>1.00</td>\n",
       "      <td>0.91</td>\n",
       "      <td>0.81</td>\n",
       "      <td>1.00</td>\n",
       "      <td>0.44</td>\n",
       "    </tr>\n",
       "    <tr>\n",
       "      <th>max</th>\n",
       "      <td>1.00</td>\n",
       "      <td>1.00</td>\n",
       "      <td>1.00</td>\n",
       "      <td>1.00</td>\n",
       "      <td>1.00</td>\n",
       "      <td>1.00</td>\n",
       "      <td>1.00</td>\n",
       "      <td>1.00</td>\n",
       "      <td>1.00</td>\n",
       "      <td>1.00</td>\n",
       "      <td>1.00</td>\n",
       "      <td>1.00</td>\n",
       "      <td>1.00</td>\n",
       "    </tr>\n",
       "  </tbody>\n",
       "</table>\n",
       "</div>"
      ],
      "text/plain": [
       "           0       1       2       3       4       5       6       7       8   \\\n",
       "count  379.00  379.00  379.00  379.00  379.00  379.00  379.00  379.00  379.00   \n",
       "mean     0.04    0.12    0.38    0.07    0.34    0.52    0.66    0.28    0.37   \n",
       "std      0.11    0.24    0.25    0.25    0.24    0.14    0.30    0.22    0.38   \n",
       "min      0.00    0.00    0.00    0.00    0.00    0.00    0.00    0.00    0.00   \n",
       "25%      0.00    0.00    0.16    0.00    0.12    0.45    0.40    0.10    0.13   \n",
       "50%      0.00    0.00    0.29    0.00    0.31    0.51    0.76    0.22    0.17   \n",
       "75%      0.04    0.20    0.64    0.00    0.49    0.59    0.93    0.43    1.00   \n",
       "max      1.00    1.00    1.00    1.00    1.00    1.00    1.00    1.00    1.00   \n",
       "\n",
       "           9       10      11      12  \n",
       "count  379.00  379.00  379.00  379.00  \n",
       "mean     0.42    0.62    0.90    0.31  \n",
       "std      0.32    0.23    0.23    0.20  \n",
       "min      0.00    0.00    0.00    0.00  \n",
       "25%      0.17    0.46    0.95    0.14  \n",
       "50%      0.27    0.69    0.99    0.27  \n",
       "75%      0.91    0.81    1.00    0.44  \n",
       "max      1.00    1.00    1.00    1.00  "
      ]
     },
     "execution_count": 64,
     "metadata": {},
     "output_type": "execute_result"
    }
   ],
   "source": [
    "# 코드검증\n",
    "round(pd.DataFrame(minmax_scaled).describe(), 2)"
   ]
  },
  {
   "cell_type": "markdown",
   "metadata": {
    "id": "Df0nNOZ1Gm84"
   },
   "source": [
    "### StandardScaler (표준화)"
   ]
  },
  {
   "cell_type": "markdown",
   "metadata": {
    "id": "6B7e1UOlGpdi"
   },
   "source": [
    "표준화는 데이터의 **평균을 0 분산 및 표준편차를 1**로 만들어 줍니다."
   ]
  },
  {
   "cell_type": "markdown",
   "metadata": {
    "id": "9IO42gyMkNZE"
   },
   "source": [
    "**표준화를 하는 이유**\n",
    "\n",
    "- 서로 **다른 통계 데이터들을 비교하기 용이**하기 때문입니다.\n",
    "- 표준화를 하면 평균은 0, 분산과 표준편차는 1로 만들어 데이터의 **분포를 단순화 시키고, 비교를 용이**하게 합니다."
   ]
  },
  {
   "cell_type": "markdown",
   "metadata": {},
   "source": [
    "$\\Large z = \\frac{(X - \\mu)}{\\sigma}$"
   ]
  },
  {
   "cell_type": "code",
   "execution_count": 65,
   "metadata": {
    "id": "1v7FYtXUGhjs"
   },
   "outputs": [],
   "source": [
    "std_scaler = StandardScaler()"
   ]
  },
  {
   "cell_type": "code",
   "execution_count": 66,
   "metadata": {
    "id": "wQESeMLeGmNu"
   },
   "outputs": [],
   "source": [
    "std_scaled = std_scaler.fit_transform(x_train)"
   ]
  },
  {
   "cell_type": "code",
   "execution_count": 67,
   "metadata": {
    "colab": {
     "base_uri": "https://localhost:8080/",
     "height": 294
    },
    "id": "8ANVQ_0JF7Ha",
    "outputId": "69887a3d-90a4-4369-c827-3d2937680f4f"
   },
   "outputs": [
    {
     "data": {
      "text/html": [
       "<div>\n",
       "<style scoped>\n",
       "    .dataframe tbody tr th:only-of-type {\n",
       "        vertical-align: middle;\n",
       "    }\n",
       "\n",
       "    .dataframe tbody tr th {\n",
       "        vertical-align: top;\n",
       "    }\n",
       "\n",
       "    .dataframe thead th {\n",
       "        text-align: right;\n",
       "    }\n",
       "</style>\n",
       "<table border=\"1\" class=\"dataframe\">\n",
       "  <thead>\n",
       "    <tr style=\"text-align: right;\">\n",
       "      <th></th>\n",
       "      <th>0</th>\n",
       "      <th>1</th>\n",
       "      <th>2</th>\n",
       "      <th>3</th>\n",
       "      <th>4</th>\n",
       "      <th>5</th>\n",
       "      <th>6</th>\n",
       "      <th>7</th>\n",
       "      <th>8</th>\n",
       "      <th>9</th>\n",
       "      <th>10</th>\n",
       "      <th>11</th>\n",
       "      <th>12</th>\n",
       "    </tr>\n",
       "  </thead>\n",
       "  <tbody>\n",
       "    <tr>\n",
       "      <th>count</th>\n",
       "      <td>379.00</td>\n",
       "      <td>379.00</td>\n",
       "      <td>379.00</td>\n",
       "      <td>379.00</td>\n",
       "      <td>379.00</td>\n",
       "      <td>379.00</td>\n",
       "      <td>379.00</td>\n",
       "      <td>379.00</td>\n",
       "      <td>379.00</td>\n",
       "      <td>379.00</td>\n",
       "      <td>379.00</td>\n",
       "      <td>379.00</td>\n",
       "      <td>379.00</td>\n",
       "    </tr>\n",
       "    <tr>\n",
       "      <th>mean</th>\n",
       "      <td>0.00</td>\n",
       "      <td>-0.00</td>\n",
       "      <td>0.00</td>\n",
       "      <td>0.00</td>\n",
       "      <td>-0.00</td>\n",
       "      <td>0.00</td>\n",
       "      <td>0.00</td>\n",
       "      <td>-0.00</td>\n",
       "      <td>0.00</td>\n",
       "      <td>0.00</td>\n",
       "      <td>0.00</td>\n",
       "      <td>-0.00</td>\n",
       "      <td>0.00</td>\n",
       "    </tr>\n",
       "    <tr>\n",
       "      <th>std</th>\n",
       "      <td>1.00</td>\n",
       "      <td>1.00</td>\n",
       "      <td>1.00</td>\n",
       "      <td>1.00</td>\n",
       "      <td>1.00</td>\n",
       "      <td>1.00</td>\n",
       "      <td>1.00</td>\n",
       "      <td>1.00</td>\n",
       "      <td>1.00</td>\n",
       "      <td>1.00</td>\n",
       "      <td>1.00</td>\n",
       "      <td>1.00</td>\n",
       "      <td>1.00</td>\n",
       "    </tr>\n",
       "    <tr>\n",
       "      <th>min</th>\n",
       "      <td>-0.40</td>\n",
       "      <td>-0.50</td>\n",
       "      <td>-1.51</td>\n",
       "      <td>-0.27</td>\n",
       "      <td>-1.43</td>\n",
       "      <td>-3.76</td>\n",
       "      <td>-2.21</td>\n",
       "      <td>-1.28</td>\n",
       "      <td>-0.98</td>\n",
       "      <td>-1.30</td>\n",
       "      <td>-2.64</td>\n",
       "      <td>-3.88</td>\n",
       "      <td>-1.51</td>\n",
       "    </tr>\n",
       "    <tr>\n",
       "      <th>25%</th>\n",
       "      <td>-0.40</td>\n",
       "      <td>-0.50</td>\n",
       "      <td>-0.86</td>\n",
       "      <td>-0.27</td>\n",
       "      <td>-0.92</td>\n",
       "      <td>-0.56</td>\n",
       "      <td>-0.88</td>\n",
       "      <td>-0.82</td>\n",
       "      <td>-0.63</td>\n",
       "      <td>-0.77</td>\n",
       "      <td>-0.67</td>\n",
       "      <td>0.21</td>\n",
       "      <td>-0.80</td>\n",
       "    </tr>\n",
       "    <tr>\n",
       "      <th>50%</th>\n",
       "      <td>-0.38</td>\n",
       "      <td>-0.50</td>\n",
       "      <td>-0.36</td>\n",
       "      <td>-0.27</td>\n",
       "      <td>-0.14</td>\n",
       "      <td>-0.11</td>\n",
       "      <td>0.33</td>\n",
       "      <td>-0.25</td>\n",
       "      <td>-0.52</td>\n",
       "      <td>-0.46</td>\n",
       "      <td>0.31</td>\n",
       "      <td>0.38</td>\n",
       "      <td>-0.20</td>\n",
       "    </tr>\n",
       "    <tr>\n",
       "      <th>75%</th>\n",
       "      <td>-0.02</td>\n",
       "      <td>0.33</td>\n",
       "      <td>1.04</td>\n",
       "      <td>-0.27</td>\n",
       "      <td>0.64</td>\n",
       "      <td>0.46</td>\n",
       "      <td>0.91</td>\n",
       "      <td>0.69</td>\n",
       "      <td>1.66</td>\n",
       "      <td>1.52</td>\n",
       "      <td>0.81</td>\n",
       "      <td>0.43</td>\n",
       "      <td>0.64</td>\n",
       "    </tr>\n",
       "    <tr>\n",
       "      <th>max</th>\n",
       "      <td>9.03</td>\n",
       "      <td>3.66</td>\n",
       "      <td>2.45</td>\n",
       "      <td>3.68</td>\n",
       "      <td>2.76</td>\n",
       "      <td>3.41</td>\n",
       "      <td>1.13</td>\n",
       "      <td>3.31</td>\n",
       "      <td>1.66</td>\n",
       "      <td>1.79</td>\n",
       "      <td>1.63</td>\n",
       "      <td>0.43</td>\n",
       "      <td>3.41</td>\n",
       "    </tr>\n",
       "  </tbody>\n",
       "</table>\n",
       "</div>"
      ],
      "text/plain": [
       "           0       1       2       3       4       5       6       7       8   \\\n",
       "count  379.00  379.00  379.00  379.00  379.00  379.00  379.00  379.00  379.00   \n",
       "mean     0.00   -0.00    0.00    0.00   -0.00    0.00    0.00   -0.00    0.00   \n",
       "std      1.00    1.00    1.00    1.00    1.00    1.00    1.00    1.00    1.00   \n",
       "min     -0.40   -0.50   -1.51   -0.27   -1.43   -3.76   -2.21   -1.28   -0.98   \n",
       "25%     -0.40   -0.50   -0.86   -0.27   -0.92   -0.56   -0.88   -0.82   -0.63   \n",
       "50%     -0.38   -0.50   -0.36   -0.27   -0.14   -0.11    0.33   -0.25   -0.52   \n",
       "75%     -0.02    0.33    1.04   -0.27    0.64    0.46    0.91    0.69    1.66   \n",
       "max      9.03    3.66    2.45    3.68    2.76    3.41    1.13    3.31    1.66   \n",
       "\n",
       "           9       10      11      12  \n",
       "count  379.00  379.00  379.00  379.00  \n",
       "mean     0.00    0.00   -0.00    0.00  \n",
       "std      1.00    1.00    1.00    1.00  \n",
       "min     -1.30   -2.64   -3.88   -1.51  \n",
       "25%     -0.77   -0.67    0.21   -0.80  \n",
       "50%     -0.46    0.31    0.38   -0.20  \n",
       "75%      1.52    0.81    0.43    0.64  \n",
       "max      1.79    1.63    0.43    3.41  "
      ]
     },
     "execution_count": 67,
     "metadata": {},
     "output_type": "execute_result"
    }
   ],
   "source": [
    "round(pd.DataFrame(std_scaled).describe(), 2)"
   ]
  },
  {
   "cell_type": "markdown",
   "metadata": {
    "id": "S4f-BEo9JEfv"
   },
   "source": [
    "## 파이프라인 (pipeline)"
   ]
  },
  {
   "cell_type": "markdown",
   "metadata": {
    "id": "CnSNlLtvkNZK"
   },
   "source": [
    "scikit-learn의 **전처리(pre-processing)용 모듈과 모델의 학습 기능을 파이프라인으로 합칠 수** 있습니다.\n",
    "\n",
    "- 파이프라인으로 결합된 모형은 원래의 모형이 가지는 `fit`, `predict` 함수를 가집니다.\n",
    "- 파이프라인에 정의된 순서에 따라 전처리 모듈이 먼저 호출되어 전처리 과정을 거친 후 모델이 학습하게 됩니다."
   ]
  },
  {
   "cell_type": "markdown",
   "metadata": {
    "id": "qEIWlhaKkNZK"
   },
   "source": [
    "[Pipeline 공식 도큐먼트](https://scikit-learn.org/stable/modules/generated/sklearn.pipeline.Pipeline.html)"
   ]
  },
  {
   "cell_type": "code",
   "execution_count": 68,
   "metadata": {
    "id": "5T_OgctCkNZK"
   },
   "outputs": [],
   "source": [
    "from sklearn.pipeline import make_pipeline"
   ]
  },
  {
   "cell_type": "markdown",
   "metadata": {},
   "source": [
    "- `MinMaxScaler`를 적용\n",
    "- ElasticNet, `alpha=0.1`, `l1_ratio=0.2` 적용"
   ]
  },
  {
   "cell_type": "code",
   "execution_count": 69,
   "metadata": {
    "id": "d_1e5lJqkNZM"
   },
   "outputs": [],
   "source": [
    "# 코드를 입력해 주세요\n",
    "pipeline = make_pipeline(\n",
    "    MinMaxScaler(),\n",
    "    ElasticNet(alpha=0.1, l1_ratio=0.2)\n",
    ")"
   ]
  },
  {
   "cell_type": "code",
   "execution_count": 70,
   "metadata": {
    "id": "47vAMyzekNZN"
   },
   "outputs": [],
   "source": [
    "# 코드를 입력해 주세요\n",
    "pipeline.fit(x_train, y_train)\n",
    "pipeline_pred = pipeline.predict(x_test)"
   ]
  },
  {
   "cell_type": "code",
   "execution_count": 71,
   "metadata": {
    "id": "_yiDfrs6kNZP",
    "outputId": "64b4c7bc-afc0-409b-96f0-40c7b800d1b2"
   },
   "outputs": [
    {
     "data": {
      "image/png": "[encoded data removed]",
      "text/plain": [
       "<Figure size 864x720 with 1 Axes>"
      ]
     },
     "metadata": {
      "needs_background": "light"
     },
     "output_type": "display_data"
    },
    {
     "data": {
      "text/html": [
       "<div>\n",
       "<style scoped>\n",
       "    .dataframe tbody tr th:only-of-type {\n",
       "        vertical-align: middle;\n",
       "    }\n",
       "\n",
       "    .dataframe tbody tr th {\n",
       "        vertical-align: top;\n",
       "    }\n",
       "\n",
       "    .dataframe thead th {\n",
       "        text-align: right;\n",
       "    }\n",
       "</style>\n",
       "<table border=\"1\" class=\"dataframe\">\n",
       "  <thead>\n",
       "    <tr style=\"text-align: right;\">\n",
       "      <th></th>\n",
       "      <th>model</th>\n",
       "      <th>error</th>\n",
       "    </tr>\n",
       "  </thead>\n",
       "  <tbody>\n",
       "    <tr>\n",
       "      <th>0</th>\n",
       "      <td>Lasso(alpha=100)</td>\n",
       "      <td>48.725206</td>\n",
       "    </tr>\n",
       "    <tr>\n",
       "      <th>1</th>\n",
       "      <td>Lasso(alpha=10)</td>\n",
       "      <td>27.146245</td>\n",
       "    </tr>\n",
       "    <tr>\n",
       "      <th>2</th>\n",
       "      <td>MinMax ElasticNet</td>\n",
       "      <td>26.572806</td>\n",
       "    </tr>\n",
       "    <tr>\n",
       "      <th>3</th>\n",
       "      <td>Lasso(alpha=1)</td>\n",
       "      <td>19.882302</td>\n",
       "    </tr>\n",
       "    <tr>\n",
       "      <th>4</th>\n",
       "      <td>Ridge(alpha=100)</td>\n",
       "      <td>18.018382</td>\n",
       "    </tr>\n",
       "    <tr>\n",
       "      <th>5</th>\n",
       "      <td>Lasso(alpha=0.1)</td>\n",
       "      <td>17.083615</td>\n",
       "    </tr>\n",
       "    <tr>\n",
       "      <th>6</th>\n",
       "      <td>Ridge(alpha=10)</td>\n",
       "      <td>17.068408</td>\n",
       "    </tr>\n",
       "    <tr>\n",
       "      <th>7</th>\n",
       "      <td>ElasticNet(l1_ratio=0.2)</td>\n",
       "      <td>16.914638</td>\n",
       "    </tr>\n",
       "    <tr>\n",
       "      <th>8</th>\n",
       "      <td>ElasticNet(l1_ratio=0.5)</td>\n",
       "      <td>16.822431</td>\n",
       "    </tr>\n",
       "    <tr>\n",
       "      <th>9</th>\n",
       "      <td>Ridge(alpha=1)</td>\n",
       "      <td>16.652412</td>\n",
       "    </tr>\n",
       "    <tr>\n",
       "      <th>10</th>\n",
       "      <td>ElasticNet(l1_ratio=0.8)</td>\n",
       "      <td>16.638817</td>\n",
       "    </tr>\n",
       "    <tr>\n",
       "      <th>11</th>\n",
       "      <td>LinearRegression</td>\n",
       "      <td>16.485165</td>\n",
       "    </tr>\n",
       "    <tr>\n",
       "      <th>12</th>\n",
       "      <td>Ridge(alpha=0.0001)</td>\n",
       "      <td>16.485151</td>\n",
       "    </tr>\n",
       "    <tr>\n",
       "      <th>13</th>\n",
       "      <td>Ridge(alpha=0.001)</td>\n",
       "      <td>16.485020</td>\n",
       "    </tr>\n",
       "    <tr>\n",
       "      <th>14</th>\n",
       "      <td>Lasso(alpha=0.0001)</td>\n",
       "      <td>16.484261</td>\n",
       "    </tr>\n",
       "    <tr>\n",
       "      <th>15</th>\n",
       "      <td>Ridge(alpha=0.01)</td>\n",
       "      <td>16.483801</td>\n",
       "    </tr>\n",
       "    <tr>\n",
       "      <th>16</th>\n",
       "      <td>Ridge(alpha=0.1)</td>\n",
       "      <td>16.479483</td>\n",
       "    </tr>\n",
       "    <tr>\n",
       "      <th>17</th>\n",
       "      <td>Lasso(alpha=0.001)</td>\n",
       "      <td>16.476551</td>\n",
       "    </tr>\n",
       "    <tr>\n",
       "      <th>18</th>\n",
       "      <td>Lasso(alpha=0.01)</td>\n",
       "      <td>16.441822</td>\n",
       "    </tr>\n",
       "  </tbody>\n",
       "</table>\n",
       "</div>"
      ],
      "text/plain": [
       "                       model      error\n",
       "0           Lasso(alpha=100)  48.725206\n",
       "1            Lasso(alpha=10)  27.146245\n",
       "2          MinMax ElasticNet  26.572806\n",
       "3             Lasso(alpha=1)  19.882302\n",
       "4           Ridge(alpha=100)  18.018382\n",
       "5           Lasso(alpha=0.1)  17.083615\n",
       "6            Ridge(alpha=10)  17.068408\n",
       "7   ElasticNet(l1_ratio=0.2)  16.914638\n",
       "8   ElasticNet(l1_ratio=0.5)  16.822431\n",
       "9             Ridge(alpha=1)  16.652412\n",
       "10  ElasticNet(l1_ratio=0.8)  16.638817\n",
       "11          LinearRegression  16.485165\n",
       "12       Ridge(alpha=0.0001)  16.485151\n",
       "13        Ridge(alpha=0.001)  16.485020\n",
       "14       Lasso(alpha=0.0001)  16.484261\n",
       "15         Ridge(alpha=0.01)  16.483801\n",
       "16          Ridge(alpha=0.1)  16.479483\n",
       "17        Lasso(alpha=0.001)  16.476551\n",
       "18         Lasso(alpha=0.01)  16.441822"
      ]
     },
     "metadata": {},
     "output_type": "display_data"
    },
    {
     "data": {
      "image/png": "[encoded data removed]",
      "text/plain": [
       "<Figure size 720x684 with 1 Axes>"
      ]
     },
     "metadata": {
      "needs_background": "light"
     },
     "output_type": "display_data"
    }
   ],
   "source": [
    "utils.plot_error('MinMax ElasticNet', y_test, pipeline_pred)"
   ]
  },
  {
   "cell_type": "markdown",
   "metadata": {},
   "source": [
    "- `StandardScaler`를 적용\n",
    "- ElasticNet, `alpha=0.1`, `l1_ratio=0.2` 적용"
   ]
  },
  {
   "cell_type": "code",
   "execution_count": 72,
   "metadata": {
    "id": "3WdFqaM2D0d4"
   },
   "outputs": [],
   "source": [
    "# 코드를 입력해 주세요\n",
    "pipeline = make_pipeline(\n",
    "    StandardScaler(),\n",
    "    ElasticNet(alpha=0.1, l1_ratio=0.2)\n",
    ")"
   ]
  },
  {
   "cell_type": "code",
   "execution_count": 73,
   "metadata": {
    "id": "dMoUFzIXEPYc"
   },
   "outputs": [],
   "source": [
    "# 코드를 입력해 주세요\n",
    "pipeline.fit(x_train, y_train)\n",
    "pipeline_pred = pipeline.predict(x_test)"
   ]
  },
  {
   "cell_type": "code",
   "execution_count": 74,
   "metadata": {
    "colab": {
     "base_uri": "https://localhost:8080/",
     "height": 1000
    },
    "id": "AcVL3xq8I-ED",
    "outputId": "cd35a54c-fec8-46ab-96e2-bb9edace5d9c"
   },
   "outputs": [
    {
     "data": {
      "image/png": "[encoded data removed]",
      "text/plain": [
       "<Figure size 864x720 with 1 Axes>"
      ]
     },
     "metadata": {
      "needs_background": "light"
     },
     "output_type": "display_data"
    },
    {
     "data": {
      "text/html": [
       "<div>\n",
       "<style scoped>\n",
       "    .dataframe tbody tr th:only-of-type {\n",
       "        vertical-align: middle;\n",
       "    }\n",
       "\n",
       "    .dataframe tbody tr th {\n",
       "        vertical-align: top;\n",
       "    }\n",
       "\n",
       "    .dataframe thead th {\n",
       "        text-align: right;\n",
       "    }\n",
       "</style>\n",
       "<table border=\"1\" class=\"dataframe\">\n",
       "  <thead>\n",
       "    <tr style=\"text-align: right;\">\n",
       "      <th></th>\n",
       "      <th>model</th>\n",
       "      <th>error</th>\n",
       "    </tr>\n",
       "  </thead>\n",
       "  <tbody>\n",
       "    <tr>\n",
       "      <th>0</th>\n",
       "      <td>Lasso(alpha=100)</td>\n",
       "      <td>48.725206</td>\n",
       "    </tr>\n",
       "    <tr>\n",
       "      <th>1</th>\n",
       "      <td>Lasso(alpha=10)</td>\n",
       "      <td>27.146245</td>\n",
       "    </tr>\n",
       "    <tr>\n",
       "      <th>2</th>\n",
       "      <td>MinMax ElasticNet</td>\n",
       "      <td>26.572806</td>\n",
       "    </tr>\n",
       "    <tr>\n",
       "      <th>3</th>\n",
       "      <td>Lasso(alpha=1)</td>\n",
       "      <td>19.882302</td>\n",
       "    </tr>\n",
       "    <tr>\n",
       "      <th>4</th>\n",
       "      <td>Ridge(alpha=100)</td>\n",
       "      <td>18.018382</td>\n",
       "    </tr>\n",
       "    <tr>\n",
       "      <th>5</th>\n",
       "      <td>Lasso(alpha=0.1)</td>\n",
       "      <td>17.083615</td>\n",
       "    </tr>\n",
       "    <tr>\n",
       "      <th>6</th>\n",
       "      <td>Ridge(alpha=10)</td>\n",
       "      <td>17.068408</td>\n",
       "    </tr>\n",
       "    <tr>\n",
       "      <th>7</th>\n",
       "      <td>ElasticNet(l1_ratio=0.2)</td>\n",
       "      <td>16.914638</td>\n",
       "    </tr>\n",
       "    <tr>\n",
       "      <th>8</th>\n",
       "      <td>ElasticNet(l1_ratio=0.5)</td>\n",
       "      <td>16.822431</td>\n",
       "    </tr>\n",
       "    <tr>\n",
       "      <th>9</th>\n",
       "      <td>Ridge(alpha=1)</td>\n",
       "      <td>16.652412</td>\n",
       "    </tr>\n",
       "    <tr>\n",
       "      <th>10</th>\n",
       "      <td>ElasticNet(l1_ratio=0.8)</td>\n",
       "      <td>16.638817</td>\n",
       "    </tr>\n",
       "    <tr>\n",
       "      <th>11</th>\n",
       "      <td>LinearRegression</td>\n",
       "      <td>16.485165</td>\n",
       "    </tr>\n",
       "    <tr>\n",
       "      <th>12</th>\n",
       "      <td>Ridge(alpha=0.0001)</td>\n",
       "      <td>16.485151</td>\n",
       "    </tr>\n",
       "    <tr>\n",
       "      <th>13</th>\n",
       "      <td>Ridge(alpha=0.001)</td>\n",
       "      <td>16.485020</td>\n",
       "    </tr>\n",
       "    <tr>\n",
       "      <th>14</th>\n",
       "      <td>Lasso(alpha=0.0001)</td>\n",
       "      <td>16.484261</td>\n",
       "    </tr>\n",
       "    <tr>\n",
       "      <th>15</th>\n",
       "      <td>Ridge(alpha=0.01)</td>\n",
       "      <td>16.483801</td>\n",
       "    </tr>\n",
       "    <tr>\n",
       "      <th>16</th>\n",
       "      <td>Ridge(alpha=0.1)</td>\n",
       "      <td>16.479483</td>\n",
       "    </tr>\n",
       "    <tr>\n",
       "      <th>17</th>\n",
       "      <td>Lasso(alpha=0.001)</td>\n",
       "      <td>16.476551</td>\n",
       "    </tr>\n",
       "    <tr>\n",
       "      <th>18</th>\n",
       "      <td>Lasso(alpha=0.01)</td>\n",
       "      <td>16.441822</td>\n",
       "    </tr>\n",
       "    <tr>\n",
       "      <th>19</th>\n",
       "      <td>Standard ElasticNet</td>\n",
       "      <td>16.279470</td>\n",
       "    </tr>\n",
       "  </tbody>\n",
       "</table>\n",
       "</div>"
      ],
      "text/plain": [
       "                       model      error\n",
       "0           Lasso(alpha=100)  48.725206\n",
       "1            Lasso(alpha=10)  27.146245\n",
       "2          MinMax ElasticNet  26.572806\n",
       "3             Lasso(alpha=1)  19.882302\n",
       "4           Ridge(alpha=100)  18.018382\n",
       "5           Lasso(alpha=0.1)  17.083615\n",
       "6            Ridge(alpha=10)  17.068408\n",
       "7   ElasticNet(l1_ratio=0.2)  16.914638\n",
       "8   ElasticNet(l1_ratio=0.5)  16.822431\n",
       "9             Ridge(alpha=1)  16.652412\n",
       "10  ElasticNet(l1_ratio=0.8)  16.638817\n",
       "11          LinearRegression  16.485165\n",
       "12       Ridge(alpha=0.0001)  16.485151\n",
       "13        Ridge(alpha=0.001)  16.485020\n",
       "14       Lasso(alpha=0.0001)  16.484261\n",
       "15         Ridge(alpha=0.01)  16.483801\n",
       "16          Ridge(alpha=0.1)  16.479483\n",
       "17        Lasso(alpha=0.001)  16.476551\n",
       "18         Lasso(alpha=0.01)  16.441822\n",
       "19       Standard ElasticNet  16.279470"
      ]
     },
     "metadata": {},
     "output_type": "display_data"
    },
    {
     "data": {
      "image/png": "[encoded data removed]",
      "text/plain": [
       "<Figure size 720x720 with 1 Axes>"
      ]
     },
     "metadata": {
      "needs_background": "light"
     },
     "output_type": "display_data"
    }
   ],
   "source": [
    "utils.plot_error('Standard ElasticNet', y_test, pipeline_pred)"
   ]
  },
  {
   "cell_type": "markdown",
   "metadata": {
    "id": "8Q1HVOYFJkNu"
   },
   "source": [
    "### Polynomial Features"
   ]
  },
  {
   "cell_type": "markdown",
   "metadata": {
    "id": "zlOTc_W4LM9T"
   },
   "source": [
    "다항식의 계수간 상호작용을 통해 **새로운 feature를 생성**합니다.\n",
    "\n",
    "예를들면, [a, b] 2개의 feature가 존재한다고 가정하고,\n",
    "\n",
    "degree=2로 설정한다면, polynomial features 는 [1, a, b, a^2, ab, b^2] 가 됩니다.\n",
    "\n",
    "**주의**\n",
    "- `degree`를 올리면, 기하급수적으로 많은 feature 들이 생겨나며, 학습 데이터에 지나치게 과대적합 될 수 있습니다.\n",
    "\n",
    "**주요 hyperparameter**\n",
    "\n",
    "- `degree`: 차수\n",
    "- `include_bias`: 1로 채운 컬럼 추가 여부"
   ]
  },
  {
   "cell_type": "markdown",
   "metadata": {
    "id": "0uuwAOPTkNZV"
   },
   "source": [
    "[Polynomial Features 도큐먼트](https://scikit-learn.org/stable/modules/generated/sklearn.preprocessing.PolynomialFeatures.html?highlight=poly%20feature#sklearn.preprocessing.PolynomialFeatures)"
   ]
  },
  {
   "cell_type": "code",
   "execution_count": 75,
   "metadata": {
    "id": "WW2SxEf6JohP"
   },
   "outputs": [],
   "source": [
    "from sklearn.preprocessing import PolynomialFeatures"
   ]
  },
  {
   "cell_type": "code",
   "execution_count": 76,
   "metadata": {
    "id": "1FAby-UOkNZX",
    "outputId": "842d0915-588c-400e-8e08-18cc4060eb81"
   },
   "outputs": [
    {
     "data": {
      "text/plain": [
       "array([[0],\n",
       "       [1],\n",
       "       [2],\n",
       "       [3],\n",
       "       [4]])"
      ]
     },
     "execution_count": 76,
     "metadata": {},
     "output_type": "execute_result"
    }
   ],
   "source": [
    "x = np.arange(5).reshape(-1, 1)\n",
    "x"
   ]
  },
  {
   "cell_type": "markdown",
   "metadata": {
    "id": "w4l9-aIUkNZY"
   },
   "source": [
    "`degree=2`, `include_bias=False` 인 경우"
   ]
  },
  {
   "cell_type": "code",
   "execution_count": 77,
   "metadata": {
    "id": "d5MzMb5ZkNZY",
    "outputId": "506b69a5-e2de-4abe-c169-62b1e36a5d8b"
   },
   "outputs": [
    {
     "data": {
      "text/plain": [
       "array([[ 0.,  0.],\n",
       "       [ 1.,  1.],\n",
       "       [ 2.,  4.],\n",
       "       [ 3.,  9.],\n",
       "       [ 4., 16.]])"
      ]
     },
     "execution_count": 77,
     "metadata": {},
     "output_type": "execute_result"
    }
   ],
   "source": [
    "poly = PolynomialFeatures(degree=2, include_bias=False)\n",
    "x_poly = poly.fit_transform(x)\n",
    "x_poly"
   ]
  },
  {
   "cell_type": "markdown",
   "metadata": {
    "id": "vG80SrDVkNZZ"
   },
   "source": [
    "`degree=2`, `include_bias=True` 인 경우"
   ]
  },
  {
   "cell_type": "code",
   "execution_count": 78,
   "metadata": {
    "id": "Sc05SkJ8kNZa",
    "outputId": "21835a15-e835-4752-cd7a-a42529c0ca0d"
   },
   "outputs": [
    {
     "data": {
      "text/plain": [
       "array([[ 1.,  0.,  0.],\n",
       "       [ 1.,  1.,  1.],\n",
       "       [ 1.,  2.,  4.],\n",
       "       [ 1.,  3.,  9.],\n",
       "       [ 1.,  4., 16.]])"
      ]
     },
     "execution_count": 78,
     "metadata": {},
     "output_type": "execute_result"
    }
   ],
   "source": [
    "poly = PolynomialFeatures(degree=2, include_bias=True)\n",
    "x_poly = poly.fit_transform(x)\n",
    "x_poly"
   ]
  },
  {
   "cell_type": "markdown",
   "metadata": {
    "id": "ExRKWtiikNZb"
   },
   "source": [
    "`degree=3`, `include_bias=True` 인 경우"
   ]
  },
  {
   "cell_type": "code",
   "execution_count": 79,
   "metadata": {
    "id": "PFIuJutOkNZb",
    "outputId": "c0330416-e192-4913-f774-8e50f3926bc6"
   },
   "outputs": [
    {
     "data": {
      "text/plain": [
       "array([[ 1.,  0.,  0.,  0.],\n",
       "       [ 1.,  1.,  1.,  1.],\n",
       "       [ 1.,  2.,  4.,  8.],\n",
       "       [ 1.,  3.,  9., 27.],\n",
       "       [ 1.,  4., 16., 64.]])"
      ]
     },
     "execution_count": 79,
     "metadata": {},
     "output_type": "execute_result"
    }
   ],
   "source": [
    "poly = PolynomialFeatures(degree=3, include_bias=True)\n",
    "x_poly = poly.fit_transform(x)\n",
    "x_poly"
   ]
  },
  {
   "cell_type": "markdown",
   "metadata": {
    "id": "sdS1IvOZkNZc"
   },
   "source": [
    "보스톤 집 값 데이터의 features에 `PolynomialFeatures`를 적용합니다."
   ]
  },
  {
   "cell_type": "code",
   "execution_count": 80,
   "metadata": {
    "id": "ri2oXSKuKVA9"
   },
   "outputs": [],
   "source": [
    "poly = PolynomialFeatures(degree=2, include_bias=False)"
   ]
  },
  {
   "cell_type": "code",
   "execution_count": 81,
   "metadata": {
    "id": "IP2fxNZJKUxx"
   },
   "outputs": [],
   "source": [
    "poly_features = poly.fit_transform(x_train)[0]"
   ]
  },
  {
   "cell_type": "code",
   "execution_count": 82,
   "metadata": {
    "colab": {
     "base_uri": "https://localhost:8080/",
     "height": 503
    },
    "id": "cOWuxhKnMOq0",
    "outputId": "926aba84-f59c-436b-b99a-592ad8416a15"
   },
   "outputs": [
    {
     "data": {
      "text/plain": [
       "array([     3.321,      0.   ,     19.58 ,      1.   ,      0.871,\n",
       "            5.403,    100.   ,      1.322,      5.   ,    403.   ,\n",
       "           14.7  ,    396.9  ,     26.82 ,     11.029,      0.   ,\n",
       "           65.026,      3.321,      2.893,     17.944,    332.105,\n",
       "            4.389,     16.605,   1338.383,     48.819,   1318.125,\n",
       "           89.071,      0.   ,      0.   ,      0.   ,      0.   ,\n",
       "            0.   ,      0.   ,      0.   ,      0.   ,      0.   ,\n",
       "            0.   ,      0.   ,      0.   ,    383.376,     19.58 ,\n",
       "           17.054,    105.791,   1958.   ,     25.877,     97.9  ,\n",
       "         7890.74 ,    287.826,   7771.302,    525.136,      1.   ,\n",
       "            0.871,      5.403,    100.   ,      1.322,      5.   ,\n",
       "          403.   ,     14.7  ,    396.9  ,     26.82 ,      0.759,\n",
       "            4.706,     87.1  ,      1.151,      4.355,    351.013,\n",
       "           12.804,    345.7  ,     23.36 ,     29.192,    540.3  ,\n",
       "            7.141,     27.015,   2177.409,     79.424,   2144.451,\n",
       "          144.908,  10000.   ,    132.16 ,    500.   ,  40300.   ,\n",
       "         1470.   ,  39690.   ,   2682.   ,      1.747,      6.608,\n",
       "          532.605,     19.428,    524.543,     35.445,     25.   ,\n",
       "         2015.   ,     73.5  ,   1984.5  ,    134.1  , 162409.   ,\n",
       "         5924.1  , 159950.7  ,  10808.46 ,    216.09 ,   5834.43 ,\n",
       "          394.254, 157529.61 ,  10644.858,    719.312])"
      ]
     },
     "execution_count": 82,
     "metadata": {},
     "output_type": "execute_result"
    }
   ],
   "source": [
    "poly_features"
   ]
  },
  {
   "cell_type": "code",
   "execution_count": 83,
   "metadata": {},
   "outputs": [
    {
     "data": {
      "text/plain": [
       "array([     3.321,      0.   ,     19.58 ,      1.   ,      0.871,\n",
       "            5.403,    100.   ,      1.322,      5.   ,    403.   ,\n",
       "           14.7  ,    396.9  ,     26.82 ,     11.029,      0.   ,\n",
       "           65.026,      3.321,      2.893,     17.944,    332.105,\n",
       "            4.389,     16.605,   1338.383,     48.819,   1318.125,\n",
       "           89.071,      0.   ,      0.   ,      0.   ,      0.   ,\n",
       "            0.   ,      0.   ,      0.   ,      0.   ,      0.   ,\n",
       "            0.   ,      0.   ,      0.   ,    383.376,     19.58 ,\n",
       "           17.054,    105.791,   1958.   ,     25.877,     97.9  ,\n",
       "         7890.74 ,    287.826,   7771.302,    525.136,      1.   ,\n",
       "            0.871,      5.403,    100.   ,      1.322,      5.   ,\n",
       "          403.   ,     14.7  ,    396.9  ,     26.82 ,      0.759,\n",
       "            4.706,     87.1  ,      1.151,      4.355,    351.013,\n",
       "           12.804,    345.7  ,     23.36 ,     29.192,    540.3  ,\n",
       "            7.141,     27.015,   2177.409,     79.424,   2144.451,\n",
       "          144.908,  10000.   ,    132.16 ,    500.   ,  40300.   ,\n",
       "         1470.   ,  39690.   ,   2682.   ,      1.747,      6.608,\n",
       "          532.605,     19.428,    524.543,     35.445,     25.   ,\n",
       "         2015.   ,     73.5  ,   1984.5  ,    134.1  , 162409.   ,\n",
       "         5924.1  , 159950.7  ,  10808.46 ,    216.09 ,   5834.43 ,\n",
       "          394.254, 157529.61 ,  10644.858,    719.312])"
      ]
     },
     "execution_count": 83,
     "metadata": {},
     "output_type": "execute_result"
    }
   ],
   "source": [
    "x_train_poly = poly.fit_transform(x_train)\n",
    "x_train_poly[0]"
   ]
  },
  {
   "cell_type": "code",
   "execution_count": 84,
   "metadata": {},
   "outputs": [
    {
     "data": {
      "text/html": [
       "<div>\n",
       "<style scoped>\n",
       "    .dataframe tbody tr th:only-of-type {\n",
       "        vertical-align: middle;\n",
       "    }\n",
       "\n",
       "    .dataframe tbody tr th {\n",
       "        vertical-align: top;\n",
       "    }\n",
       "\n",
       "    .dataframe thead th {\n",
       "        text-align: right;\n",
       "    }\n",
       "</style>\n",
       "<table border=\"1\" class=\"dataframe\">\n",
       "  <thead>\n",
       "    <tr style=\"text-align: right;\">\n",
       "      <th></th>\n",
       "      <th>x0</th>\n",
       "      <th>x1</th>\n",
       "      <th>x2</th>\n",
       "      <th>x3</th>\n",
       "      <th>x4</th>\n",
       "      <th>x5</th>\n",
       "      <th>x6</th>\n",
       "      <th>x7</th>\n",
       "      <th>x8</th>\n",
       "      <th>x9</th>\n",
       "      <th>...</th>\n",
       "      <th>x9^2</th>\n",
       "      <th>x9 x10</th>\n",
       "      <th>x9 x11</th>\n",
       "      <th>x9 x12</th>\n",
       "      <th>x10^2</th>\n",
       "      <th>x10 x11</th>\n",
       "      <th>x10 x12</th>\n",
       "      <th>x11^2</th>\n",
       "      <th>x11 x12</th>\n",
       "      <th>x12^2</th>\n",
       "    </tr>\n",
       "  </thead>\n",
       "  <tbody>\n",
       "    <tr>\n",
       "      <th>0</th>\n",
       "      <td>3.32105</td>\n",
       "      <td>0.0</td>\n",
       "      <td>19.58</td>\n",
       "      <td>1.0</td>\n",
       "      <td>0.871</td>\n",
       "      <td>5.403</td>\n",
       "      <td>100.0</td>\n",
       "      <td>1.3216</td>\n",
       "      <td>5.0</td>\n",
       "      <td>403.0</td>\n",
       "      <td>...</td>\n",
       "      <td>162409.0</td>\n",
       "      <td>5924.1</td>\n",
       "      <td>159950.70</td>\n",
       "      <td>10808.46</td>\n",
       "      <td>216.09</td>\n",
       "      <td>5834.430</td>\n",
       "      <td>394.254</td>\n",
       "      <td>157529.6100</td>\n",
       "      <td>10644.8580</td>\n",
       "      <td>719.3124</td>\n",
       "    </tr>\n",
       "    <tr>\n",
       "      <th>1</th>\n",
       "      <td>0.22489</td>\n",
       "      <td>12.5</td>\n",
       "      <td>7.87</td>\n",
       "      <td>0.0</td>\n",
       "      <td>0.524</td>\n",
       "      <td>6.377</td>\n",
       "      <td>94.3</td>\n",
       "      <td>6.3467</td>\n",
       "      <td>5.0</td>\n",
       "      <td>311.0</td>\n",
       "      <td>...</td>\n",
       "      <td>96721.0</td>\n",
       "      <td>4727.2</td>\n",
       "      <td>122073.72</td>\n",
       "      <td>6359.95</td>\n",
       "      <td>231.04</td>\n",
       "      <td>5966.304</td>\n",
       "      <td>310.840</td>\n",
       "      <td>154071.9504</td>\n",
       "      <td>8027.0340</td>\n",
       "      <td>418.2025</td>\n",
       "    </tr>\n",
       "    <tr>\n",
       "      <th>2</th>\n",
       "      <td>8.64476</td>\n",
       "      <td>0.0</td>\n",
       "      <td>18.10</td>\n",
       "      <td>0.0</td>\n",
       "      <td>0.693</td>\n",
       "      <td>6.193</td>\n",
       "      <td>92.6</td>\n",
       "      <td>1.7912</td>\n",
       "      <td>24.0</td>\n",
       "      <td>666.0</td>\n",
       "      <td>...</td>\n",
       "      <td>443556.0</td>\n",
       "      <td>13453.2</td>\n",
       "      <td>264335.40</td>\n",
       "      <td>10103.22</td>\n",
       "      <td>408.04</td>\n",
       "      <td>8017.380</td>\n",
       "      <td>306.434</td>\n",
       "      <td>157529.6100</td>\n",
       "      <td>6020.9730</td>\n",
       "      <td>230.1289</td>\n",
       "    </tr>\n",
       "    <tr>\n",
       "      <th>3</th>\n",
       "      <td>1.83377</td>\n",
       "      <td>0.0</td>\n",
       "      <td>19.58</td>\n",
       "      <td>1.0</td>\n",
       "      <td>0.605</td>\n",
       "      <td>7.802</td>\n",
       "      <td>98.2</td>\n",
       "      <td>2.0407</td>\n",
       "      <td>5.0</td>\n",
       "      <td>403.0</td>\n",
       "      <td>...</td>\n",
       "      <td>162409.0</td>\n",
       "      <td>5924.1</td>\n",
       "      <td>157012.83</td>\n",
       "      <td>773.76</td>\n",
       "      <td>216.09</td>\n",
       "      <td>5727.267</td>\n",
       "      <td>28.224</td>\n",
       "      <td>151795.9521</td>\n",
       "      <td>748.0512</td>\n",
       "      <td>3.6864</td>\n",
       "    </tr>\n",
       "    <tr>\n",
       "      <th>4</th>\n",
       "      <td>4.22239</td>\n",
       "      <td>0.0</td>\n",
       "      <td>18.10</td>\n",
       "      <td>1.0</td>\n",
       "      <td>0.770</td>\n",
       "      <td>5.803</td>\n",
       "      <td>89.0</td>\n",
       "      <td>1.9047</td>\n",
       "      <td>24.0</td>\n",
       "      <td>666.0</td>\n",
       "      <td>...</td>\n",
       "      <td>443556.0</td>\n",
       "      <td>13453.2</td>\n",
       "      <td>235124.64</td>\n",
       "      <td>9750.24</td>\n",
       "      <td>408.04</td>\n",
       "      <td>7131.408</td>\n",
       "      <td>295.728</td>\n",
       "      <td>124637.2416</td>\n",
       "      <td>5168.5056</td>\n",
       "      <td>214.3296</td>\n",
       "    </tr>\n",
       "  </tbody>\n",
       "</table>\n",
       "<p>5 rows × 104 columns</p>\n",
       "</div>"
      ],
      "text/plain": [
       "        x0    x1     x2   x3     x4     x5     x6      x7    x8     x9  ...  \\\n",
       "0  3.32105   0.0  19.58  1.0  0.871  5.403  100.0  1.3216   5.0  403.0  ...   \n",
       "1  0.22489  12.5   7.87  0.0  0.524  6.377   94.3  6.3467   5.0  311.0  ...   \n",
       "2  8.64476   0.0  18.10  0.0  0.693  6.193   92.6  1.7912  24.0  666.0  ...   \n",
       "3  1.83377   0.0  19.58  1.0  0.605  7.802   98.2  2.0407   5.0  403.0  ...   \n",
       "4  4.22239   0.0  18.10  1.0  0.770  5.803   89.0  1.9047  24.0  666.0  ...   \n",
       "\n",
       "       x9^2   x9 x10     x9 x11    x9 x12   x10^2   x10 x11  x10 x12  \\\n",
       "0  162409.0   5924.1  159950.70  10808.46  216.09  5834.430  394.254   \n",
       "1   96721.0   4727.2  122073.72   6359.95  231.04  5966.304  310.840   \n",
       "2  443556.0  13453.2  264335.40  10103.22  408.04  8017.380  306.434   \n",
       "3  162409.0   5924.1  157012.83    773.76  216.09  5727.267   28.224   \n",
       "4  443556.0  13453.2  235124.64   9750.24  408.04  7131.408  295.728   \n",
       "\n",
       "         x11^2     x11 x12     x12^2  \n",
       "0  157529.6100  10644.8580  719.3124  \n",
       "1  154071.9504   8027.0340  418.2025  \n",
       "2  157529.6100   6020.9730  230.1289  \n",
       "3  151795.9521    748.0512    3.6864  \n",
       "4  124637.2416   5168.5056  214.3296  \n",
       "\n",
       "[5 rows x 104 columns]"
      ]
     },
     "execution_count": 84,
     "metadata": {},
     "output_type": "execute_result"
    }
   ],
   "source": [
    "pd.DataFrame(x_train_poly, columns=poly.get_feature_names()).head()"
   ]
  },
  {
   "cell_type": "markdown",
   "metadata": {
    "id": "YV69yiWakNZf"
   },
   "source": [
    "`PolynomialFeature`도 파이프라인(pipeline)을 활용하여 전처리 해준다면, 손쉽게 구현 및 적용이 가능합니다."
   ]
  },
  {
   "cell_type": "markdown",
   "metadata": {},
   "source": [
    "- `PolynomialFeatures: degree=2, include_bias=False` 지정\n",
    "- `ElasticNet: alpha=0.1, l1_ratio=0.2` 지정"
   ]
  },
  {
   "cell_type": "code",
   "execution_count": 85,
   "metadata": {
    "id": "8pJltwYCIr82"
   },
   "outputs": [],
   "source": [
    "poly_pipeline = make_pipeline(\n",
    "    # 코드를 입력해 주세요\n",
    "    PolynomialFeatures(degree=2, include_bias=False),\n",
    "    ElasticNet(alpha=0.1, l1_ratio=0.2)\n",
    ")"
   ]
  },
  {
   "cell_type": "code",
   "execution_count": 86,
   "metadata": {
    "colab": {
     "base_uri": "https://localhost:8080/",
     "height": 75
    },
    "id": "bB78kKDdJxJn",
    "outputId": "125960ba-dd42-46f1-d117-7686cd0a2ed6"
   },
   "outputs": [],
   "source": [
    "# 코드를 입력해 주세요\n",
    "poly_pipeline.fit(x_train, y_train)\n",
    "poly_pred = poly_pipeline.predict(x_test)"
   ]
  },
  {
   "cell_type": "code",
   "execution_count": 87,
   "metadata": {
    "colab": {
     "base_uri": "https://localhost:8080/",
     "height": 1000
    },
    "id": "vBtOJDtPJ06P",
    "outputId": "6129d2af-adf2-4ac5-ffdf-e234111a0d81",
    "scrolled": false
   },
   "outputs": [
    {
     "data": {
      "image/png": "[encoded data removed]",
      "text/plain": [
       "<Figure size 864x720 with 1 Axes>"
      ]
     },
     "metadata": {
      "needs_background": "light"
     },
     "output_type": "display_data"
    },
    {
     "data": {
      "text/html": [
       "<div>\n",
       "<style scoped>\n",
       "    .dataframe tbody tr th:only-of-type {\n",
       "        vertical-align: middle;\n",
       "    }\n",
       "\n",
       "    .dataframe tbody tr th {\n",
       "        vertical-align: top;\n",
       "    }\n",
       "\n",
       "    .dataframe thead th {\n",
       "        text-align: right;\n",
       "    }\n",
       "</style>\n",
       "<table border=\"1\" class=\"dataframe\">\n",
       "  <thead>\n",
       "    <tr style=\"text-align: right;\">\n",
       "      <th></th>\n",
       "      <th>model</th>\n",
       "      <th>error</th>\n",
       "    </tr>\n",
       "  </thead>\n",
       "  <tbody>\n",
       "    <tr>\n",
       "      <th>0</th>\n",
       "      <td>Lasso(alpha=100)</td>\n",
       "      <td>48.725206</td>\n",
       "    </tr>\n",
       "    <tr>\n",
       "      <th>1</th>\n",
       "      <td>Lasso(alpha=10)</td>\n",
       "      <td>27.146245</td>\n",
       "    </tr>\n",
       "    <tr>\n",
       "      <th>2</th>\n",
       "      <td>MinMax ElasticNet</td>\n",
       "      <td>26.572806</td>\n",
       "    </tr>\n",
       "    <tr>\n",
       "      <th>3</th>\n",
       "      <td>Lasso(alpha=1)</td>\n",
       "      <td>19.882302</td>\n",
       "    </tr>\n",
       "    <tr>\n",
       "      <th>4</th>\n",
       "      <td>Ridge(alpha=100)</td>\n",
       "      <td>18.018382</td>\n",
       "    </tr>\n",
       "    <tr>\n",
       "      <th>5</th>\n",
       "      <td>Lasso(alpha=0.1)</td>\n",
       "      <td>17.083615</td>\n",
       "    </tr>\n",
       "    <tr>\n",
       "      <th>6</th>\n",
       "      <td>Ridge(alpha=10)</td>\n",
       "      <td>17.068408</td>\n",
       "    </tr>\n",
       "    <tr>\n",
       "      <th>7</th>\n",
       "      <td>ElasticNet(l1_ratio=0.2)</td>\n",
       "      <td>16.914638</td>\n",
       "    </tr>\n",
       "    <tr>\n",
       "      <th>8</th>\n",
       "      <td>ElasticNet(l1_ratio=0.5)</td>\n",
       "      <td>16.822431</td>\n",
       "    </tr>\n",
       "    <tr>\n",
       "      <th>9</th>\n",
       "      <td>Ridge(alpha=1)</td>\n",
       "      <td>16.652412</td>\n",
       "    </tr>\n",
       "    <tr>\n",
       "      <th>10</th>\n",
       "      <td>ElasticNet(l1_ratio=0.8)</td>\n",
       "      <td>16.638817</td>\n",
       "    </tr>\n",
       "    <tr>\n",
       "      <th>11</th>\n",
       "      <td>LinearRegression</td>\n",
       "      <td>16.485165</td>\n",
       "    </tr>\n",
       "    <tr>\n",
       "      <th>12</th>\n",
       "      <td>Ridge(alpha=0.0001)</td>\n",
       "      <td>16.485151</td>\n",
       "    </tr>\n",
       "    <tr>\n",
       "      <th>13</th>\n",
       "      <td>Ridge(alpha=0.001)</td>\n",
       "      <td>16.485020</td>\n",
       "    </tr>\n",
       "    <tr>\n",
       "      <th>14</th>\n",
       "      <td>Lasso(alpha=0.0001)</td>\n",
       "      <td>16.484261</td>\n",
       "    </tr>\n",
       "    <tr>\n",
       "      <th>15</th>\n",
       "      <td>Ridge(alpha=0.01)</td>\n",
       "      <td>16.483801</td>\n",
       "    </tr>\n",
       "    <tr>\n",
       "      <th>16</th>\n",
       "      <td>Ridge(alpha=0.1)</td>\n",
       "      <td>16.479483</td>\n",
       "    </tr>\n",
       "    <tr>\n",
       "      <th>17</th>\n",
       "      <td>Lasso(alpha=0.001)</td>\n",
       "      <td>16.476551</td>\n",
       "    </tr>\n",
       "    <tr>\n",
       "      <th>18</th>\n",
       "      <td>Lasso(alpha=0.01)</td>\n",
       "      <td>16.441822</td>\n",
       "    </tr>\n",
       "    <tr>\n",
       "      <th>19</th>\n",
       "      <td>Standard ElasticNet</td>\n",
       "      <td>16.279470</td>\n",
       "    </tr>\n",
       "    <tr>\n",
       "      <th>20</th>\n",
       "      <td>Poly ElasticNet</td>\n",
       "      <td>10.147479</td>\n",
       "    </tr>\n",
       "  </tbody>\n",
       "</table>\n",
       "</div>"
      ],
      "text/plain": [
       "                       model      error\n",
       "0           Lasso(alpha=100)  48.725206\n",
       "1            Lasso(alpha=10)  27.146245\n",
       "2          MinMax ElasticNet  26.572806\n",
       "3             Lasso(alpha=1)  19.882302\n",
       "4           Ridge(alpha=100)  18.018382\n",
       "5           Lasso(alpha=0.1)  17.083615\n",
       "6            Ridge(alpha=10)  17.068408\n",
       "7   ElasticNet(l1_ratio=0.2)  16.914638\n",
       "8   ElasticNet(l1_ratio=0.5)  16.822431\n",
       "9             Ridge(alpha=1)  16.652412\n",
       "10  ElasticNet(l1_ratio=0.8)  16.638817\n",
       "11          LinearRegression  16.485165\n",
       "12       Ridge(alpha=0.0001)  16.485151\n",
       "13        Ridge(alpha=0.001)  16.485020\n",
       "14       Lasso(alpha=0.0001)  16.484261\n",
       "15         Ridge(alpha=0.01)  16.483801\n",
       "16          Ridge(alpha=0.1)  16.479483\n",
       "17        Lasso(alpha=0.001)  16.476551\n",
       "18         Lasso(alpha=0.01)  16.441822\n",
       "19       Standard ElasticNet  16.279470\n",
       "20           Poly ElasticNet  10.147479"
      ]
     },
     "metadata": {},
     "output_type": "display_data"
    },
    {
     "data": {
      "image/png": "[encoded data removed]",
      "text/plain": [
       "<Figure size 720x756 with 1 Axes>"
      ]
     },
     "metadata": {
      "needs_background": "light"
     },
     "output_type": "display_data"
    }
   ],
   "source": [
    "utils.plot_error('Poly ElasticNet', y_test, poly_pred)"
   ]
  }
 ],
 "metadata": {
  "colab": {
   "collapsed_sections": [],
   "name": "06-회귀 (regression) (해설)",
   "provenance": []
  },
  "kernelspec": {
   "display_name": "Python 3",
   "language": "python",
   "name": "python3"
  },
  "language_info": {
   "codemirror_mode": {
    "name": "ipython",
    "version": 3
   },
   "file_extension": ".py",
   "mimetype": "text/x-python",
   "name": "python",
   "nbconvert_exporter": "python",
   "pygments_lexer": "ipython3",
   "version": "3.6.6"
  }
 },
 "nbformat": 4,
 "nbformat_minor": 1
}
