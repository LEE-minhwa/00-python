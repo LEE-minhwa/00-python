{
 "cells": [
  {
   "cell_type": "code",
   "execution_count": 1,
   "metadata": {},
   "outputs": [
    {
     "data": {
      "text/html": [
       "<style>#notebook-container {width: 90% !important; }</style>"
      ],
      "text/plain": [
       "<IPython.core.display.HTML object>"
      ]
     },
     "metadata": {},
     "output_type": "display_data"
    },
    {
     "data": {
      "text/html": [
       "<style>.rendered_html{font-family: 'Noto Sans KR'; font-size: 18pt; line-height: 140%;}</style>"
      ],
      "text/plain": [
       "<IPython.core.display.HTML object>"
      ]
     },
     "metadata": {},
     "output_type": "display_data"
    },
    {
     "data": {
      "text/html": [
       "<style>.rendered_html table{font-family: 'Noto Sans KR'; font-size: 18pt; line-height: 140%;}</style>"
      ],
      "text/plain": [
       "<IPython.core.display.HTML object>"
      ]
     },
     "metadata": {},
     "output_type": "display_data"
    },
    {
     "data": {
      "text/html": [
       "<style>pre{font-family: 'Noto Sans KR', font-size: 18pt;}.rendered_html>ul>li{margin: 10px}</style>"
      ],
      "text/plain": [
       "<IPython.core.display.HTML object>"
      ]
     },
     "metadata": {},
     "output_type": "display_data"
    },
    {
     "data": {
      "text/html": [
       "<style>div.output_area>pre, div.output_subarea>pre{font-size: 18pt !important; line-height: 140%;}</style>"
      ],
      "text/plain": [
       "<IPython.core.display.HTML object>"
      ]
     },
     "metadata": {},
     "output_type": "display_data"
    },
    {
     "data": {
      "text/html": [
       "<style> .CodeMirror pre {font-family: 'Verdana'; font-size: 20pt !important; line-height: 140%;}</style>"
      ],
      "text/plain": [
       "<IPython.core.display.HTML object>"
      ]
     },
     "metadata": {},
     "output_type": "display_data"
    }
   ],
   "source": [
    "from IPython.core.display import display, HTML\n",
    "\n",
    "# 노트북 컨테이너 크기 조절\n",
    "display(HTML(\"<style>#notebook-container {width: 90% !important; }</style>\"))\n",
    "# 마크다운 폰트\n",
    "display(HTML(\"<style>.rendered_html{font-family: 'Noto Sans KR'; font-size: 18pt; line-height: 140%;}</style>\"))\n",
    "# DataFrame 테이블 폰트\n",
    "display(HTML(\"<style>.rendered_html table{font-family: 'Noto Sans KR'; font-size: 18pt; line-height: 140%;}</style>\"))\n",
    "# 출력창 폰트\n",
    "display(HTML(\"<style>pre{font-family: 'Noto Sans KR', font-size: 18pt;}.rendered_html>ul>li{margin: 10px}</style>\"))\n",
    "display(HTML(\"<style>div.output_area>pre, div.output_subarea>pre{font-size: 18pt !important; line-height: 140%;}</style>\"))\n",
    "# 코드셀 폰트\n",
    "display(HTML(\"<style> .CodeMirror pre {font-family: 'Verdana'; font-size: 20pt !important; line-height: 140%;}</style>\"))"
   ]
  },
  {
   "cell_type": "markdown",
   "metadata": {},
   "source": [
    "## 환경설정"
   ]
  },
  {
   "cell_type": "code",
   "execution_count": 36,
   "metadata": {},
   "outputs": [],
   "source": [
    "project_name = \"의료 보험비 예측\" # 프로젝트 이름\n",
    "class_info = \"16차수 A반\" # 차수 정보\n",
    "email = \"minhwa.lee@sk.com\" # 회사 이메일"
   ]
  },
  {
   "cell_type": "markdown",
   "metadata": {},
   "source": [
    "## 모듈 설치 및 데이터 다운로드"
   ]
  },
  {
   "cell_type": "code",
   "execution_count": 37,
   "metadata": {},
   "outputs": [
    {
     "name": "stdout",
     "output_type": "stream",
     "text": [
      "\n",
      "==============================\n",
      "프로젝트: 의료 보험비 예측\n",
      "==============================\n",
      "파일 목록\n",
      "\n",
      "submission.csv\n",
      "- data/의료 보험비 예측/submission.csv\n",
      "\n",
      "test.csv\n",
      "- data/의료 보험비 예측/test.csv\n",
      "\n",
      "train.csv\n",
      "- data/의료 보험비 예측/train.csv\n",
      "\n",
      "==============================\n"
     ]
    }
   ],
   "source": [
    "!pip install --upgrade mySUNI -q\n",
    "\n",
    "import mySUNI\n",
    "from mySUNI import cds, utils\n",
    "print('===' * 15)\n",
    "print(f'패키지버전: {mySUNI.__version__}')\n",
    "print('===' * 15)\n",
    "\n",
    "project = cds.Project(project_name, class_info, email)\n",
    "project.edu_name = 'mySUNI'\n",
    "\n",
    "# 이메일 설정 확인\n",
    "if not project.email:\n",
    "    raise print(\"[이메일이 누락되었습니다] 이메일을 설정해 주세요↑↑↑\")\n",
    "\n",
    "print(f'프로젝트명: {project_name}\\n차수 정보 : {class_info}\\n이  메  일: {email}')\n",
    "print('===' * 15)\n",
    "\n",
    "# 다운로드 프로젝트 파일\n",
    "cds.download_project(project_name, class_info, email)"
   ]
  },
  {
   "cell_type": "markdown",
   "metadata": {},
   "source": [
    "## 필요한 모듈 import "
   ]
  },
  {
   "cell_type": "code",
   "execution_count": 38,
   "metadata": {
    "id": "LbFFo4zNbGIS"
   },
   "outputs": [],
   "source": [
    "import pandas as pd\n",
    "import numpy as np\n",
    "import matplotlib.pyplot as plt\n",
    "import seaborn as sns\n",
    "import warnings\n",
    "import os\n",
    "\n",
    "\n",
    "# Data 경로 설정\n",
    "DATA_DIR = 'data'\n",
    "\n",
    "# 경고 무시\n",
    "warnings.filterwarnings('ignore')\n",
    "\n",
    "SEED=123"
   ]
  },
  {
   "cell_type": "markdown",
   "metadata": {},
   "source": [
    "## 데이터 로드"
   ]
  },
  {
   "cell_type": "markdown",
   "metadata": {
    "id": "KxNaHV5_pbaF"
   },
   "source": [
    "- `train`: 학습용 데이터셋\n",
    "- `test`: 결과 예측용 데이터셋"
   ]
  },
  {
   "cell_type": "code",
   "execution_count": 39,
   "metadata": {},
   "outputs": [],
   "source": [
    "train = pd.read_csv(os.path.join(DATA_DIR, project_name, 'train.csv'))\n",
    "test = pd.read_csv(os.path.join(DATA_DIR, project_name, 'test.csv'))\n",
    "\n",
    "# 아래 코드는 수정하지 말아 주세요 #\n",
    "##### 프로젝트 Error 검증 설정 #####\n",
    "utils.set_plot_error('rmsle')\n",
    "utils.set_error_values(test.shape[0], evaluation='rmsle')"
   ]
  },
  {
   "cell_type": "markdown",
   "metadata": {},
   "source": [
    "## 컬럼 (column) 설명 "
   ]
  },
  {
   "cell_type": "markdown",
   "metadata": {},
   "source": [
    "**컬럼(Features)**\n",
    "- `age`:  나이\n",
    "- `sex`: 성별\n",
    "- `bmi`: 비만지수\n",
    "- `children`:  건강보험 적용 자녀 수 / 피부양자 수\n",
    "- `smoker`: 흡연 여부\n",
    "- `region`: 지역\n",
    "\n",
    "**타겟(Target)**\n",
    "- `charges`: 의료 보험비"
   ]
  },
  {
   "cell_type": "code",
   "execution_count": 40,
   "metadata": {},
   "outputs": [
    {
     "data": {
      "text/html": [
       "<div>\n",
       "<style scoped>\n",
       "    .dataframe tbody tr th:only-of-type {\n",
       "        vertical-align: middle;\n",
       "    }\n",
       "\n",
       "    .dataframe tbody tr th {\n",
       "        vertical-align: top;\n",
       "    }\n",
       "\n",
       "    .dataframe thead th {\n",
       "        text-align: right;\n",
       "    }\n",
       "</style>\n",
       "<table border=\"1\" class=\"dataframe\">\n",
       "  <thead>\n",
       "    <tr style=\"text-align: right;\">\n",
       "      <th></th>\n",
       "      <th>age</th>\n",
       "      <th>sex</th>\n",
       "      <th>bmi</th>\n",
       "      <th>children</th>\n",
       "      <th>smoker</th>\n",
       "      <th>region</th>\n",
       "      <th>charges</th>\n",
       "    </tr>\n",
       "  </thead>\n",
       "  <tbody>\n",
       "    <tr>\n",
       "      <th>0</th>\n",
       "      <td>50</td>\n",
       "      <td>female</td>\n",
       "      <td>31.600</td>\n",
       "      <td>2</td>\n",
       "      <td>no</td>\n",
       "      <td>southwest</td>\n",
       "      <td>10118.42400</td>\n",
       "    </tr>\n",
       "    <tr>\n",
       "      <th>1</th>\n",
       "      <td>39</td>\n",
       "      <td>female</td>\n",
       "      <td>24.225</td>\n",
       "      <td>5</td>\n",
       "      <td>no</td>\n",
       "      <td>northwest</td>\n",
       "      <td>8965.79575</td>\n",
       "    </tr>\n",
       "    <tr>\n",
       "      <th>2</th>\n",
       "      <td>47</td>\n",
       "      <td>female</td>\n",
       "      <td>24.100</td>\n",
       "      <td>1</td>\n",
       "      <td>no</td>\n",
       "      <td>southwest</td>\n",
       "      <td>26236.57997</td>\n",
       "    </tr>\n",
       "    <tr>\n",
       "      <th>3</th>\n",
       "      <td>45</td>\n",
       "      <td>male</td>\n",
       "      <td>23.560</td>\n",
       "      <td>2</td>\n",
       "      <td>no</td>\n",
       "      <td>northeast</td>\n",
       "      <td>8603.82340</td>\n",
       "    </tr>\n",
       "    <tr>\n",
       "      <th>4</th>\n",
       "      <td>26</td>\n",
       "      <td>female</td>\n",
       "      <td>22.230</td>\n",
       "      <td>0</td>\n",
       "      <td>no</td>\n",
       "      <td>northwest</td>\n",
       "      <td>3176.28770</td>\n",
       "    </tr>\n",
       "  </tbody>\n",
       "</table>\n",
       "</div>"
      ],
      "text/plain": [
       "   age     sex     bmi  children smoker     region      charges\n",
       "0   50  female  31.600         2     no  southwest  10118.42400\n",
       "1   39  female  24.225         5     no  northwest   8965.79575\n",
       "2   47  female  24.100         1     no  southwest  26236.57997\n",
       "3   45    male  23.560         2     no  northeast   8603.82340\n",
       "4   26  female  22.230         0     no  northwest   3176.28770"
      ]
     },
     "execution_count": 40,
     "metadata": {},
     "output_type": "execute_result"
    }
   ],
   "source": [
    "train.head()"
   ]
  },
  {
   "cell_type": "code",
   "execution_count": 41,
   "metadata": {},
   "outputs": [
    {
     "data": {
      "text/html": [
       "<div>\n",
       "<style scoped>\n",
       "    .dataframe tbody tr th:only-of-type {\n",
       "        vertical-align: middle;\n",
       "    }\n",
       "\n",
       "    .dataframe tbody tr th {\n",
       "        vertical-align: top;\n",
       "    }\n",
       "\n",
       "    .dataframe thead th {\n",
       "        text-align: right;\n",
       "    }\n",
       "</style>\n",
       "<table border=\"1\" class=\"dataframe\">\n",
       "  <thead>\n",
       "    <tr style=\"text-align: right;\">\n",
       "      <th></th>\n",
       "      <th>age</th>\n",
       "      <th>sex</th>\n",
       "      <th>bmi</th>\n",
       "      <th>children</th>\n",
       "      <th>smoker</th>\n",
       "      <th>region</th>\n",
       "    </tr>\n",
       "  </thead>\n",
       "  <tbody>\n",
       "    <tr>\n",
       "      <th>0</th>\n",
       "      <td>54</td>\n",
       "      <td>male</td>\n",
       "      <td>21.01</td>\n",
       "      <td>2</td>\n",
       "      <td>no</td>\n",
       "      <td>southeast</td>\n",
       "    </tr>\n",
       "    <tr>\n",
       "      <th>1</th>\n",
       "      <td>23</td>\n",
       "      <td>female</td>\n",
       "      <td>28.12</td>\n",
       "      <td>0</td>\n",
       "      <td>no</td>\n",
       "      <td>northwest</td>\n",
       "    </tr>\n",
       "    <tr>\n",
       "      <th>2</th>\n",
       "      <td>49</td>\n",
       "      <td>female</td>\n",
       "      <td>42.68</td>\n",
       "      <td>2</td>\n",
       "      <td>no</td>\n",
       "      <td>southeast</td>\n",
       "    </tr>\n",
       "    <tr>\n",
       "      <th>3</th>\n",
       "      <td>24</td>\n",
       "      <td>male</td>\n",
       "      <td>25.80</td>\n",
       "      <td>0</td>\n",
       "      <td>no</td>\n",
       "      <td>southwest</td>\n",
       "    </tr>\n",
       "    <tr>\n",
       "      <th>4</th>\n",
       "      <td>28</td>\n",
       "      <td>female</td>\n",
       "      <td>27.50</td>\n",
       "      <td>2</td>\n",
       "      <td>no</td>\n",
       "      <td>southwest</td>\n",
       "    </tr>\n",
       "  </tbody>\n",
       "</table>\n",
       "</div>"
      ],
      "text/plain": [
       "   age     sex    bmi  children smoker     region\n",
       "0   54    male  21.01         2     no  southeast\n",
       "1   23  female  28.12         0     no  northwest\n",
       "2   49  female  42.68         2     no  southeast\n",
       "3   24    male  25.80         0     no  southwest\n",
       "4   28  female  27.50         2     no  southwest"
      ]
     },
     "execution_count": 41,
     "metadata": {},
     "output_type": "execute_result"
    }
   ],
   "source": [
    "test.head()"
   ]
  },
  {
   "cell_type": "markdown",
   "metadata": {},
   "source": [
    "## 결측치 체크"
   ]
  },
  {
   "cell_type": "code",
   "execution_count": 42,
   "metadata": {},
   "outputs": [],
   "source": [
    "# train.isnull().sum()\n",
    "# test.isnull().sum()"
   ]
  },
  {
   "cell_type": "markdown",
   "metadata": {},
   "source": [
    "## 문자열 체크"
   ]
  },
  {
   "cell_type": "code",
   "execution_count": 43,
   "metadata": {},
   "outputs": [
    {
     "name": "stdout",
     "output_type": "stream",
     "text": [
      "<class 'pandas.core.frame.DataFrame'>\n",
      "RangeIndex: 788 entries, 0 to 787\n",
      "Data columns (total 7 columns):\n",
      " #   Column    Non-Null Count  Dtype  \n",
      "---  ------    --------------  -----  \n",
      " 0   age       788 non-null    int64  \n",
      " 1   sex       788 non-null    object \n",
      " 2   bmi       788 non-null    float64\n",
      " 3   children  788 non-null    int64  \n",
      " 4   smoker    788 non-null    object \n",
      " 5   region    788 non-null    object \n",
      " 6   charges   788 non-null    float64\n",
      "dtypes: float64(2), int64(2), object(3)\n",
      "memory usage: 43.2+ KB\n"
     ]
    }
   ],
   "source": [
    "train.info()"
   ]
  },
  {
   "cell_type": "markdown",
   "metadata": {},
   "source": [
    "## 인코딩"
   ]
  },
  {
   "cell_type": "code",
   "execution_count": 44,
   "metadata": {},
   "outputs": [
    {
     "data": {
      "text/plain": [
       "male      413\n",
       "female    375\n",
       "Name: sex, dtype: int64"
      ]
     },
     "execution_count": 44,
     "metadata": {},
     "output_type": "execute_result"
    }
   ],
   "source": [
    "train['sex'].value_counts()"
   ]
  },
  {
   "cell_type": "code",
   "execution_count": 45,
   "metadata": {},
   "outputs": [],
   "source": [
    "# sex 인코딩 변환\n",
    "train['sex'] = train['sex'].apply(lambda x: 1 if x == 'male' else 0)\n",
    "test['sex'] = test['sex'].apply(lambda x: 1 if x == 'male' else 0)"
   ]
  },
  {
   "cell_type": "code",
   "execution_count": 46,
   "metadata": {},
   "outputs": [],
   "source": [
    "# smoker 인코딩 변환"
   ]
  },
  {
   "cell_type": "code",
   "execution_count": 47,
   "metadata": {},
   "outputs": [
    {
     "data": {
      "text/plain": [
       "no     614\n",
       "yes    174\n",
       "Name: smoker, dtype: int64"
      ]
     },
     "execution_count": 47,
     "metadata": {},
     "output_type": "execute_result"
    }
   ],
   "source": [
    "train['smoker'].value_counts()"
   ]
  },
  {
   "cell_type": "code",
   "execution_count": 48,
   "metadata": {},
   "outputs": [],
   "source": [
    "train['smoker'] = train['smoker'].apply(lambda x: 1 if x == 'yes' else 0)\n",
    "test['smoker'] = test['smoker'].apply(lambda x: 1 if x == 'yes' else 0)"
   ]
  },
  {
   "cell_type": "code",
   "execution_count": 49,
   "metadata": {},
   "outputs": [],
   "source": [
    "# region 인코딩 변환"
   ]
  },
  {
   "cell_type": "code",
   "execution_count": 50,
   "metadata": {},
   "outputs": [
    {
     "data": {
      "text/html": [
       "<div>\n",
       "<style scoped>\n",
       "    .dataframe tbody tr th:only-of-type {\n",
       "        vertical-align: middle;\n",
       "    }\n",
       "\n",
       "    .dataframe tbody tr th {\n",
       "        vertical-align: top;\n",
       "    }\n",
       "\n",
       "    .dataframe thead th {\n",
       "        text-align: right;\n",
       "    }\n",
       "</style>\n",
       "<table border=\"1\" class=\"dataframe\">\n",
       "  <thead>\n",
       "    <tr style=\"text-align: right;\">\n",
       "      <th></th>\n",
       "      <th>charges</th>\n",
       "    </tr>\n",
       "    <tr>\n",
       "      <th>region</th>\n",
       "      <th></th>\n",
       "    </tr>\n",
       "  </thead>\n",
       "  <tbody>\n",
       "    <tr>\n",
       "      <th>northeast</th>\n",
       "      <td>14376.136227</td>\n",
       "    </tr>\n",
       "    <tr>\n",
       "      <th>northwest</th>\n",
       "      <td>12617.975481</td>\n",
       "    </tr>\n",
       "    <tr>\n",
       "      <th>southeast</th>\n",
       "      <td>14269.051102</td>\n",
       "    </tr>\n",
       "    <tr>\n",
       "      <th>southwest</th>\n",
       "      <td>13281.951188</td>\n",
       "    </tr>\n",
       "  </tbody>\n",
       "</table>\n",
       "</div>"
      ],
      "text/plain": [
       "                charges\n",
       "region                 \n",
       "northeast  14376.136227\n",
       "northwest  12617.975481\n",
       "southeast  14269.051102\n",
       "southwest  13281.951188"
      ]
     },
     "execution_count": 50,
     "metadata": {},
     "output_type": "execute_result"
    }
   ],
   "source": [
    "# region 별 charges 평균\n",
    "train.groupby('region')[['charges']].mean()"
   ]
  },
  {
   "cell_type": "code",
   "execution_count": 51,
   "metadata": {},
   "outputs": [
    {
     "data": {
      "text/plain": [
       "southeast    211\n",
       "southwest    197\n",
       "northwest    196\n",
       "northeast    184\n",
       "Name: region, dtype: int64"
      ]
     },
     "execution_count": 51,
     "metadata": {},
     "output_type": "execute_result"
    }
   ],
   "source": [
    "train['region'].value_counts()"
   ]
  },
  {
   "cell_type": "code",
   "execution_count": 52,
   "metadata": {},
   "outputs": [],
   "source": [
    "# encoding 방식을 변환 => 의료보험비 평균 가격으로 인코딩\n",
    "region_m = {\n",
    "    'southeast': 14269, \n",
    "    'southwest': 13281, \n",
    "    'northwest': 12617, \n",
    "    'northeast': 14376\n",
    "}"
   ]
  },
  {
   "cell_type": "code",
   "execution_count": 53,
   "metadata": {},
   "outputs": [],
   "source": [
    "train['region'] = train['region'].map(region_m)\n",
    "test['region'] = test['region'].map(region_m)"
   ]
  },
  {
   "cell_type": "markdown",
   "metadata": {},
   "source": [
    "## Log Transformation"
   ]
  },
  {
   "cell_type": "code",
   "execution_count": 54,
   "metadata": {},
   "outputs": [
    {
     "data": {
      "text/plain": [
       "<matplotlib.axes._subplots.AxesSubplot at 0x7fce8e0df668>"
      ]
     },
     "execution_count": 54,
     "metadata": {},
     "output_type": "execute_result"
    },
    {
     "data": {
      "image/png": "[encoded data removed]",
      "text/plain": [
       "<Figure size 1080x576 with 1 Axes>"
      ]
     },
     "metadata": {
      "needs_background": "light"
     },
     "output_type": "display_data"
    }
   ],
   "source": [
    "plt.figure(figsize=(15, 8))\n",
    "sns.histplot(train['charges'])"
   ]
  },
  {
   "cell_type": "code",
   "execution_count": 55,
   "metadata": {},
   "outputs": [
    {
     "data": {
      "text/plain": [
       "<matplotlib.axes._subplots.AxesSubplot at 0x7fce8e0b1c50>"
      ]
     },
     "execution_count": 55,
     "metadata": {},
     "output_type": "execute_result"
    },
    {
     "data": {
      "image/png": "[encoded data removed]",
      "text/plain": [
       "<Figure size 1080x576 with 1 Axes>"
      ]
     },
     "metadata": {
      "needs_background": "light"
     },
     "output_type": "display_data"
    }
   ],
   "source": [
    "plt.figure(figsize=(15, 8))\n",
    "sns.histplot(np.log1p(train['charges']))"
   ]
  },
  {
   "cell_type": "code",
   "execution_count": 56,
   "metadata": {},
   "outputs": [],
   "source": [
    "a = 10"
   ]
  },
  {
   "cell_type": "code",
   "execution_count": 57,
   "metadata": {},
   "outputs": [
    {
     "data": {
      "text/plain": [
       "2.3978952727983707"
      ]
     },
     "execution_count": 57,
     "metadata": {},
     "output_type": "execute_result"
    }
   ],
   "source": [
    "b = np.log1p(a)\n",
    "b"
   ]
  },
  {
   "cell_type": "code",
   "execution_count": 58,
   "metadata": {},
   "outputs": [
    {
     "data": {
      "text/plain": [
       "10.000000000000002"
      ]
     },
     "execution_count": 58,
     "metadata": {},
     "output_type": "execute_result"
    }
   ],
   "source": [
    "np.expm1(b)"
   ]
  },
  {
   "cell_type": "markdown",
   "metadata": {},
   "source": [
    "## feature, label"
   ]
  },
  {
   "cell_type": "code",
   "execution_count": 59,
   "metadata": {},
   "outputs": [
    {
     "data": {
      "text/plain": [
       "Index(['age', 'sex', 'bmi', 'children', 'smoker', 'region'], dtype='object')"
      ]
     },
     "execution_count": 59,
     "metadata": {},
     "output_type": "execute_result"
    }
   ],
   "source": [
    "test.columns"
   ]
  },
  {
   "cell_type": "code",
   "execution_count": 60,
   "metadata": {},
   "outputs": [],
   "source": [
    "features = [\n",
    "    'age', \n",
    "    'sex', \n",
    "    'bmi', \n",
    "    'children', \n",
    "    'smoker', \n",
    "    'region'\n",
    "]"
   ]
  },
  {
   "cell_type": "code",
   "execution_count": 61,
   "metadata": {},
   "outputs": [
    {
     "data": {
      "text/html": [
       "<div>\n",
       "<style scoped>\n",
       "    .dataframe tbody tr th:only-of-type {\n",
       "        vertical-align: middle;\n",
       "    }\n",
       "\n",
       "    .dataframe tbody tr th {\n",
       "        vertical-align: top;\n",
       "    }\n",
       "\n",
       "    .dataframe thead th {\n",
       "        text-align: right;\n",
       "    }\n",
       "</style>\n",
       "<table border=\"1\" class=\"dataframe\">\n",
       "  <thead>\n",
       "    <tr style=\"text-align: right;\">\n",
       "      <th></th>\n",
       "      <th>age</th>\n",
       "      <th>sex</th>\n",
       "      <th>bmi</th>\n",
       "      <th>children</th>\n",
       "      <th>smoker</th>\n",
       "      <th>region</th>\n",
       "    </tr>\n",
       "  </thead>\n",
       "  <tbody>\n",
       "    <tr>\n",
       "      <th>0</th>\n",
       "      <td>50</td>\n",
       "      <td>0</td>\n",
       "      <td>31.600</td>\n",
       "      <td>2</td>\n",
       "      <td>0</td>\n",
       "      <td>13281</td>\n",
       "    </tr>\n",
       "    <tr>\n",
       "      <th>1</th>\n",
       "      <td>39</td>\n",
       "      <td>0</td>\n",
       "      <td>24.225</td>\n",
       "      <td>5</td>\n",
       "      <td>0</td>\n",
       "      <td>12617</td>\n",
       "    </tr>\n",
       "    <tr>\n",
       "      <th>2</th>\n",
       "      <td>47</td>\n",
       "      <td>0</td>\n",
       "      <td>24.100</td>\n",
       "      <td>1</td>\n",
       "      <td>0</td>\n",
       "      <td>13281</td>\n",
       "    </tr>\n",
       "    <tr>\n",
       "      <th>3</th>\n",
       "      <td>45</td>\n",
       "      <td>1</td>\n",
       "      <td>23.560</td>\n",
       "      <td>2</td>\n",
       "      <td>0</td>\n",
       "      <td>14376</td>\n",
       "    </tr>\n",
       "    <tr>\n",
       "      <th>4</th>\n",
       "      <td>26</td>\n",
       "      <td>0</td>\n",
       "      <td>22.230</td>\n",
       "      <td>0</td>\n",
       "      <td>0</td>\n",
       "      <td>12617</td>\n",
       "    </tr>\n",
       "  </tbody>\n",
       "</table>\n",
       "</div>"
      ],
      "text/plain": [
       "   age  sex     bmi  children  smoker  region\n",
       "0   50    0  31.600         2       0   13281\n",
       "1   39    0  24.225         5       0   12617\n",
       "2   47    0  24.100         1       0   13281\n",
       "3   45    1  23.560         2       0   14376\n",
       "4   26    0  22.230         0       0   12617"
      ]
     },
     "execution_count": 61,
     "metadata": {},
     "output_type": "execute_result"
    }
   ],
   "source": [
    "x = train[features]\n",
    "x.head()"
   ]
  },
  {
   "cell_type": "code",
   "execution_count": 62,
   "metadata": {},
   "outputs": [
    {
     "data": {
      "text/plain": [
       "0     9.222212\n",
       "1     9.101284\n",
       "2    10.174948\n",
       "3     9.060078\n",
       "4     8.063783\n",
       "Name: charges, dtype: float64"
      ]
     },
     "execution_count": 62,
     "metadata": {},
     "output_type": "execute_result"
    }
   ],
   "source": [
    "# log 변환 STEP 1)\n",
    "y = np.log1p(train['charges'])\n",
    "y.head()"
   ]
  },
  {
   "cell_type": "markdown",
   "metadata": {},
   "source": [
    "## train_test_split"
   ]
  },
  {
   "cell_type": "code",
   "execution_count": 63,
   "metadata": {},
   "outputs": [],
   "source": [
    "from sklearn.model_selection import train_test_split\n",
    "\n",
    "SEED = 123\n",
    "\n",
    "x_train, x_valid, y_train, y_valid = train_test_split(x, y, random_state=SEED)"
   ]
  },
  {
   "cell_type": "markdown",
   "metadata": {},
   "source": [
    "## model 생성"
   ]
  },
  {
   "cell_type": "code",
   "execution_count": null,
   "metadata": {},
   "outputs": [],
   "source": [
    "from sklearn.linear_model import LinearRegression\n",
    "from sklearn.linear_model import Ridge\n",
    "from sklearn.linear_model import Lasso\n",
    "from sklearn.linear_model import ElasticNet\n",
    "from sklearn.preprocessing import StandardScaler, MinMaxScaler\n",
    "from sklearn.pipeline import make_pipeline\n",
    "from sklearn.preprocessing import PolynomialFeatures"
   ]
  },
  {
   "cell_type": "code",
   "execution_count": 64,
   "metadata": {},
   "outputs": [],
   "source": [
    "# 참고 코드\n",
    "from sklearn.metrics import mean_squared_log_error\n",
    "\n",
    "RMSLE = lambda y_true, y_pred: np.sqrt(mean_squared_log_error(y_true, y_pred))"
   ]
  },
  {
   "cell_type": "code",
   "execution_count": 65,
   "metadata": {},
   "outputs": [
    {
     "data": {
      "text/plain": [
       "0.2897979765405382"
      ]
     },
     "execution_count": 65,
     "metadata": {},
     "output_type": "execute_result"
    }
   ],
   "source": [
    "from sklearn.ensemble import RandomForestRegressor\n",
    "\n",
    "model = RandomForestRegressor(random_state=SEED, max_depth=5, n_estimators=200)\n",
    "model.fit(x_train, y_train)\n",
    "pred = model.predict(x_valid)\n",
    "\n",
    "RMSLE(np.expm1(y_valid), np.expm1(pred))"
   ]
  },
  {
   "cell_type": "markdown",
   "metadata": {},
   "source": [
    "## 평가"
   ]
  },
  {
   "cell_type": "code",
   "execution_count": 66,
   "metadata": {},
   "outputs": [
    {
     "data": {
      "text/plain": [
       "0.2897979765405382"
      ]
     },
     "execution_count": 66,
     "metadata": {},
     "output_type": "execute_result"
    }
   ],
   "source": [
    "# log 변환 STEP 2)\n",
    "RMSLE(np.expm1(y_valid), np.expm1(pred))"
   ]
  },
  {
   "cell_type": "markdown",
   "metadata": {},
   "source": [
    "## 예측 (test 데이터셋)"
   ]
  },
  {
   "cell_type": "code",
   "execution_count": 67,
   "metadata": {},
   "outputs": [
    {
     "data": {
      "text/plain": [
       "array([13490.38313076,  3313.59195636, 10208.4136855 ,  2858.64785204,\n",
       "        5259.12195653, 43358.24884873, 13953.46939061,  3726.99514074,\n",
       "        5639.21104231, 15001.18157579,  9452.74358762,  1883.60624063,\n",
       "       14969.36918345,  5805.53207201, 50551.34502268,  5714.68391322,\n",
       "        2303.25144259,  7883.67471271, 42864.00622023, 35878.68252209,\n",
       "        4006.22872996,  6121.1226254 ,  7711.14766906, 10433.23139325,\n",
       "       10170.38652708, 40558.3090214 , 12396.14681838,  9697.73149565,\n",
       "       24670.21342064, 12460.62323611,  3502.20461699,  6148.75024277,\n",
       "        5056.80697995, 11325.40355858,  9308.74341811, 13174.03543334,\n",
       "        6322.98013807,  9628.21866989,  4744.98647343, 10378.31080274,\n",
       "        3888.81777915, 13975.48362758,  6513.03894896,  5552.20761841,\n",
       "       14641.41811626, 24347.23180683,  6604.57080956,  5100.00778129,\n",
       "        2178.95787915, 15541.79221445, 12216.29027636,  1800.93847905,\n",
       "       13815.54423473, 12854.24336749,  3774.29712118,  6794.08247989,\n",
       "        9929.98137067,  7910.998931  , 12518.24283839,  2209.76199934,\n",
       "        4751.77084332,  5476.45820381,  6522.37934641,  8960.37089725,\n",
       "        7313.53217792,  5669.25019166, 12235.62082774,  9812.95245861,\n",
       "       14859.6850537 ,  5399.1766821 , 15292.45662218,  7516.08718842,\n",
       "       10130.48184098, 15092.76474558, 13729.42920967,  9647.22055969,\n",
       "        1797.16429732, 17465.78109012,  5728.93980413,  5539.7501194 ,\n",
       "        5457.48862291, 10699.08175473, 37023.88570892,  6536.61742116,\n",
       "        6440.8207231 ,  7112.28620548, 14889.42911351,  2586.91723221,\n",
       "        3552.59573269,  4373.6909663 ,  9342.85232374, 13684.71843237,\n",
       "       11343.39962068,  4897.62837371,  6793.94535895,  5739.03886465,\n",
       "       13022.76836343, 39617.30970593, 12267.57262409,  2089.39557975,\n",
       "        2069.6444357 , 35308.77056167,  9377.89152887,  9694.33228892,\n",
       "       13634.03510337,  2741.6632525 , 14097.82496793,  4030.17067519,\n",
       "        2615.9799702 ,  3814.1186552 ,  3422.14316892,  8095.92395945,\n",
       "       20897.02769604, 24444.91601161,  6517.26243225,  5742.01059867,\n",
       "        3261.87905629, 13495.10079675,  1989.91032504, 12326.53486316,\n",
       "        2577.23608125, 26528.79220971, 17590.33940943, 40743.3791545 ,\n",
       "        6691.55151296,  6678.34970519, 40497.12860929,  9961.1774345 ,\n",
       "        5464.61894381,  6615.27768472,  7075.94233428,  6000.68371583,\n",
       "        5177.73241121, 22591.19548573,  9888.84631411, 12749.21141136,\n",
       "       12492.363949  ,  1819.04160322, 13866.88041733, 39102.27027585,\n",
       "        2341.73096264,  2584.12989634,  8362.06262065,  6498.24408461,\n",
       "       19605.00037331,  6495.33041006,  7860.50701641,  6433.22438078,\n",
       "       27744.05466275,  3003.02708136,  9883.41989286,  7393.92045214,\n",
       "       13982.45945148, 42465.4185931 ,  9107.37154151,  5504.16000268,\n",
       "       13342.04992981, 43015.87454547,  4798.80666619, 16035.40332304,\n",
       "       12453.08997761, 41274.01517313, 13848.47543109, 12463.49768251,\n",
       "        8216.19157231,  5215.71164699,  5100.09996617,  7082.01512209,\n",
       "        9466.61862776, 41296.74390441,  8552.36040108, 16066.22084785,\n",
       "        6779.14685765, 35462.89600624,  3051.04382302,  2787.98978936,\n",
       "        6487.59678709,  9234.69145235,  8652.41231456,  9439.25168837,\n",
       "        7508.1336438 ,  2503.60013667,  5512.73729484, 13668.89496179,\n",
       "        5729.46796703,  6437.64514275,  5342.45370671,  5841.84437785,\n",
       "        8275.30358731,  1849.14057207,  2615.28329578, 13621.05176332,\n",
       "        3652.40152335, 24019.61425633, 10101.42923148,  9429.33832716,\n",
       "        3201.80358927, 17590.33940943, 37162.62114917,  7095.16214093,\n",
       "        4899.08121366,  4905.69919528,  5090.42338407, 10077.28654702,\n",
       "       12516.98484638, 12733.24325934, 13494.35655503,  7262.32195429,\n",
       "        3597.88202681,  1797.16429732, 14035.53554872,  6528.09931855,\n",
       "       12480.88268527, 14971.15881168, 23620.09326027, 16149.80494725,\n",
       "        9846.79904813, 12422.95566421, 10316.55005621,  7156.52806248,\n",
       "       39382.15089155,  6363.97062799,  6123.68998008, 47308.85990529,\n",
       "       10308.63040833, 29116.92533224, 17528.90411186,  2243.41444168,\n",
       "        9232.45083866, 44692.34550662,  5781.32804137,  8210.49992303,\n",
       "        4450.96089638, 17160.30950879, 37003.25006904, 12221.45778047,\n",
       "        8212.8441442 , 12262.67216717, 10617.1313405 ,  9320.42283366,\n",
       "        8087.84369323, 28157.76178534,  6537.43428257, 12065.12008511,\n",
       "        6258.69459776,  6442.6444454 ,  6863.64209917,  7049.16123548,\n",
       "        3028.6613608 ,  9709.77558752,  3283.01864805,  2201.07992696,\n",
       "        2606.04466609, 18970.35048977, 43798.00097735, 38976.14445018,\n",
       "       36843.1762791 , 13628.72501048,  9713.27069111, 23868.2553306 ,\n",
       "        4998.45691297,  7478.33600093,  4788.68184085,  4142.15865849,\n",
       "        2404.24237058,  5707.69147395,  8701.47770285,  6167.17536175,\n",
       "       13768.78268974,  1849.14057207, 36700.72129928, 18158.30485491,\n",
       "       29021.53477824, 13066.50977252, 13773.26106963,  2638.42644182,\n",
       "        8544.01338531,  2633.62771644,  5670.35977847, 13744.13493936,\n",
       "       13977.98214317,  7681.13740682, 14230.74082   ,  6473.48688596,\n",
       "       47094.40572477, 24665.74571709, 42899.05167962,  3271.58503231,\n",
       "        5584.17775526,  1872.06701884,  6333.25809483,  3216.88970237,\n",
       "       12688.9924701 , 13937.33518933, 47805.43934422, 12885.41712241,\n",
       "       14709.12501536,  7654.15169711, 24420.90786841,  5604.33817623,\n",
       "       12961.21564487, 12534.26111667, 26726.87148524,  7260.20149863,\n",
       "       12657.69209002, 38446.6822144 , 10009.61494517, 16192.64262584,\n",
       "        2354.59245305,  6398.23166681,  2258.88775027,  9758.47418413,\n",
       "        3136.84770522, 12854.24336749, 12535.84611313, 16821.69831442,\n",
       "       36977.23495226, 13709.70796765,  8128.87990558, 12818.71749025,\n",
       "        5729.46796703,  2387.38301694,  5530.02246097,  6534.0411773 ,\n",
       "       12405.88840686,  8644.28338097,  5972.34866038, 46740.44069494,\n",
       "       12029.53142604,  3894.4789295 , 13662.44096635, 12443.30589924,\n",
       "        5352.59543445, 35524.08518829,  3841.14597078,  1868.55229192,\n",
       "        2304.52462852, 13953.46939061, 47373.58385023, 35473.40728746,\n",
       "       43848.38004751,  2529.16100338, 12681.14231069, 13557.92862905,\n",
       "        6588.99828717, 13908.36617613,  9995.41821023,  7082.06314155,\n",
       "       44731.93119653,  5378.13684072, 13856.62518539,  8791.10623448,\n",
       "       14198.20943696,  3497.95481975,  9518.08184391,  6279.52094043,\n",
       "        2635.68630891,  6083.93472879,  9315.2129625 ,  3671.03304134,\n",
       "        2410.67775576, 14678.94295656, 44145.63263241,  3064.49981739,\n",
       "       11372.70304817,  5709.30061807, 12444.35885532, 12420.3553688 ,\n",
       "       12289.80628257,  3546.97056281, 12291.39498618, 16967.87756992,\n",
       "        2832.64020115,  5709.30061807, 25551.23284252,  6542.56703188,\n",
       "       39921.90399182,  8060.35173142,  6489.63415338,  9531.5527727 ,\n",
       "       11089.76063427,  2857.37359306,  5546.59119928,  4909.92070203,\n",
       "        6805.46812093,  5270.7239632 , 39640.04800712,  2243.41444168,\n",
       "       14015.30245896,  8380.83966155, 39383.1771593 , 15065.1332039 ,\n",
       "        2629.85512424, 17590.33940943, 12885.41712241,  1989.91032504,\n",
       "        2185.4823023 ,  4349.98449419, 33963.68957499, 23005.10318594,\n",
       "        3028.6613608 , 15731.97243568,  4086.44837556,  3038.66917565,\n",
       "        3559.87810626,  1797.16429732, 39422.71942509, 10206.51718447,\n",
       "       11048.32744623,  7670.17576724,  2687.8821241 ,  5445.76943183,\n",
       "       12420.3553688 ,  3665.63167945,  2638.87758362, 13658.36380147,\n",
       "       10188.0314906 , 12078.83578527,  8197.22939448,  3940.40491142,\n",
       "        6459.90577612, 17505.38819607,  6520.58117671,  6505.04090353,\n",
       "       16321.55051331,  7300.25823336,  1941.17950293,  9914.80678404,\n",
       "       12280.85353617, 10318.34400592,  6800.129153  ,  3074.98177479,\n",
       "       13679.01126538,  2546.53435677, 10714.151934  ,  3618.90788884,\n",
       "        6536.97370908,  2015.69361555,  6800.129153  , 10905.36498847,\n",
       "        4075.95230858, 13997.43618467,  3488.11733452, 42762.68367793,\n",
       "       10937.17562498,  2296.79078847,  2320.56762202, 42897.48591838,\n",
       "       43176.04298839,  3418.42382854,  4915.9033679 ,  3130.00038069,\n",
       "        8420.99408967,  3529.95436152,  5465.51339865, 11294.34037791,\n",
       "        5626.61937562,  6968.71812453, 44789.22578339, 20688.49452632,\n",
       "        6721.80575743, 17561.71457453,  3159.351585  , 25986.83002595,\n",
       "       17472.68296169,  2599.37167019, 17296.66875937, 12087.68479141,\n",
       "        7464.97617456,  5272.28935809, 40848.11476961, 12267.57262409,\n",
       "        5604.66797657,  5719.17503944,  7900.56250102,  8980.08140084,\n",
       "       13699.28455753,  6488.50429582, 17465.78109012,  4740.80576891,\n",
       "        8995.12532385, 12699.47603877,  2788.06146881, 48044.34902013,\n",
       "        9120.33886859, 14715.2807432 ,  3432.8590889 ,  4186.64729133,\n",
       "       44548.93527165,  5224.94599216, 12669.49577409,  4692.39591982,\n",
       "        9641.30750714,  2838.42552813,  2959.77056128,  7814.33795061,\n",
       "       16890.98974882,  5576.09574878, 14218.33098202, 23599.71214829,\n",
       "       26037.14895304, 13587.67128596,  5129.76586853,  6410.35008012,\n",
       "       16961.24929638,  4946.50114553,  5593.21256754,  2636.78276863,\n",
       "       28135.99838987,  8426.32943799,  6475.49840204,  8426.76942278,\n",
       "        2415.57600089,  6803.00805194,  7841.95379205, 41944.25789019,\n",
       "       12432.6720081 ,  8281.62493139, 12272.92074262, 10305.19472893,\n",
       "        6556.46626776, 11175.32332059, 27755.29490447,  6142.9581239 ,\n",
       "       24514.88617498, 14486.42218423,  5723.54308212,  6580.1075812 ,\n",
       "       21984.81748635, 11060.40671241,  6513.87979512, 28139.36311192,\n",
       "        5387.84851882,  5602.84748432,  5095.82211283,  5125.36873996,\n",
       "       43938.61758287, 42368.88480321,  9318.84200825,  8205.87111236,\n",
       "        2626.05240007, 43092.62745453,  3427.61693685,  3508.25918932,\n",
       "        5870.11074585, 12429.24403743, 12087.44219208,  9641.30750714,\n",
       "        5125.36873996, 24053.64564235])"
      ]
     },
     "execution_count": 67,
     "metadata": {},
     "output_type": "execute_result"
    }
   ],
   "source": [
    "# test.csv를 예측한 결과 대입\n",
    "# log 역변환 STEP 3)\n",
    "your_answer = model.predict(test[features])\n",
    "your_answer = np.expm1(your_answer)\n",
    "your_answer"
   ]
  },
  {
   "cell_type": "code",
   "execution_count": 68,
   "metadata": {},
   "outputs": [
    {
     "name": "stdout",
     "output_type": "stream",
     "text": [
      "[통과] 문제가 발견되지 않았습니다.\n"
     ]
    }
   ],
   "source": [
    "# 값에 오류가 없는지 확인\n",
    "utils.check_error(your_answer)"
   ]
  },
  {
   "cell_type": "markdown",
   "metadata": {},
   "source": [
    "## 평가지표 (RMSLE)"
   ]
  },
  {
   "cell_type": "code",
   "execution_count": 69,
   "metadata": {},
   "outputs": [
    {
     "data": {
      "text/plain": [
       "0.02940649180614502"
      ]
     },
     "execution_count": 69,
     "metadata": {},
     "output_type": "execute_result"
    }
   ],
   "source": [
    "# 참고 코드\n",
    "from sklearn.metrics import mean_squared_log_error\n",
    "\n",
    "RMSLE = lambda y_true, y_pred: np.sqrt(mean_squared_log_error(y_true, y_pred))\n",
    "\n",
    "RMSLE(y_valid, pred)"
   ]
  },
  {
   "cell_type": "code",
   "execution_count": 70,
   "metadata": {},
   "outputs": [],
   "source": [
    "# 시각화 샘플 코드\n",
    "# utils.plot_error('Your Model', y_valid, pred)\n",
    "\n",
    "# 시각화 차트 초기화\n",
    "# utils.clear_error()"
   ]
  },
  {
   "cell_type": "markdown",
   "metadata": {
    "id": "V1PURs-gbphu"
   },
   "source": [
    "## 결과 제출\n",
    "\n",
    "### 순서대로 평가가 진행됩니다. 실행은 1회만 해주세요.\n",
    "\n",
    "- 느리다고 중지 후 다시 평가 코드를 실행하는 경우 제출 과정에서 패널티가 발생할 수 있습니다. (제출 횟수 이슈 발생 가능)\n",
    "\n",
    "- 전체 점수는 [평가시스템](http://manage.jaen.kr)에서 확인할 수 있습니다.\n",
    "    - 프로젝트 > 의료 보험비 예측 > 리더보드 > 같은 반 리더보드"
   ]
  },
  {
   "cell_type": "markdown",
   "metadata": {},
   "source": [
    "아래 Cell을 실행하여 예측 결과 업데이트"
   ]
  },
  {
   "cell_type": "code",
   "execution_count": 71,
   "metadata": {
    "id": "bK6QjWWNuxeF"
   },
   "outputs": [
    {
     "data": {
      "text/html": [
       "<div>\n",
       "<style scoped>\n",
       "    .dataframe tbody tr th:only-of-type {\n",
       "        vertical-align: middle;\n",
       "    }\n",
       "\n",
       "    .dataframe tbody tr th {\n",
       "        vertical-align: top;\n",
       "    }\n",
       "\n",
       "    .dataframe thead th {\n",
       "        text-align: right;\n",
       "    }\n",
       "</style>\n",
       "<table border=\"1\" class=\"dataframe\">\n",
       "  <thead>\n",
       "    <tr style=\"text-align: right;\">\n",
       "      <th></th>\n",
       "      <th>index</th>\n",
       "      <th>charges</th>\n",
       "    </tr>\n",
       "  </thead>\n",
       "  <tbody>\n",
       "    <tr>\n",
       "      <th>0</th>\n",
       "      <td>0</td>\n",
       "      <td>13490.383131</td>\n",
       "    </tr>\n",
       "    <tr>\n",
       "      <th>1</th>\n",
       "      <td>1</td>\n",
       "      <td>3313.591956</td>\n",
       "    </tr>\n",
       "    <tr>\n",
       "      <th>2</th>\n",
       "      <td>2</td>\n",
       "      <td>10208.413686</td>\n",
       "    </tr>\n",
       "    <tr>\n",
       "      <th>3</th>\n",
       "      <td>3</td>\n",
       "      <td>2858.647852</td>\n",
       "    </tr>\n",
       "    <tr>\n",
       "      <th>4</th>\n",
       "      <td>4</td>\n",
       "      <td>5259.121957</td>\n",
       "    </tr>\n",
       "    <tr>\n",
       "      <th>...</th>\n",
       "      <td>...</td>\n",
       "      <td>...</td>\n",
       "    </tr>\n",
       "    <tr>\n",
       "      <th>545</th>\n",
       "      <td>545</td>\n",
       "      <td>12429.244037</td>\n",
       "    </tr>\n",
       "    <tr>\n",
       "      <th>546</th>\n",
       "      <td>546</td>\n",
       "      <td>12087.442192</td>\n",
       "    </tr>\n",
       "    <tr>\n",
       "      <th>547</th>\n",
       "      <td>547</td>\n",
       "      <td>9641.307507</td>\n",
       "    </tr>\n",
       "    <tr>\n",
       "      <th>548</th>\n",
       "      <td>548</td>\n",
       "      <td>5125.368740</td>\n",
       "    </tr>\n",
       "    <tr>\n",
       "      <th>549</th>\n",
       "      <td>549</td>\n",
       "      <td>24053.645642</td>\n",
       "    </tr>\n",
       "  </tbody>\n",
       "</table>\n",
       "<p>550 rows × 2 columns</p>\n",
       "</div>"
      ],
      "text/plain": [
       "     index       charges\n",
       "0        0  13490.383131\n",
       "1        1   3313.591956\n",
       "2        2  10208.413686\n",
       "3        3   2858.647852\n",
       "4        4   5259.121957\n",
       "..     ...           ...\n",
       "545    545  12429.244037\n",
       "546    546  12087.442192\n",
       "547    547   9641.307507\n",
       "548    548   5125.368740\n",
       "549    549  24053.645642\n",
       "\n",
       "[550 rows x 2 columns]"
      ]
     },
     "metadata": {},
     "output_type": "display_data"
    },
    {
     "name": "stdout",
     "output_type": "stream",
     "text": [
      "파일을 저장하였습니다. 파일명: submission-13-26-00.csv\n",
      "제출 여부 :success\n",
      "오늘 제출 횟수 : 7\n",
      "제출 결과:0.38508828654917804\n"
     ]
    }
   ],
   "source": [
    "# 예측 결과 업데이트\n",
    "submission = pd.read_csv(os.path.join(DATA_DIR, project_name, 'submission.csv'))\n",
    "submission['charges'] = your_answer\n",
    "display(submission)\n",
    "# 제출\n",
    "project.email = email\n",
    "project.submit(submission)"
   ]
  }
 ],
 "metadata": {
  "colab": {
   "collapsed_sections": [],
   "name": "AutoML - 타이타닉 (실습)",
   "provenance": []
  },
  "kernelspec": {
   "display_name": "Python 3",
   "language": "python",
   "name": "python3"
  },
  "language_info": {
   "codemirror_mode": {
    "name": "ipython",
    "version": 3
   },
   "file_extension": ".py",
   "mimetype": "text/x-python",
   "name": "python",
   "nbconvert_exporter": "python",
   "pygments_lexer": "ipython3",
   "version": "3.6.6"
  },
  "widgets": {
   "application/vnd.jupyter.widget-state+json": {
    "015e0f866e8d46b9ae7a218d725ba454": {
     "model_module": "@jupyter-widgets/controls",
     "model_name": "DescriptionStyleModel",
     "state": {
      "_model_module": "@jupyter-widgets/controls",
      "_model_module_version": "1.5.0",
      "_model_name": "DescriptionStyleModel",
      "_view_count": null,
      "_view_module": "@jupyter-widgets/base",
      "_view_module_version": "1.2.0",
      "_view_name": "StyleView",
      "description_width": ""
     }
    },
    "02ea956512f442d5ace757c02c7bccfa": {
     "model_module": "@jupyter-widgets/base",
     "model_name": "LayoutModel",
     "state": {
      "_model_module": "@jupyter-widgets/base",
      "_model_module_version": "1.2.0",
      "_model_name": "LayoutModel",
      "_view_count": null,
      "_view_module": "@jupyter-widgets/base",
      "_view_module_version": "1.2.0",
      "_view_name": "LayoutView",
      "align_content": null,
      "align_items": null,
      "align_self": null,
      "border": null,
      "bottom": null,
      "display": null,
      "flex": null,
      "flex_flow": null,
      "grid_area": null,
      "grid_auto_columns": null,
      "grid_auto_flow": null,
      "grid_auto_rows": null,
      "grid_column": null,
      "grid_gap": null,
      "grid_row": null,
      "grid_template_areas": null,
      "grid_template_columns": null,
      "grid_template_rows": null,
      "height": null,
      "justify_content": null,
      "justify_items": null,
      "left": null,
      "margin": null,
      "max_height": null,
      "max_width": null,
      "min_height": null,
      "min_width": null,
      "object_fit": null,
      "object_position": null,
      "order": null,
      "overflow": null,
      "overflow_x": null,
      "overflow_y": null,
      "padding": null,
      "right": null,
      "top": null,
      "visibility": null,
      "width": null
     }
    },
    "03314cb3896f46b196006c251aa91512": {
     "model_module": "@jupyter-widgets/controls",
     "model_name": "DescriptionStyleModel",
     "state": {
      "_model_module": "@jupyter-widgets/controls",
      "_model_module_version": "1.5.0",
      "_model_name": "DescriptionStyleModel",
      "_view_count": null,
      "_view_module": "@jupyter-widgets/base",
      "_view_module_version": "1.2.0",
      "_view_name": "StyleView",
      "description_width": ""
     }
    },
    "0435224f73a54346a7840fa133b4083a": {
     "model_module": "@jupyter-widgets/controls",
     "model_name": "HBoxModel",
     "state": {
      "_dom_classes": [],
      "_model_module": "@jupyter-widgets/controls",
      "_model_module_version": "1.5.0",
      "_model_name": "HBoxModel",
      "_view_count": null,
      "_view_module": "@jupyter-widgets/controls",
      "_view_module_version": "1.5.0",
      "_view_name": "HBoxView",
      "box_style": "",
      "children": [
       "IPY_MODEL_cd2b5c920dec40b1a1866e2c5b20ff2b",
       "IPY_MODEL_f21d954705504e3fa6acd9d8965ac677"
      ],
      "layout": "IPY_MODEL_d9fed242eae74a15b37ba6151b6380f1"
     }
    },
    "13db7acee1054b08bb4e36ab193494f6": {
     "model_module": "@jupyter-widgets/base",
     "model_name": "LayoutModel",
     "state": {
      "_model_module": "@jupyter-widgets/base",
      "_model_module_version": "1.2.0",
      "_model_name": "LayoutModel",
      "_view_count": null,
      "_view_module": "@jupyter-widgets/base",
      "_view_module_version": "1.2.0",
      "_view_name": "LayoutView",
      "align_content": null,
      "align_items": null,
      "align_self": null,
      "border": null,
      "bottom": null,
      "display": null,
      "flex": null,
      "flex_flow": null,
      "grid_area": null,
      "grid_auto_columns": null,
      "grid_auto_flow": null,
      "grid_auto_rows": null,
      "grid_column": null,
      "grid_gap": null,
      "grid_row": null,
      "grid_template_areas": null,
      "grid_template_columns": null,
      "grid_template_rows": null,
      "height": null,
      "justify_content": null,
      "justify_items": null,
      "left": null,
      "margin": null,
      "max_height": null,
      "max_width": null,
      "min_height": null,
      "min_width": null,
      "object_fit": null,
      "object_position": null,
      "order": null,
      "overflow": null,
      "overflow_x": null,
      "overflow_y": null,
      "padding": null,
      "right": null,
      "top": null,
      "visibility": null,
      "width": null
     }
    },
    "16a2d797ba2a4717a2066c19a787f24a": {
     "model_module": "@jupyter-widgets/controls",
     "model_name": "DescriptionStyleModel",
     "state": {
      "_model_module": "@jupyter-widgets/controls",
      "_model_module_version": "1.5.0",
      "_model_name": "DescriptionStyleModel",
      "_view_count": null,
      "_view_module": "@jupyter-widgets/base",
      "_view_module_version": "1.2.0",
      "_view_name": "StyleView",
      "description_width": ""
     }
    },
    "322060bff0bd4df9bd748256e304d0aa": {
     "model_module": "@jupyter-widgets/controls",
     "model_name": "ProgressStyleModel",
     "state": {
      "_model_module": "@jupyter-widgets/controls",
      "_model_module_version": "1.5.0",
      "_model_name": "ProgressStyleModel",
      "_view_count": null,
      "_view_module": "@jupyter-widgets/base",
      "_view_module_version": "1.2.0",
      "_view_name": "StyleView",
      "bar_color": null,
      "description_width": "initial"
     }
    },
    "4439cd1028564b2c96fae42d0af47061": {
     "model_module": "@jupyter-widgets/controls",
     "model_name": "ProgressStyleModel",
     "state": {
      "_model_module": "@jupyter-widgets/controls",
      "_model_module_version": "1.5.0",
      "_model_name": "ProgressStyleModel",
      "_view_count": null,
      "_view_module": "@jupyter-widgets/base",
      "_view_module_version": "1.2.0",
      "_view_name": "StyleView",
      "bar_color": null,
      "description_width": ""
     }
    },
    "510f8aecc9414694a4f18da0828fa687": {
     "model_module": "@jupyter-widgets/base",
     "model_name": "LayoutModel",
     "state": {
      "_model_module": "@jupyter-widgets/base",
      "_model_module_version": "1.2.0",
      "_model_name": "LayoutModel",
      "_view_count": null,
      "_view_module": "@jupyter-widgets/base",
      "_view_module_version": "1.2.0",
      "_view_name": "LayoutView",
      "align_content": null,
      "align_items": null,
      "align_self": null,
      "border": null,
      "bottom": null,
      "display": null,
      "flex": null,
      "flex_flow": null,
      "grid_area": null,
      "grid_auto_columns": null,
      "grid_auto_flow": null,
      "grid_auto_rows": null,
      "grid_column": null,
      "grid_gap": null,
      "grid_row": null,
      "grid_template_areas": null,
      "grid_template_columns": null,
      "grid_template_rows": null,
      "height": null,
      "justify_content": null,
      "justify_items": null,
      "left": null,
      "margin": null,
      "max_height": null,
      "max_width": null,
      "min_height": null,
      "min_width": null,
      "object_fit": null,
      "object_position": null,
      "order": null,
      "overflow": null,
      "overflow_x": null,
      "overflow_y": null,
      "padding": null,
      "right": null,
      "top": null,
      "visibility": null,
      "width": null
     }
    },
    "5aa8aab58b6d48e18424374282a58bb5": {
     "model_module": "@jupyter-widgets/controls",
     "model_name": "FloatProgressModel",
     "state": {
      "_dom_classes": [],
      "_model_module": "@jupyter-widgets/controls",
      "_model_module_version": "1.5.0",
      "_model_name": "FloatProgressModel",
      "_view_count": null,
      "_view_module": "@jupyter-widgets/controls",
      "_view_module_version": "1.5.0",
      "_view_name": "ProgressView",
      "bar_style": "success",
      "description": "Summarize dataset: 100%",
      "description_tooltip": null,
      "layout": "IPY_MODEL_02ea956512f442d5ace757c02c7bccfa",
      "max": 26,
      "min": 0,
      "orientation": "horizontal",
      "style": "IPY_MODEL_f2d98fc0083b493688d1fe3640eca4d0",
      "value": 26
     }
    },
    "5b7292dbda434936955c75b67928e38a": {
     "model_module": "@jupyter-widgets/controls",
     "model_name": "FloatProgressModel",
     "state": {
      "_dom_classes": [],
      "_model_module": "@jupyter-widgets/controls",
      "_model_module_version": "1.5.0",
      "_model_name": "FloatProgressModel",
      "_view_count": null,
      "_view_module": "@jupyter-widgets/controls",
      "_view_module_version": "1.5.0",
      "_view_name": "ProgressView",
      "bar_style": "success",
      "description": "Generate report structure: 100%",
      "description_tooltip": null,
      "layout": "IPY_MODEL_aa288419902b48d6bb7a6e0adbb63b82",
      "max": 1,
      "min": 0,
      "orientation": "horizontal",
      "style": "IPY_MODEL_c980733c7c954623b2be5d7b9262eff4",
      "value": 1
     }
    },
    "64b6fc08affb486a9df9a76b4ac3970c": {
     "model_module": "@jupyter-widgets/controls",
     "model_name": "IntProgressModel",
     "state": {
      "_dom_classes": [],
      "_model_module": "@jupyter-widgets/controls",
      "_model_module_version": "1.5.0",
      "_model_name": "IntProgressModel",
      "_view_count": null,
      "_view_module": "@jupyter-widgets/controls",
      "_view_module_version": "1.5.0",
      "_view_name": "ProgressView",
      "bar_style": "",
      "description": "Processing: ",
      "description_tooltip": null,
      "layout": "IPY_MODEL_c8420c9e2c304d81a24467102bb75da1",
      "max": 6,
      "min": 0,
      "orientation": "horizontal",
      "style": "IPY_MODEL_b3418f3a802a4e3687cf5c4b6de44dcc",
      "value": 6
     }
    },
    "6a16892564504c76bfca1aac822b581c": {
     "model_module": "@jupyter-widgets/controls",
     "model_name": "HBoxModel",
     "state": {
      "_dom_classes": [],
      "_model_module": "@jupyter-widgets/controls",
      "_model_module_version": "1.5.0",
      "_model_name": "HBoxModel",
      "_view_count": null,
      "_view_module": "@jupyter-widgets/controls",
      "_view_module_version": "1.5.0",
      "_view_name": "HBoxView",
      "box_style": "",
      "children": [
       "IPY_MODEL_5b7292dbda434936955c75b67928e38a",
       "IPY_MODEL_fdfba2eea60445ae8db808396bc7449b"
      ],
      "layout": "IPY_MODEL_9c307de44a7d406fa6238a5b85c2ba1b"
     }
    },
    "763524a215df464bbb45f4122e018352": {
     "model_module": "@jupyter-widgets/controls",
     "model_name": "TextModel",
     "state": {
      "_dom_classes": [],
      "_model_module": "@jupyter-widgets/controls",
      "_model_module_version": "1.5.0",
      "_model_name": "TextModel",
      "_view_count": null,
      "_view_module": "@jupyter-widgets/controls",
      "_view_module_version": "1.5.0",
      "_view_name": "TextView",
      "continuous_update": true,
      "description": "",
      "description_tooltip": null,
      "disabled": false,
      "layout": "IPY_MODEL_d19e0daa9be847029b36fab46aa886eb",
      "placeholder": "​",
      "style": "IPY_MODEL_015e0f866e8d46b9ae7a218d725ba454",
      "value": "Following data types have been inferred automatically, if they are correct press enter to continue or type 'quit' otherwise."
     }
    },
    "780cdff539c04347ab2722a3783b456a": {
     "model_module": "@jupyter-widgets/controls",
     "model_name": "IntProgressModel",
     "state": {
      "_dom_classes": [],
      "_model_module": "@jupyter-widgets/controls",
      "_model_module_version": "1.5.0",
      "_model_name": "IntProgressModel",
      "_view_count": null,
      "_view_module": "@jupyter-widgets/controls",
      "_view_module_version": "1.5.0",
      "_view_name": "ProgressView",
      "bar_style": "",
      "description": "Processing: ",
      "description_tooltip": null,
      "layout": "IPY_MODEL_e954b71356f444058af82164a6ea0eda",
      "max": 3,
      "min": 0,
      "orientation": "horizontal",
      "style": "IPY_MODEL_4439cd1028564b2c96fae42d0af47061",
      "value": 3
     }
    },
    "860c8d1126a34820b8b7eefb011fec37": {
     "model_module": "@jupyter-widgets/base",
     "model_name": "LayoutModel",
     "state": {
      "_model_module": "@jupyter-widgets/base",
      "_model_module_version": "1.2.0",
      "_model_name": "LayoutModel",
      "_view_count": null,
      "_view_module": "@jupyter-widgets/base",
      "_view_module_version": "1.2.0",
      "_view_name": "LayoutView",
      "align_content": null,
      "align_items": null,
      "align_self": null,
      "border": null,
      "bottom": null,
      "display": null,
      "flex": null,
      "flex_flow": null,
      "grid_area": null,
      "grid_auto_columns": null,
      "grid_auto_flow": null,
      "grid_auto_rows": null,
      "grid_column": null,
      "grid_gap": null,
      "grid_row": null,
      "grid_template_areas": null,
      "grid_template_columns": null,
      "grid_template_rows": null,
      "height": null,
      "justify_content": null,
      "justify_items": null,
      "left": null,
      "margin": null,
      "max_height": null,
      "max_width": null,
      "min_height": null,
      "min_width": null,
      "object_fit": null,
      "object_position": null,
      "order": null,
      "overflow": null,
      "overflow_x": null,
      "overflow_y": null,
      "padding": null,
      "right": null,
      "top": null,
      "visibility": null,
      "width": null
     }
    },
    "8a3efbf34e02459db98c11e7230b08c4": {
     "model_module": "@jupyter-widgets/controls",
     "model_name": "IntProgressModel",
     "state": {
      "_dom_classes": [],
      "_model_module": "@jupyter-widgets/controls",
      "_model_module_version": "1.5.0",
      "_model_name": "IntProgressModel",
      "_view_count": null,
      "_view_module": "@jupyter-widgets/controls",
      "_view_module_version": "1.5.0",
      "_view_name": "ProgressView",
      "bar_style": "",
      "description": "Processing: ",
      "description_tooltip": null,
      "layout": "IPY_MODEL_860c8d1126a34820b8b7eefb011fec37",
      "max": 79,
      "min": 0,
      "orientation": "horizontal",
      "style": "IPY_MODEL_d294bfcde44a49d0abd44ed80405d21a",
      "value": 79
     }
    },
    "937fd9bb136044ff8d3001691eda3ff7": {
     "model_module": "@jupyter-widgets/controls",
     "model_name": "DescriptionStyleModel",
     "state": {
      "_model_module": "@jupyter-widgets/controls",
      "_model_module_version": "1.5.0",
      "_model_name": "DescriptionStyleModel",
      "_view_count": null,
      "_view_module": "@jupyter-widgets/base",
      "_view_module_version": "1.2.0",
      "_view_name": "StyleView",
      "description_width": ""
     }
    },
    "95b04f901f054d6b82df2d8620a9e931": {
     "model_module": "@jupyter-widgets/controls",
     "model_name": "HTMLModel",
     "state": {
      "_dom_classes": [],
      "_model_module": "@jupyter-widgets/controls",
      "_model_module_version": "1.5.0",
      "_model_name": "HTMLModel",
      "_view_count": null,
      "_view_module": "@jupyter-widgets/controls",
      "_view_module_version": "1.5.0",
      "_view_name": "HTMLView",
      "description": "",
      "description_tooltip": null,
      "layout": "IPY_MODEL_9d27494003a042c4b5b1408aedc07e66",
      "placeholder": "​",
      "style": "IPY_MODEL_16a2d797ba2a4717a2066c19a787f24a",
      "value": " 26/26 [00:17&lt;00:00,  1.48it/s, Completed]"
     }
    },
    "9c307de44a7d406fa6238a5b85c2ba1b": {
     "model_module": "@jupyter-widgets/base",
     "model_name": "LayoutModel",
     "state": {
      "_model_module": "@jupyter-widgets/base",
      "_model_module_version": "1.2.0",
      "_model_name": "LayoutModel",
      "_view_count": null,
      "_view_module": "@jupyter-widgets/base",
      "_view_module_version": "1.2.0",
      "_view_name": "LayoutView",
      "align_content": null,
      "align_items": null,
      "align_self": null,
      "border": null,
      "bottom": null,
      "display": null,
      "flex": null,
      "flex_flow": null,
      "grid_area": null,
      "grid_auto_columns": null,
      "grid_auto_flow": null,
      "grid_auto_rows": null,
      "grid_column": null,
      "grid_gap": null,
      "grid_row": null,
      "grid_template_areas": null,
      "grid_template_columns": null,
      "grid_template_rows": null,
      "height": null,
      "justify_content": null,
      "justify_items": null,
      "left": null,
      "margin": null,
      "max_height": null,
      "max_width": null,
      "min_height": null,
      "min_width": null,
      "object_fit": null,
      "object_position": null,
      "order": null,
      "overflow": null,
      "overflow_x": null,
      "overflow_y": null,
      "padding": null,
      "right": null,
      "top": null,
      "visibility": null,
      "width": null
     }
    },
    "9d27494003a042c4b5b1408aedc07e66": {
     "model_module": "@jupyter-widgets/base",
     "model_name": "LayoutModel",
     "state": {
      "_model_module": "@jupyter-widgets/base",
      "_model_module_version": "1.2.0",
      "_model_name": "LayoutModel",
      "_view_count": null,
      "_view_module": "@jupyter-widgets/base",
      "_view_module_version": "1.2.0",
      "_view_name": "LayoutView",
      "align_content": null,
      "align_items": null,
      "align_self": null,
      "border": null,
      "bottom": null,
      "display": null,
      "flex": null,
      "flex_flow": null,
      "grid_area": null,
      "grid_auto_columns": null,
      "grid_auto_flow": null,
      "grid_auto_rows": null,
      "grid_column": null,
      "grid_gap": null,
      "grid_row": null,
      "grid_template_areas": null,
      "grid_template_columns": null,
      "grid_template_rows": null,
      "height": null,
      "justify_content": null,
      "justify_items": null,
      "left": null,
      "margin": null,
      "max_height": null,
      "max_width": null,
      "min_height": null,
      "min_width": null,
      "object_fit": null,
      "object_position": null,
      "order": null,
      "overflow": null,
      "overflow_x": null,
      "overflow_y": null,
      "padding": null,
      "right": null,
      "top": null,
      "visibility": null,
      "width": null
     }
    },
    "a0e7fc1b851f4f3595b7862b44de0af3": {
     "model_module": "@jupyter-widgets/base",
     "model_name": "LayoutModel",
     "state": {
      "_model_module": "@jupyter-widgets/base",
      "_model_module_version": "1.2.0",
      "_model_name": "LayoutModel",
      "_view_count": null,
      "_view_module": "@jupyter-widgets/base",
      "_view_module_version": "1.2.0",
      "_view_name": "LayoutView",
      "align_content": null,
      "align_items": null,
      "align_self": null,
      "border": null,
      "bottom": null,
      "display": null,
      "flex": null,
      "flex_flow": null,
      "grid_area": null,
      "grid_auto_columns": null,
      "grid_auto_flow": null,
      "grid_auto_rows": null,
      "grid_column": null,
      "grid_gap": null,
      "grid_row": null,
      "grid_template_areas": null,
      "grid_template_columns": null,
      "grid_template_rows": null,
      "height": null,
      "justify_content": null,
      "justify_items": null,
      "left": null,
      "margin": null,
      "max_height": null,
      "max_width": null,
      "min_height": null,
      "min_width": null,
      "object_fit": null,
      "object_position": null,
      "order": null,
      "overflow": null,
      "overflow_x": null,
      "overflow_y": null,
      "padding": null,
      "right": null,
      "top": null,
      "visibility": null,
      "width": null
     }
    },
    "aa288419902b48d6bb7a6e0adbb63b82": {
     "model_module": "@jupyter-widgets/base",
     "model_name": "LayoutModel",
     "state": {
      "_model_module": "@jupyter-widgets/base",
      "_model_module_version": "1.2.0",
      "_model_name": "LayoutModel",
      "_view_count": null,
      "_view_module": "@jupyter-widgets/base",
      "_view_module_version": "1.2.0",
      "_view_name": "LayoutView",
      "align_content": null,
      "align_items": null,
      "align_self": null,
      "border": null,
      "bottom": null,
      "display": null,
      "flex": null,
      "flex_flow": null,
      "grid_area": null,
      "grid_auto_columns": null,
      "grid_auto_flow": null,
      "grid_auto_rows": null,
      "grid_column": null,
      "grid_gap": null,
      "grid_row": null,
      "grid_template_areas": null,
      "grid_template_columns": null,
      "grid_template_rows": null,
      "height": null,
      "justify_content": null,
      "justify_items": null,
      "left": null,
      "margin": null,
      "max_height": null,
      "max_width": null,
      "min_height": null,
      "min_width": null,
      "object_fit": null,
      "object_position": null,
      "order": null,
      "overflow": null,
      "overflow_x": null,
      "overflow_y": null,
      "padding": null,
      "right": null,
      "top": null,
      "visibility": null,
      "width": null
     }
    },
    "b3418f3a802a4e3687cf5c4b6de44dcc": {
     "model_module": "@jupyter-widgets/controls",
     "model_name": "ProgressStyleModel",
     "state": {
      "_model_module": "@jupyter-widgets/controls",
      "_model_module_version": "1.5.0",
      "_model_name": "ProgressStyleModel",
      "_view_count": null,
      "_view_module": "@jupyter-widgets/base",
      "_view_module_version": "1.2.0",
      "_view_name": "StyleView",
      "bar_color": null,
      "description_width": ""
     }
    },
    "c8420c9e2c304d81a24467102bb75da1": {
     "model_module": "@jupyter-widgets/base",
     "model_name": "LayoutModel",
     "state": {
      "_model_module": "@jupyter-widgets/base",
      "_model_module_version": "1.2.0",
      "_model_name": "LayoutModel",
      "_view_count": null,
      "_view_module": "@jupyter-widgets/base",
      "_view_module_version": "1.2.0",
      "_view_name": "LayoutView",
      "align_content": null,
      "align_items": null,
      "align_self": null,
      "border": null,
      "bottom": null,
      "display": null,
      "flex": null,
      "flex_flow": null,
      "grid_area": null,
      "grid_auto_columns": null,
      "grid_auto_flow": null,
      "grid_auto_rows": null,
      "grid_column": null,
      "grid_gap": null,
      "grid_row": null,
      "grid_template_areas": null,
      "grid_template_columns": null,
      "grid_template_rows": null,
      "height": null,
      "justify_content": null,
      "justify_items": null,
      "left": null,
      "margin": null,
      "max_height": null,
      "max_width": null,
      "min_height": null,
      "min_width": null,
      "object_fit": null,
      "object_position": null,
      "order": null,
      "overflow": null,
      "overflow_x": null,
      "overflow_y": null,
      "padding": null,
      "right": null,
      "top": null,
      "visibility": null,
      "width": null
     }
    },
    "c980733c7c954623b2be5d7b9262eff4": {
     "model_module": "@jupyter-widgets/controls",
     "model_name": "ProgressStyleModel",
     "state": {
      "_model_module": "@jupyter-widgets/controls",
      "_model_module_version": "1.5.0",
      "_model_name": "ProgressStyleModel",
      "_view_count": null,
      "_view_module": "@jupyter-widgets/base",
      "_view_module_version": "1.2.0",
      "_view_name": "StyleView",
      "bar_color": null,
      "description_width": "initial"
     }
    },
    "cd2b5c920dec40b1a1866e2c5b20ff2b": {
     "model_module": "@jupyter-widgets/controls",
     "model_name": "FloatProgressModel",
     "state": {
      "_dom_classes": [],
      "_model_module": "@jupyter-widgets/controls",
      "_model_module_version": "1.5.0",
      "_model_name": "FloatProgressModel",
      "_view_count": null,
      "_view_module": "@jupyter-widgets/controls",
      "_view_module_version": "1.5.0",
      "_view_name": "ProgressView",
      "bar_style": "success",
      "description": "Render HTML: 100%",
      "description_tooltip": null,
      "layout": "IPY_MODEL_510f8aecc9414694a4f18da0828fa687",
      "max": 1,
      "min": 0,
      "orientation": "horizontal",
      "style": "IPY_MODEL_322060bff0bd4df9bd748256e304d0aa",
      "value": 1
     }
    },
    "d19e0daa9be847029b36fab46aa886eb": {
     "model_module": "@jupyter-widgets/base",
     "model_name": "LayoutModel",
     "state": {
      "_model_module": "@jupyter-widgets/base",
      "_model_module_version": "1.2.0",
      "_model_name": "LayoutModel",
      "_view_count": null,
      "_view_module": "@jupyter-widgets/base",
      "_view_module_version": "1.2.0",
      "_view_name": "LayoutView",
      "align_content": null,
      "align_items": null,
      "align_self": null,
      "border": null,
      "bottom": null,
      "display": null,
      "flex": null,
      "flex_flow": null,
      "grid_area": null,
      "grid_auto_columns": null,
      "grid_auto_flow": null,
      "grid_auto_rows": null,
      "grid_column": null,
      "grid_gap": null,
      "grid_row": null,
      "grid_template_areas": null,
      "grid_template_columns": null,
      "grid_template_rows": null,
      "height": null,
      "justify_content": null,
      "justify_items": null,
      "left": null,
      "margin": null,
      "max_height": null,
      "max_width": null,
      "min_height": null,
      "min_width": null,
      "object_fit": null,
      "object_position": null,
      "order": null,
      "overflow": null,
      "overflow_x": null,
      "overflow_y": null,
      "padding": null,
      "right": null,
      "top": null,
      "visibility": null,
      "width": "100%"
     }
    },
    "d294bfcde44a49d0abd44ed80405d21a": {
     "model_module": "@jupyter-widgets/controls",
     "model_name": "ProgressStyleModel",
     "state": {
      "_model_module": "@jupyter-widgets/controls",
      "_model_module_version": "1.5.0",
      "_model_name": "ProgressStyleModel",
      "_view_count": null,
      "_view_module": "@jupyter-widgets/base",
      "_view_module_version": "1.2.0",
      "_view_name": "StyleView",
      "bar_color": null,
      "description_width": ""
     }
    },
    "d9fed242eae74a15b37ba6151b6380f1": {
     "model_module": "@jupyter-widgets/base",
     "model_name": "LayoutModel",
     "state": {
      "_model_module": "@jupyter-widgets/base",
      "_model_module_version": "1.2.0",
      "_model_name": "LayoutModel",
      "_view_count": null,
      "_view_module": "@jupyter-widgets/base",
      "_view_module_version": "1.2.0",
      "_view_name": "LayoutView",
      "align_content": null,
      "align_items": null,
      "align_self": null,
      "border": null,
      "bottom": null,
      "display": null,
      "flex": null,
      "flex_flow": null,
      "grid_area": null,
      "grid_auto_columns": null,
      "grid_auto_flow": null,
      "grid_auto_rows": null,
      "grid_column": null,
      "grid_gap": null,
      "grid_row": null,
      "grid_template_areas": null,
      "grid_template_columns": null,
      "grid_template_rows": null,
      "height": null,
      "justify_content": null,
      "justify_items": null,
      "left": null,
      "margin": null,
      "max_height": null,
      "max_width": null,
      "min_height": null,
      "min_width": null,
      "object_fit": null,
      "object_position": null,
      "order": null,
      "overflow": null,
      "overflow_x": null,
      "overflow_y": null,
      "padding": null,
      "right": null,
      "top": null,
      "visibility": null,
      "width": null
     }
    },
    "e954b71356f444058af82164a6ea0eda": {
     "model_module": "@jupyter-widgets/base",
     "model_name": "LayoutModel",
     "state": {
      "_model_module": "@jupyter-widgets/base",
      "_model_module_version": "1.2.0",
      "_model_name": "LayoutModel",
      "_view_count": null,
      "_view_module": "@jupyter-widgets/base",
      "_view_module_version": "1.2.0",
      "_view_name": "LayoutView",
      "align_content": null,
      "align_items": null,
      "align_self": null,
      "border": null,
      "bottom": null,
      "display": null,
      "flex": null,
      "flex_flow": null,
      "grid_area": null,
      "grid_auto_columns": null,
      "grid_auto_flow": null,
      "grid_auto_rows": null,
      "grid_column": null,
      "grid_gap": null,
      "grid_row": null,
      "grid_template_areas": null,
      "grid_template_columns": null,
      "grid_template_rows": null,
      "height": null,
      "justify_content": null,
      "justify_items": null,
      "left": null,
      "margin": null,
      "max_height": null,
      "max_width": null,
      "min_height": null,
      "min_width": null,
      "object_fit": null,
      "object_position": null,
      "order": null,
      "overflow": null,
      "overflow_x": null,
      "overflow_y": null,
      "padding": null,
      "right": null,
      "top": null,
      "visibility": null,
      "width": null
     }
    },
    "f21d954705504e3fa6acd9d8965ac677": {
     "model_module": "@jupyter-widgets/controls",
     "model_name": "HTMLModel",
     "state": {
      "_dom_classes": [],
      "_model_module": "@jupyter-widgets/controls",
      "_model_module_version": "1.5.0",
      "_model_name": "HTMLModel",
      "_view_count": null,
      "_view_module": "@jupyter-widgets/controls",
      "_view_module_version": "1.5.0",
      "_view_name": "HTMLView",
      "description": "",
      "description_tooltip": null,
      "layout": "IPY_MODEL_13db7acee1054b08bb4e36ab193494f6",
      "placeholder": "​",
      "style": "IPY_MODEL_03314cb3896f46b196006c251aa91512",
      "value": " 1/1 [00:02&lt;00:00,  2.67s/it]"
     }
    },
    "f2d98fc0083b493688d1fe3640eca4d0": {
     "model_module": "@jupyter-widgets/controls",
     "model_name": "ProgressStyleModel",
     "state": {
      "_model_module": "@jupyter-widgets/controls",
      "_model_module_version": "1.5.0",
      "_model_name": "ProgressStyleModel",
      "_view_count": null,
      "_view_module": "@jupyter-widgets/base",
      "_view_module_version": "1.2.0",
      "_view_name": "StyleView",
      "bar_color": null,
      "description_width": "initial"
     }
    },
    "f7a0f477560c4b24864afe581307e1e0": {
     "model_module": "@jupyter-widgets/base",
     "model_name": "LayoutModel",
     "state": {
      "_model_module": "@jupyter-widgets/base",
      "_model_module_version": "1.2.0",
      "_model_name": "LayoutModel",
      "_view_count": null,
      "_view_module": "@jupyter-widgets/base",
      "_view_module_version": "1.2.0",
      "_view_name": "LayoutView",
      "align_content": null,
      "align_items": null,
      "align_self": null,
      "border": null,
      "bottom": null,
      "display": null,
      "flex": null,
      "flex_flow": null,
      "grid_area": null,
      "grid_auto_columns": null,
      "grid_auto_flow": null,
      "grid_auto_rows": null,
      "grid_column": null,
      "grid_gap": null,
      "grid_row": null,
      "grid_template_areas": null,
      "grid_template_columns": null,
      "grid_template_rows": null,
      "height": null,
      "justify_content": null,
      "justify_items": null,
      "left": null,
      "margin": null,
      "max_height": null,
      "max_width": null,
      "min_height": null,
      "min_width": null,
      "object_fit": null,
      "object_position": null,
      "order": null,
      "overflow": null,
      "overflow_x": null,
      "overflow_y": null,
      "padding": null,
      "right": null,
      "top": null,
      "visibility": null,
      "width": null
     }
    },
    "f7c670f165964cc490213f2dba1174d1": {
     "model_module": "@jupyter-widgets/controls",
     "model_name": "HBoxModel",
     "state": {
      "_dom_classes": [],
      "_model_module": "@jupyter-widgets/controls",
      "_model_module_version": "1.5.0",
      "_model_name": "HBoxModel",
      "_view_count": null,
      "_view_module": "@jupyter-widgets/controls",
      "_view_module_version": "1.5.0",
      "_view_name": "HBoxView",
      "box_style": "",
      "children": [
       "IPY_MODEL_5aa8aab58b6d48e18424374282a58bb5",
       "IPY_MODEL_95b04f901f054d6b82df2d8620a9e931"
      ],
      "layout": "IPY_MODEL_f7a0f477560c4b24864afe581307e1e0"
     }
    },
    "fdfba2eea60445ae8db808396bc7449b": {
     "model_module": "@jupyter-widgets/controls",
     "model_name": "HTMLModel",
     "state": {
      "_dom_classes": [],
      "_model_module": "@jupyter-widgets/controls",
      "_model_module_version": "1.5.0",
      "_model_name": "HTMLModel",
      "_view_count": null,
      "_view_module": "@jupyter-widgets/controls",
      "_view_module_version": "1.5.0",
      "_view_name": "HTMLView",
      "description": "",
      "description_tooltip": null,
      "layout": "IPY_MODEL_a0e7fc1b851f4f3595b7862b44de0af3",
      "placeholder": "​",
      "style": "IPY_MODEL_937fd9bb136044ff8d3001691eda3ff7",
      "value": " 1/1 [00:10&lt;00:00, 10.29s/it]"
     }
    }
   }
  }
 },
 "nbformat": 4,
 "nbformat_minor": 1
}
