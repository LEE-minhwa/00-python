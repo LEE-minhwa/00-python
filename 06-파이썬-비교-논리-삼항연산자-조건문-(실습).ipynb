{
 "cells": [
  {
   "cell_type": "markdown",
   "metadata": {
    "id": "mkSnBW98EIs-"
   },
   "source": [
    "# 비교연산자\n",
    "\n",
    "비교 연산자는 주로 대소비교를 할 때 사용합니다."
   ]
  },
  {
   "cell_type": "markdown",
   "metadata": {
    "id": "HEG6iuONEswX"
   },
   "source": [
    "## 대소비교 \n",
    "\n",
    "- `>`: 크다\n",
    "- `>=`: 크거나 같다\n",
    "- `<`: 작다 \n",
    "- `<=`: 작거나 같다"
   ]
  },
  {
   "cell_type": "code",
   "execution_count": 1,
   "metadata": {
    "colab": {
     "base_uri": "https://localhost:8080/"
    },
    "id": "wiLgE47fEs1S",
    "outputId": "585b7cab-7d4a-465c-b2c5-fc3a455c6f64"
   },
   "outputs": [
    {
     "data": {
      "text/plain": [
       "False"
      ]
     },
     "execution_count": 1,
     "metadata": {},
     "output_type": "execute_result"
    }
   ],
   "source": [
    "1 > 2"
   ]
  },
  {
   "cell_type": "code",
   "execution_count": 2,
   "metadata": {
    "colab": {
     "base_uri": "https://localhost:8080/"
    },
    "id": "0b6l023CEs5o",
    "outputId": "2f8f6963-6dd2-41b7-b9ff-5a10590f29a7"
   },
   "outputs": [
    {
     "data": {
      "text/plain": [
       "True"
      ]
     },
     "execution_count": 2,
     "metadata": {},
     "output_type": "execute_result"
    }
   ],
   "source": [
    "10 >= 10"
   ]
  },
  {
   "cell_type": "code",
   "execution_count": 3,
   "metadata": {
    "colab": {
     "base_uri": "https://localhost:8080/"
    },
    "id": "3TTqQvmJEs91",
    "outputId": "89ad1ed4-dbe9-46ac-d4e7-071d8445708f"
   },
   "outputs": [
    {
     "data": {
      "text/plain": [
       "True"
      ]
     },
     "execution_count": 3,
     "metadata": {},
     "output_type": "execute_result"
    }
   ],
   "source": [
    "9 < 10"
   ]
  },
  {
   "cell_type": "code",
   "execution_count": 4,
   "metadata": {
    "colab": {
     "base_uri": "https://localhost:8080/"
    },
    "id": "llirdNcSEtE5",
    "outputId": "35043948-34c4-438d-8ade-b1bc62492ff8"
   },
   "outputs": [
    {
     "data": {
      "text/plain": [
       "False"
      ]
     },
     "execution_count": 4,
     "metadata": {},
     "output_type": "execute_result"
    }
   ],
   "source": [
    "8 <= 7"
   ]
  },
  {
   "cell_type": "markdown",
   "metadata": {
    "id": "YnFEo5W4FBQV"
   },
   "source": [
    "## 같다와 같지 않다"
   ]
  },
  {
   "cell_type": "markdown",
   "metadata": {},
   "source": [
    "### == : 같음을 비교"
   ]
  },
  {
   "cell_type": "markdown",
   "metadata": {
    "id": "c9JH4zBNFBGf"
   },
   "source": [
    "- `=`는 대입 연산자 입니다. \n",
    "- 코딩에서는 `=` 이 대입 연산자로 사용되기 때문에 `==`을 사용하고 있습니다."
   ]
  },
  {
   "cell_type": "code",
   "execution_count": null,
   "metadata": {
    "colab": {
     "base_uri": "https://localhost:8080/",
     "height": 136
    },
    "id": "g0FqYbH0FPsZ",
    "outputId": "a75489ef-6017-40f0-840e-f3ee83de69d9"
   },
   "outputs": [],
   "source": [
    "2 = 2"
   ]
  },
  {
   "cell_type": "code",
   "execution_count": null,
   "metadata": {
    "id": "lCnEQx-KFA_R"
   },
   "outputs": [],
   "source": [
    "2 == 2"
   ]
  },
  {
   "cell_type": "code",
   "execution_count": null,
   "metadata": {
    "id": "uu38fqhwOv_t"
   },
   "outputs": [],
   "source": [
    "2 == 3"
   ]
  },
  {
   "cell_type": "markdown",
   "metadata": {
    "id": "J8S0jzfGFKLz"
   },
   "source": [
    "### != 같지 않음을 비교"
   ]
  },
  {
   "cell_type": "code",
   "execution_count": null,
   "metadata": {
    "id": "FN2gAfWMFKRy"
   },
   "outputs": [],
   "source": [
    "2 != 2"
   ]
  },
  {
   "cell_type": "code",
   "execution_count": null,
   "metadata": {
    "id": "FVrNPEq7FKZk"
   },
   "outputs": [],
   "source": [
    "1 != 2"
   ]
  },
  {
   "cell_type": "code",
   "execution_count": null,
   "metadata": {
    "id": "cjB7v1JiFc78"
   },
   "outputs": [],
   "source": [
    "'나' != '너'"
   ]
  },
  {
   "cell_type": "code",
   "execution_count": null,
   "metadata": {
    "id": "7b47rVKRFcuZ"
   },
   "outputs": [],
   "source": [
    "'나' != '나'"
   ]
  },
  {
   "cell_type": "markdown",
   "metadata": {
    "id": "nVJ1deTbACiP"
   },
   "source": [
    "## 조건문"
   ]
  },
  {
   "cell_type": "markdown",
   "metadata": {
    "id": "DUrQsRomElox"
   },
   "source": [
    "조건문이란 무엇일까요?\n",
    "\n",
    "주어진 조건이 **참**인 경우 그 다음 내가 정한 규칙(로직)을 실행하는 개념입니다."
   ]
  },
  {
   "cell_type": "markdown",
   "metadata": {
    "id": "eyntgHbrAJW2"
   },
   "source": [
    "### if"
   ]
  },
  {
   "cell_type": "markdown",
   "metadata": {
    "id": "Nq6CmuoYALrr"
   },
   "source": [
    "- if는 어떤 조건이 성립한다면~ 이라는 뜻입니다.\n",
    "- if 구문 끝에는 반드시 콜론(:)을 잊지 말아 주세요"
   ]
  },
  {
   "cell_type": "code",
   "execution_count": null,
   "metadata": {
    "id": "tNkI-ROGAPPz"
   },
   "outputs": [],
   "source": [
    "if 5 > 3:\n",
    "    print('참')"
   ]
  },
  {
   "cell_type": "code",
   "execution_count": null,
   "metadata": {
    "id": "udUZJO19Ngk3"
   },
   "outputs": [],
   "source": [
    "if 5 < 3:\n",
    "    print('참')\n",
    "    print('참')\n",
    "    print('참')\n",
    "    print('참')\n",
    "\n",
    "print('끝')"
   ]
  },
  {
   "cell_type": "code",
   "execution_count": null,
   "metadata": {
    "id": "BIBsVKLRAUus"
   },
   "outputs": [],
   "source": [
    "if 5 < 3:\n",
    "    print('참')"
   ]
  },
  {
   "cell_type": "markdown",
   "metadata": {
    "id": "vTqQGfv5Ac4a"
   },
   "source": [
    "### else"
   ]
  },
  {
   "cell_type": "markdown",
   "metadata": {
    "id": "EzJHdesGAjTQ"
   },
   "source": [
    "else는 if 조건 후에 따라오며, if 가 아닌 경우에 실행 됩니다."
   ]
  },
  {
   "cell_type": "code",
   "execution_count": 1,
   "metadata": {
    "id": "DsGowvtQAq6B"
   },
   "outputs": [
    {
     "name": "stdout",
     "output_type": "stream",
     "text": [
      "else 구문 실행\n"
     ]
    }
   ],
   "source": [
    "if 5 < 3:\n",
    "    print('if 구문 실행')\n",
    "else:\n",
    "    print('else 구문 실행')"
   ]
  },
  {
   "cell_type": "markdown",
   "metadata": {
    "id": "RIHTuYU7DJm2"
   },
   "source": [
    "하지만, else 만 단독으로 실행한다면?"
   ]
  },
  {
   "cell_type": "code",
   "execution_count": 2,
   "metadata": {
    "id": "9I834w_8DOBx"
   },
   "outputs": [
    {
     "ename": "SyntaxError",
     "evalue": "invalid syntax (<ipython-input-2-5018a7ac68d5>, line 1)",
     "output_type": "error",
     "traceback": [
      "\u001b[0;36m  File \u001b[0;32m\"<ipython-input-2-5018a7ac68d5>\"\u001b[0;36m, line \u001b[0;32m1\u001b[0m\n\u001b[0;31m    else:\u001b[0m\n\u001b[0m       ^\u001b[0m\n\u001b[0;31mSyntaxError\u001b[0m\u001b[0;31m:\u001b[0m invalid syntax\n"
     ]
    }
   ],
   "source": [
    "else:\n",
    "    print('else 구문 실행')"
   ]
  },
  {
   "cell_type": "markdown",
   "metadata": {
    "id": "YRckrfc3DSsM"
   },
   "source": [
    "### elif"
   ]
  },
  {
   "cell_type": "markdown",
   "metadata": {
    "id": "LS8DofkNDWUS"
   },
   "source": [
    "elif 구문은 3가지 이상 분기 (조건)의 동작을 수행할 때 사용합니다.\n"
   ]
  },
  {
   "cell_type": "code",
   "execution_count": 3,
   "metadata": {
    "id": "j6-32b6TDeNM"
   },
   "outputs": [
    {
     "name": "stdout",
     "output_type": "stream",
     "text": [
      "elif 구문\n"
     ]
    }
   ],
   "source": [
    "if 3 > 5:\n",
    "    print('if 구문')\n",
    "elif 3 < 4:\n",
    "    print('elif 구문')\n",
    "else:\n",
    "    print('이것도 저것도 아니다')"
   ]
  },
  {
   "cell_type": "markdown",
   "metadata": {
    "id": "kj9j--pEDzum"
   },
   "source": [
    "그럼, **elif 구문이 참인 여러 구문**을 나열 했을 때는 어떻게 될까요?\n",
    "\n",
    "한 번 고민해보고 실행하세요"
   ]
  },
  {
   "cell_type": "code",
   "execution_count": 4,
   "metadata": {
    "id": "CoA1nNx4DttN"
   },
   "outputs": [
    {
     "name": "stdout",
     "output_type": "stream",
     "text": [
      "if 구문\n"
     ]
    }
   ],
   "source": [
    "if 3 < 5:\n",
    "    print('if 구문')\n",
    "elif 3 < 4:\n",
    "    print('elif 1 구문')\n",
    "elif 3 > 5:\n",
    "    print('elif 2 구문')\n",
    "elif 3 < 6:\n",
    "    print('elif 3 구문')\n",
    "else:\n",
    "    print('이것도 저것도 아니다')"
   ]
  },
  {
   "cell_type": "markdown",
   "metadata": {
    "id": "IH3OU9JEGL2C"
   },
   "source": [
    "### 1 이나 0은 참 이나 거짓을 표현하기도 합니다."
   ]
  },
  {
   "cell_type": "code",
   "execution_count": 16,
   "metadata": {
    "id": "QvLPbzLSGLqz"
   },
   "outputs": [
    {
     "name": "stdout",
     "output_type": "stream",
     "text": [
      "참\n"
     ]
    }
   ],
   "source": [
    "if 1:\n",
    "    print('참')\n",
    "else:\n",
    "    print('거짓')"
   ]
  },
  {
   "cell_type": "code",
   "execution_count": 17,
   "metadata": {
    "id": "nZaec2FMGV36"
   },
   "outputs": [
    {
     "name": "stdout",
     "output_type": "stream",
     "text": [
      "거짓\n"
     ]
    }
   ],
   "source": [
    "if 0:\n",
    "    print('참')\n",
    "else:\n",
    "    print('거짓')"
   ]
  },
  {
   "cell_type": "markdown",
   "metadata": {},
   "source": [
    "## 삼항연산자\n",
    "\n",
    "(문법) **(참인 값) if 조건 else (거짓인경우 값)**\n",
    "\n",
    "삼항연산자는 파이썬 문법에서 흔히 볼 수 있는 연산자 이며, 조건에 대한 참인 경우의 값 그렇지 않은 경우의 값을 뒤에 지정합니다."
   ]
  },
  {
   "cell_type": "code",
   "execution_count": 20,
   "metadata": {},
   "outputs": [
    {
     "data": {
      "text/plain": [
       "'30세 이상입니다.'"
      ]
     },
     "execution_count": 20,
     "metadata": {},
     "output_type": "execute_result"
    }
   ],
   "source": [
    "age = 35\n",
    "\n",
    "\"30세 이상입니다.\" if age >= 30 else \"30세 이하입니다.\""
   ]
  },
  {
   "cell_type": "code",
   "execution_count": null,
   "metadata": {},
   "outputs": [],
   "source": [
    "age = 20\n",
    "\n",
    "\"30세 이상입니다.\" if age >= 30 else \"30세 이하입니다.\""
   ]
  },
  {
   "cell_type": "markdown",
   "metadata": {},
   "source": [
    "### 연습문제"
   ]
  },
  {
   "cell_type": "markdown",
   "metadata": {},
   "source": [
    "사용자에게 몸무게를 입력 받아 과체중인지 정상 체중인지 출력하는 프로그램을 만드세요.\n",
    "\n",
    "- 몸무게가 100kg 초과이면 '귀하는 과체중 입니다.' 메시지를 출력하세요\n",
    "- 몸무게가 100kg 이하이면 '귀하는 정상체중 입니다.' 메시지를 출력하세요\n",
    "- 몸무게 입력은 input() 함수를 사용하여 입력 받습니다.\n",
    "- 반드시 **삼항연산자를 활용**하세요"
   ]
  },
  {
   "cell_type": "code",
   "execution_count": 24,
   "metadata": {},
   "outputs": [
    {
     "name": "stdout",
     "output_type": "stream",
     "text": [
      "몸무게를 입력해 주세요: 110\n"
     ]
    }
   ],
   "source": [
    "# 입력 예시 (105로 입력한 경우)\n",
    "weight = input('몸무게를 입력해 주세요: ')"
   ]
  },
  {
   "cell_type": "code",
   "execution_count": 25,
   "metadata": {},
   "outputs": [
    {
     "data": {
      "text/plain": [
       "'귀하는 과체중 입니다.'"
      ]
     },
     "execution_count": 25,
     "metadata": {},
     "output_type": "execute_result"
    }
   ],
   "source": [
    "# 코드를 입력해 주세요\n",
    "weight = int(weight)\n",
    "\"귀하는 과체중 입니다.\"if weight > 100 else \"귀하는 정상체중 입니다.\""
   ]
  },
  {
   "cell_type": "markdown",
   "metadata": {},
   "source": [
    "<p><strong>[출력 결과]</strong></p><pre>'귀하는 과체중 입니다.'</pre>"
   ]
  },
  {
   "cell_type": "markdown",
   "metadata": {
    "id": "UkBFrQ99EIlN"
   },
   "source": [
    "## 논리 연산자 (and, or, not)"
   ]
  },
  {
   "cell_type": "markdown",
   "metadata": {
    "id": "JArIvFX7F4xv"
   },
   "source": [
    "**and**나 **or** 조건은 두 가지 이상 조건을 다룰 때 활용합니다."
   ]
  },
  {
   "cell_type": "markdown",
   "metadata": {
    "id": "1r39VMGsF_e4"
   },
   "source": [
    "### and \n",
    "\n",
    "- and 조건은 **모두 만족**할 때 참으로 인식합니다."
   ]
  },
  {
   "cell_type": "code",
   "execution_count": 26,
   "metadata": {
    "id": "BMup-Y9VGGts"
   },
   "outputs": [
    {
     "data": {
      "text/plain": [
       "True"
      ]
     },
     "execution_count": 26,
     "metadata": {},
     "output_type": "execute_result"
    }
   ],
   "source": [
    "True and True and True"
   ]
  },
  {
   "cell_type": "code",
   "execution_count": 27,
   "metadata": {
    "id": "SVDUfdmLGIXm"
   },
   "outputs": [
    {
     "data": {
      "text/plain": [
       "False"
      ]
     },
     "execution_count": 27,
     "metadata": {},
     "output_type": "execute_result"
    }
   ],
   "source": [
    "True and False and True"
   ]
  },
  {
   "cell_type": "code",
   "execution_count": null,
   "metadata": {
    "id": "1ZjfDRh3GJwz"
   },
   "outputs": [],
   "source": [
    "if (0 < 1) and (0 < 2):\n",
    "    print('A도 참, B도 참: 모두 참')\n",
    "else:\n",
    "    print('거짓')"
   ]
  },
  {
   "cell_type": "code",
   "execution_count": null,
   "metadata": {
    "id": "cuHoVgi5GvVy"
   },
   "outputs": [],
   "source": [
    "if (0 < 1) and (0 > 2):\n",
    "    print('A도 참, B도 참: 모두 참')\n",
    "else:\n",
    "    print('거짓')"
   ]
  },
  {
   "cell_type": "markdown",
   "metadata": {
    "id": "LpFTEajiGxRN"
   },
   "source": [
    "### or\n",
    "\n",
    "- or 조건은 조건 중 **하나라도 만족**할 때 참으로 인식합니다."
   ]
  },
  {
   "cell_type": "code",
   "execution_count": null,
   "metadata": {
    "id": "kQnJHHiHG7MI"
   },
   "outputs": [],
   "source": [
    "True or False or False"
   ]
  },
  {
   "cell_type": "code",
   "execution_count": null,
   "metadata": {
    "id": "jEH3pQIDG9ls"
   },
   "outputs": [],
   "source": [
    "False or False or False"
   ]
  },
  {
   "cell_type": "code",
   "execution_count": null,
   "metadata": {
    "id": "pCiPRf0FHBhx"
   },
   "outputs": [],
   "source": [
    "if (0 < 1) or ( 1 < 0):\n",
    "    print('A 혹은 B중 하나라도 참')\n",
    "else:\n",
    "    print('거짓')"
   ]
  },
  {
   "cell_type": "code",
   "execution_count": null,
   "metadata": {
    "id": "IXQSEQYjHKRz"
   },
   "outputs": [],
   "source": [
    "if (10 < 1) or ( 1 < 0):\n",
    "    print('A 혹은 B중 하나라도 참')\n",
    "else:\n",
    "    print('거짓')"
   ]
  },
  {
   "cell_type": "markdown",
   "metadata": {},
   "source": [
    "### not\n",
    "\n",
    "- bool 값을 반전시킵니다."
   ]
  },
  {
   "cell_type": "code",
   "execution_count": null,
   "metadata": {},
   "outputs": [],
   "source": [
    "not True"
   ]
  },
  {
   "cell_type": "code",
   "execution_count": null,
   "metadata": {},
   "outputs": [],
   "source": [
    "not False"
   ]
  },
  {
   "cell_type": "code",
   "execution_count": null,
   "metadata": {},
   "outputs": [],
   "source": [
    "if not True:\n",
    "    print('not True')"
   ]
  },
  {
   "cell_type": "code",
   "execution_count": null,
   "metadata": {},
   "outputs": [],
   "source": [
    "if not False:\n",
    "    print('not False')"
   ]
  },
  {
   "cell_type": "markdown",
   "metadata": {},
   "source": [
    "## 연습문제"
   ]
  },
  {
   "cell_type": "markdown",
   "metadata": {},
   "source": [
    "### 문제 1"
   ]
  },
  {
   "cell_type": "markdown",
   "metadata": {},
   "source": [
    "- (몸무게 + 100 - 키)를 비만 수치 공식이라고 가정합니다.\n",
    "- 키와 몸무게를 입력받아 첫 번째 줄에 비만 수치를 출력합니다.\n",
    "- 비만 수치가 0보다 크면 비만이라는 메시지를 출력하세요.\n",
    "\n",
    "```\n",
    "입력 예) info =[155, 60] (키, 몸무게 순)\n",
    "출력[1]: 비만수치는 5 입니다.\n",
    "출력[2]: 당신은 비만입니다.\n",
    "```"
   ]
  },
  {
   "cell_type": "code",
   "execution_count": 32,
   "metadata": {},
   "outputs": [],
   "source": [
    "info = [155, 60]"
   ]
  },
  {
   "cell_type": "code",
   "execution_count": 33,
   "metadata": {},
   "outputs": [
    {
     "name": "stdout",
     "output_type": "stream",
     "text": [
      "비만수치는5입니다\n",
      "당신은 비만입니다.\n"
     ]
    }
   ],
   "source": [
    "# 코드를 입력해 주세요\n",
    "bmi = info[1] + 100 - info[0]\n",
    "bmi = int(bmi)\n",
    "print(f\"비만수치는{bmi}입니다\")\n",
    "if bmi > 0:\n",
    "     print(\"당신은 비만입니다.\")"
   ]
  },
  {
   "cell_type": "markdown",
   "metadata": {},
   "source": [
    "<p><strong>[출력 결과]</strong></p><pre>비만수치는 5입니다\n",
    "당신은 비만입니다.\n",
    "</pre>"
   ]
  },
  {
   "cell_type": "markdown",
   "metadata": {},
   "source": [
    "### 문제 2"
   ]
  },
  {
   "cell_type": "markdown",
   "metadata": {},
   "source": [
    "성적을 입력받아 90점 이상이면 A, 80점이상이면 B, 70점 이상이면 C, 70점 미만이면 D를 출력하세요\n",
    "- 단, 점수가 음수이거나 100점을 초과하는 경우에는 '에러'를 출력하세요\n",
    "\n",
    "힌트) input() 함수를 사용합니다.\n",
    "- input() 함수는 사용자로부터 입력 값을 받을 수 있습니다."
   ]
  },
  {
   "cell_type": "code",
   "execution_count": 37,
   "metadata": {},
   "outputs": [
    {
     "name": "stdout",
     "output_type": "stream",
     "text": [
      "성적을 입력해주세요.-10\n",
      "에러\n"
     ]
    }
   ],
   "source": [
    "# 코드를 입력해 주세요\n",
    "score = input(\"성적을 입력해주세요.\")\n",
    "score = int(score)\n",
    "if score < 0 or score > 100:\n",
    "    print(\"에러\")\n",
    "elif score >= 90:\n",
    "    print(\"A\")\n",
    "elif score <90 and score >= 80:\n",
    "    print('B')\n",
    "elif score <80 and score >= 70:\n",
    "    print('C')\n",
    "else:\n",
    "    print('D')"
   ]
  },
  {
   "cell_type": "markdown",
   "metadata": {},
   "source": [
    "<p><strong>[출력 결과]</strong></p><pre>점수를 입력해 주세요: 95\n",
    "A\n",
    "</pre>"
   ]
  },
  {
   "cell_type": "markdown",
   "metadata": {},
   "source": [
    "- 95점 입력시: A\n",
    "- 75점 입력시: C\n",
    "- -10점 입력시: 에러\n",
    "- 105점 입력시: 에러"
   ]
  },
  {
   "cell_type": "markdown",
   "metadata": {},
   "source": [
    "### 문제 3"
   ]
  },
  {
   "cell_type": "markdown",
   "metadata": {},
   "source": [
    "사용자로부터 `달러`, `엔`, `유로`, 또는 `위안` 금액을 입력받은 후 이를 `원`으로 변환하는 프로그램을 작성해 주세요. \n",
    "\n",
    "각 통화별 환율은 다음과 같다. \n",
    "\n",
    "- 달러: 1237.0\n",
    "- 엔: 105.4\n",
    "- 유로: 1349.69\n",
    "- 위안: 194.57\n",
    "\n",
    "사용자는 10 달러, 200 엔, 30 유로, 100 위안과 같이 금액과 통화명 사이에 **공백**을 넣어 입력한다고 가정합니다.\n",
    "\n",
    "입력 예시) `10 달러`\n",
    "\n",
    "결과 예시) `11670.0원`"
   ]
  },
  {
   "cell_type": "code",
   "execution_count": 52,
   "metadata": {},
   "outputs": [
    {
     "name": "stdout",
     "output_type": "stream",
     "text": [
      "금액과 통화명 사이에 공백을 넣어 입력100 달러\n",
      "123700.0 원\n"
     ]
    }
   ],
   "source": [
    "# 코드를 입력해 주세요\n",
    "money = input(\"금액과 통화명 사이에 공백을 넣어 입력\")\n",
    "money = money.split()\n",
    "money[0] = float(money[0])\n",
    "won = 0\n",
    "if money[1]==\"달러\":\n",
    "    won = money[0]* 1237.0\n",
    "elif money[1]==\"엔\":\n",
    "    won = money[0]* 105.4\n",
    "elif money[1]==\"유로\":\n",
    "    won = money[0]* 1349.69\n",
    "elif money[1]==\"위안\":\n",
    "    won = money[0]* 194.57\n",
    "print(f\"{won:.1f} 원\")"
   ]
  },
  {
   "cell_type": "markdown",
   "metadata": {},
   "source": [
    "<p><strong>[출력 결과]</strong></p><pre>입력: 10 달러\n",
    "12370.0 원\n",
    "</pre>"
   ]
  }
 ],
 "metadata": {
  "colab": {
   "collapsed_sections": [],
   "name": "06-파이썬-비교-논리-삼항연산자-조건문-(실습)",
   "provenance": []
  },
  "kernelspec": {
   "display_name": "Python 3",
   "language": "python",
   "name": "python3"
  },
  "language_info": {
   "codemirror_mode": {
    "name": "ipython",
    "version": 3
   },
   "file_extension": ".py",
   "mimetype": "text/x-python",
   "name": "python",
   "nbconvert_exporter": "python",
   "pygments_lexer": "ipython3",
   "version": "3.6.6"
  }
 },
 "nbformat": 4,
 "nbformat_minor": 1
}
