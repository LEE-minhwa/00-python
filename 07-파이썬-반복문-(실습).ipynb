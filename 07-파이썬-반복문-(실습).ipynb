{
 "cells": [
  {
   "cell_type": "markdown",
   "metadata": {
    "id": "GGwhVABx8Ucj"
   },
   "source": [
    "# 반복문"
   ]
  },
  {
   "cell_type": "markdown",
   "metadata": {
    "id": "MPve6nk48nWY"
   },
   "source": [
    "- 1회 이상 반복해서 수행하는 일을 반복문으로 통해 쉽게 해결할 수 있습니다.\n",
    "- 반드시 list, tuple, dict, set 등 집합에 대한 순회를 돌며 일을 처리할 때 많이 쓰입니다.\n",
    "- list, tuple, dict, set, 문자열까지 모두 **순회가능한(iterable) 객체** 입니다.\n",
    "- 순회가능한(iterable) 객체는 반복문을 통해 순회할 수 있습니다."
   ]
  },
  {
   "cell_type": "code",
   "execution_count": null,
   "metadata": {
    "id": "r9jXJ8L49VLE"
   },
   "outputs": [],
   "source": [
    "mylist = [1, 2, 3, 4, 5, 6, 7, 8, 9, 10]"
   ]
  },
  {
   "cell_type": "markdown",
   "metadata": {
    "id": "1tqhcEyv9asJ"
   },
   "source": [
    "mylist에 들어 있는 모든 값들을 출력하려고 한다면?"
   ]
  },
  {
   "cell_type": "code",
   "execution_count": null,
   "metadata": {
    "colab": {
     "base_uri": "https://localhost:8080/",
     "height": 121
    },
    "id": "JWqvzMQ-9gq_",
    "outputId": "81cf4ed5-e736-4747-f868-55ecfe6841db"
   },
   "outputs": [],
   "source": [
    "print(mylist[0])\n",
    "print(mylist[1])\n",
    "print(mylist[2])\n",
    "print('...')\n",
    "print(mylist[8])\n",
    "print(mylist[9])"
   ]
  },
  {
   "cell_type": "markdown",
   "metadata": {
    "id": "D1NL7BS-9m0l"
   },
   "source": [
    "노가다를 획기적으로 줄여주는 방법!!!"
   ]
  },
  {
   "cell_type": "markdown",
   "metadata": {
    "id": "2eRNROEc9vaB"
   },
   "source": [
    "## for 와 in 구문 (반복문)"
   ]
  },
  {
   "cell_type": "markdown",
   "metadata": {
    "id": "EmihJIWJ9zSI"
   },
   "source": [
    "**[기본 문법]**<br>\n",
    "for 하나씩 꺼내올 때 변수 in [꺼내올 집합]:<br/>\n",
    "(indent)\n",
    "* list, tuple, set, dictionary, 문자열 형태 모두 가능\n",
    "* range와 결합하여 사용 가능"
   ]
  },
  {
   "cell_type": "markdown",
   "metadata": {
    "id": "_87dv7Z6Hwu6"
   },
   "source": [
    "### 리스트(list)"
   ]
  },
  {
   "cell_type": "code",
   "execution_count": 2,
   "metadata": {},
   "outputs": [],
   "source": [
    "mylist = [1, 2, 3, 4, 5]"
   ]
  },
  {
   "cell_type": "code",
   "execution_count": 3,
   "metadata": {
    "colab": {
     "base_uri": "https://localhost:8080/",
     "height": 190
    },
    "id": "qk2ljaev93th",
    "outputId": "c7e1c12c-a783-4804-de1b-142d7465bb36"
   },
   "outputs": [
    {
     "name": "stdout",
     "output_type": "stream",
     "text": [
      "1\n",
      "2\n",
      "3\n",
      "4\n",
      "5\n"
     ]
    }
   ],
   "source": [
    "# 코드를 입력해 주세요\n",
    "for 임시변수 in mylist:\n",
    "    print(임시변수)"
   ]
  },
  {
   "cell_type": "markdown",
   "metadata": {},
   "source": [
    "<p><strong>[출력 결과]</strong></p><pre>1\n",
    "2\n",
    "3\n",
    "4\n",
    "5\n",
    "</pre>"
   ]
  },
  {
   "cell_type": "markdown",
   "metadata": {
    "id": "Cg8hcduuHx6l"
   },
   "source": [
    "### 튜플(tuple)"
   ]
  },
  {
   "cell_type": "code",
   "execution_count": null,
   "metadata": {
    "colab": {
     "base_uri": "https://localhost:8080/",
     "height": 104
    },
    "id": "fA1ziFWjCt-t",
    "outputId": "7d99cfd5-47da-4747-970b-d92e0acff1ae"
   },
   "outputs": [],
   "source": [
    "for i in (1, 2, 3, 4, 5):\n",
    "    print(i)"
   ]
  },
  {
   "cell_type": "markdown",
   "metadata": {},
   "source": [
    "### 연습문제"
   ]
  },
  {
   "cell_type": "markdown",
   "metadata": {},
   "source": [
    "반복문과 조건문을 활용하여 `sample` 에서 음수 값만 출력해 주세요 "
   ]
  },
  {
   "cell_type": "code",
   "execution_count": 5,
   "metadata": {},
   "outputs": [],
   "source": [
    "sample = [1, 11, 22, -20, 55, -33, 0, -5, 12, 35, 19, -9, -1, -100, 90]"
   ]
  },
  {
   "cell_type": "code",
   "execution_count": 7,
   "metadata": {},
   "outputs": [
    {
     "name": "stdout",
     "output_type": "stream",
     "text": [
      "-20\n",
      "-33\n",
      "-5\n",
      "-9\n",
      "-1\n",
      "-100\n"
     ]
    }
   ],
   "source": [
    "# 코드를 입력해 주세요\n",
    "for i in sample:\n",
    "    if i < 0: print(i)"
   ]
  },
  {
   "cell_type": "markdown",
   "metadata": {},
   "source": [
    "<p><strong>[출력 결과]</strong></p><pre>-20\n",
    "-33\n",
    "-5\n",
    "-9\n",
    "-1\n",
    "-100\n",
    "</pre>"
   ]
  },
  {
   "cell_type": "markdown",
   "metadata": {},
   "source": [
    "반복문과 조건문을 활용하여 `sample`의 요소 중 10보다 크고 50보다 작은 요소만 출력해 주세요"
   ]
  },
  {
   "cell_type": "code",
   "execution_count": 11,
   "metadata": {},
   "outputs": [
    {
     "name": "stdout",
     "output_type": "stream",
     "text": [
      "11\n",
      "22\n",
      "12\n",
      "35\n",
      "19\n"
     ]
    }
   ],
   "source": [
    "# 코드를 입력해 주세요\n",
    "for i in sample:\n",
    "    if 50 > i > 10: print(i)"
   ]
  },
  {
   "cell_type": "markdown",
   "metadata": {},
   "source": [
    "<p><strong>[출력 결과]</strong></p><pre>11\n",
    "22\n",
    "12\n",
    "35\n",
    "19\n",
    "</pre>"
   ]
  },
  {
   "cell_type": "markdown",
   "metadata": {},
   "source": [
    "### tuple + list"
   ]
  },
  {
   "cell_type": "markdown",
   "metadata": {},
   "source": [
    "tuple을 전체로 받아주는 경우"
   ]
  },
  {
   "cell_type": "code",
   "execution_count": 12,
   "metadata": {},
   "outputs": [
    {
     "name": "stdout",
     "output_type": "stream",
     "text": [
      "('제이콥스', 10)\n",
      "제이콥스\n",
      "10\n"
     ]
    }
   ],
   "source": [
    "person = ('제이콥스', 10)\n",
    "print(person)\n",
    "print(person[0])\n",
    "print(person[1])"
   ]
  },
  {
   "cell_type": "markdown",
   "metadata": {},
   "source": [
    "tuple의 요소를 개별로 받아주는 경우"
   ]
  },
  {
   "cell_type": "code",
   "execution_count": null,
   "metadata": {},
   "outputs": [],
   "source": [
    "name, age = ('제이콥스', 10)\n",
    "print(name)\n",
    "print(age)"
   ]
  },
  {
   "cell_type": "markdown",
   "metadata": {},
   "source": [
    "반복문에서의 응용"
   ]
  },
  {
   "cell_type": "code",
   "execution_count": 13,
   "metadata": {},
   "outputs": [
    {
     "name": "stdout",
     "output_type": "stream",
     "text": [
      "제이콥스 10\n",
      "피터 20\n",
      "타이거 30\n"
     ]
    }
   ],
   "source": [
    "mytuplelist = [('제이콥스', 10), ('피터', 20), ('타이거', 30)]\n",
    "\n",
    "for mytuple in mytuplelist:\n",
    "    print(mytuple[0], mytuple[1])"
   ]
  },
  {
   "cell_type": "code",
   "execution_count": 14,
   "metadata": {},
   "outputs": [
    {
     "name": "stdout",
     "output_type": "stream",
     "text": [
      "제이콥스 10\n",
      "피터 20\n",
      "타이거 30\n"
     ]
    }
   ],
   "source": [
    "mytuplelist = [('제이콥스', 10), ('피터', 20), ('타이거', 30)]\n",
    "\n",
    "for name, age in mytuplelist:\n",
    "    print(name, age)"
   ]
  },
  {
   "cell_type": "markdown",
   "metadata": {
    "id": "vHORAjD5HucU"
   },
   "source": [
    "### 딕셔너리(dictionary)"
   ]
  },
  {
   "cell_type": "code",
   "execution_count": null,
   "metadata": {
    "id": "7c1eHVKyC6K7"
   },
   "outputs": [],
   "source": [
    "mydict = {'헐크': 50, '아이언맨': 60, '펭수': 70}"
   ]
  },
  {
   "cell_type": "code",
   "execution_count": null,
   "metadata": {
    "colab": {
     "base_uri": "https://localhost:8080/",
     "height": 69
    },
    "id": "Dx5Hg4GQDK9X",
    "outputId": "4be2aace-b8ae-448e-bff6-5c0e8fd5423b"
   },
   "outputs": [],
   "source": [
    "for key in mydict.keys():\n",
    "    print(key)"
   ]
  },
  {
   "cell_type": "code",
   "execution_count": null,
   "metadata": {
    "colab": {
     "base_uri": "https://localhost:8080/",
     "height": 69
    },
    "id": "SUR6W29bDN5O",
    "outputId": "9027d9ad-6f58-44b7-bf9a-d843b7d7b2ec"
   },
   "outputs": [],
   "source": [
    "for value in mydict.values():\n",
    "    print(value)"
   ]
  },
  {
   "cell_type": "code",
   "execution_count": null,
   "metadata": {
    "colab": {
     "base_uri": "https://localhost:8080/",
     "height": 69
    },
    "id": "3TmHoAYSCzAC",
    "outputId": "d97447a1-1210-4c08-af15-ba0b691778b8"
   },
   "outputs": [],
   "source": [
    "for name, age in mydict.items():\n",
    "    print(name, age)"
   ]
  },
  {
   "cell_type": "markdown",
   "metadata": {},
   "source": [
    "### 문자열(str)"
   ]
  },
  {
   "cell_type": "code",
   "execution_count": null,
   "metadata": {},
   "outputs": [],
   "source": [
    "for c in \"Hello\":\n",
    "    print(c)"
   ]
  },
  {
   "cell_type": "markdown",
   "metadata": {},
   "source": [
    "### 연습문제"
   ]
  },
  {
   "cell_type": "markdown",
   "metadata": {},
   "source": [
    "다음의 문자열을 **반복문**을 활용하여 출력하되, **모음('a', 'e', 'i', 'o', 'u')만 대문자**로 자음은 소문자로 출력해 주세요."
   ]
  },
  {
   "cell_type": "code",
   "execution_count": 17,
   "metadata": {},
   "outputs": [],
   "source": [
    "sample = \"PyThoN Is fUn\""
   ]
  },
  {
   "cell_type": "code",
   "execution_count": 29,
   "metadata": {},
   "outputs": [
    {
     "name": "stdout",
     "output_type": "stream",
     "text": [
      "p\n",
      "y\n",
      "t\n",
      "h\n",
      "(모음)O\n",
      "n\n",
      "(공백)\n",
      "(모음)I\n",
      "s\n",
      "(공백)\n",
      "f\n",
      "(모음)U\n",
      "n\n"
     ]
    }
   ],
   "source": [
    "# 코드를 입력해 주세요\n",
    "#     if i.lower() in ['a', 'e', 'i', 'o', 'u']:\n",
    "for i in sample.lower():\n",
    "    if i in ['a','e','i','o','u']:\n",
    "        print(f\"(모음){i.upper()}\")\n",
    "    elif i==' ':\n",
    "        print('(공백)')\n",
    "    else: \n",
    "        print(i)"
   ]
  },
  {
   "cell_type": "markdown",
   "metadata": {},
   "source": [
    "<p><strong>[출력 결과]</strong></p><pre> p\n",
    " y\n",
    " t\n",
    " h\n",
    "(모음) O\n",
    " n\n",
    "(공백) \n",
    "(모음) I\n",
    " s\n",
    "(공백) \n",
    " f\n",
    "(모음) U\n",
    " n\n",
    "</pre>"
   ]
  },
  {
   "cell_type": "markdown",
   "metadata": {
    "id": "JAR6lzjgH2G1"
   },
   "source": [
    "### range()\n",
    "\n",
    "- `range()` 함수는 별도의 list, tuple 생성 없이 range() 에서 정의한 범위를 반복하는데 활용할 수 있습니다.\n",
    "- `range(start, stop, step)` 형식을 사용합니다."
   ]
  },
  {
   "cell_type": "markdown",
   "metadata": {},
   "source": [
    "`stop`: 단일 값을 지정하는 경우"
   ]
  },
  {
   "cell_type": "code",
   "execution_count": 30,
   "metadata": {
    "colab": {
     "base_uri": "https://localhost:8080/",
     "height": 190
    },
    "id": "trkoUuL9DJ2I",
    "outputId": "c446f785-4b1b-47b6-f1f3-32a1d4f6a112"
   },
   "outputs": [
    {
     "name": "stdout",
     "output_type": "stream",
     "text": [
      "0\n",
      "1\n",
      "2\n",
      "3\n",
      "4\n",
      "5\n",
      "6\n",
      "7\n",
      "8\n",
      "9\n"
     ]
    }
   ],
   "source": [
    "for i in range(10):\n",
    "    print(i)"
   ]
  },
  {
   "cell_type": "markdown",
   "metadata": {},
   "source": [
    "`start`, `stop`: 두 개의 값을 지정한 경우"
   ]
  },
  {
   "cell_type": "code",
   "execution_count": 31,
   "metadata": {
    "colab": {
     "base_uri": "https://localhost:8080/",
     "height": 138
    },
    "id": "XVgjb0KWEjkk",
    "outputId": "97503593-347c-4408-82fe-4d4c589ea489"
   },
   "outputs": [
    {
     "name": "stdout",
     "output_type": "stream",
     "text": [
      "2\n",
      "3\n",
      "4\n",
      "5\n",
      "6\n",
      "7\n",
      "8\n"
     ]
    }
   ],
   "source": [
    "for i in range(2, 9):\n",
    "    print(i)"
   ]
  },
  {
   "cell_type": "markdown",
   "metadata": {},
   "source": [
    "`start`, `stop`, `step`: 세 개의 값을 지정한 경우"
   ]
  },
  {
   "cell_type": "code",
   "execution_count": 32,
   "metadata": {
    "colab": {
     "base_uri": "https://localhost:8080/",
     "height": 104
    },
    "id": "tSbyd-qCEpiH",
    "outputId": "0b61f950-7d42-4779-9fad-784e71ab2180"
   },
   "outputs": [
    {
     "name": "stdout",
     "output_type": "stream",
     "text": [
      "1\n",
      "3\n",
      "5\n",
      "7\n",
      "9\n"
     ]
    }
   ],
   "source": [
    "for i in range(1, 10, 2):\n",
    "    print(i)"
   ]
  },
  {
   "cell_type": "markdown",
   "metadata": {
    "id": "cs_RHDmcFnm1"
   },
   "source": [
    "## 반복문의 중첩"
   ]
  },
  {
   "cell_type": "code",
   "execution_count": 33,
   "metadata": {
    "colab": {
     "base_uri": "https://localhost:8080/",
     "height": 225
    },
    "id": "KguHXyJzFrDH",
    "outputId": "43fb8cfa-a4c2-4fbf-e038-d7bb95068f65"
   },
   "outputs": [
    {
     "name": "stdout",
     "output_type": "stream",
     "text": [
      "(i=1) * (j=1) = 1\n",
      "(i=1) * (j=2) = 2\n",
      "(i=1) * (j=3) = 3\n",
      "===\n",
      "(i=2) * (j=1) = 2\n",
      "(i=2) * (j=2) = 4\n",
      "(i=2) * (j=3) = 6\n",
      "===\n",
      "(i=3) * (j=1) = 3\n",
      "(i=3) * (j=2) = 6\n",
      "(i=3) * (j=3) = 9\n",
      "===\n"
     ]
    }
   ],
   "source": [
    "for i in range(1, 4):\n",
    "    for j in range(1, 4):\n",
    "        print(f'(i={i}) * (j={j}) = {i * j}')\n",
    "    print('===')"
   ]
  },
  {
   "cell_type": "markdown",
   "metadata": {
    "id": "1_h_EkchFbU4"
   },
   "source": [
    "### 연습문제\n",
    "\n",
    "- 구구단을 반복문을 사용하여 만들어 보세요!\n",
    "- 구구단은 2단 부터 9단까지 있습니다."
   ]
  },
  {
   "cell_type": "code",
   "execution_count": 38,
   "metadata": {
    "colab": {
     "base_uri": "https://localhost:8080/",
     "height": 1000
    },
    "id": "ENWT9y5RFgaJ",
    "outputId": "ab0d5a6d-de79-4f63-b055-78f36f12fd1f"
   },
   "outputs": [
    {
     "name": "stdout",
     "output_type": "stream",
     "text": [
      "2 X 1 = 2\n",
      "2 X 2 = 4\n",
      "2 X 3 = 6\n",
      "2 X 4 = 8\n",
      "2 X 5 = 10\n",
      "2 X 6 = 12\n",
      "2 X 7 = 14\n",
      "2 X 8 = 16\n",
      "2 X 9 = 18\n",
      " \n",
      "3 X 1 = 3\n",
      "3 X 2 = 6\n",
      "3 X 3 = 9\n",
      "3 X 4 = 12\n",
      "3 X 5 = 15\n",
      "3 X 6 = 18\n",
      "3 X 7 = 21\n",
      "3 X 8 = 24\n",
      "3 X 9 = 27\n",
      " \n",
      "4 X 1 = 4\n",
      "4 X 2 = 8\n",
      "4 X 3 = 12\n",
      "4 X 4 = 16\n",
      "4 X 5 = 20\n",
      "4 X 6 = 24\n",
      "4 X 7 = 28\n",
      "4 X 8 = 32\n",
      "4 X 9 = 36\n",
      " \n",
      "5 X 1 = 5\n",
      "5 X 2 = 10\n",
      "5 X 3 = 15\n",
      "5 X 4 = 20\n",
      "5 X 5 = 25\n",
      "5 X 6 = 30\n",
      "5 X 7 = 35\n",
      "5 X 8 = 40\n",
      "5 X 9 = 45\n",
      " \n",
      "6 X 1 = 6\n",
      "6 X 2 = 12\n",
      "6 X 3 = 18\n",
      "6 X 4 = 24\n",
      "6 X 5 = 30\n",
      "6 X 6 = 36\n",
      "6 X 7 = 42\n",
      "6 X 8 = 48\n",
      "6 X 9 = 54\n",
      " \n",
      "7 X 1 = 7\n",
      "7 X 2 = 14\n",
      "7 X 3 = 21\n",
      "7 X 4 = 28\n",
      "7 X 5 = 35\n",
      "7 X 6 = 42\n",
      "7 X 7 = 49\n",
      "7 X 8 = 56\n",
      "7 X 9 = 63\n",
      " \n",
      "8 X 1 = 8\n",
      "8 X 2 = 16\n",
      "8 X 3 = 24\n",
      "8 X 4 = 32\n",
      "8 X 5 = 40\n",
      "8 X 6 = 48\n",
      "8 X 7 = 56\n",
      "8 X 8 = 64\n",
      "8 X 9 = 72\n",
      " \n",
      "9 X 1 = 9\n",
      "9 X 2 = 18\n",
      "9 X 3 = 27\n",
      "9 X 4 = 36\n",
      "9 X 5 = 45\n",
      "9 X 6 = 54\n",
      "9 X 7 = 63\n",
      "9 X 8 = 72\n",
      "9 X 9 = 81\n",
      " \n"
     ]
    }
   ],
   "source": [
    "# 코드를 입력해 주세요\n",
    "for i in range(2, 10):\n",
    "    for j in range(1, 10):\n",
    "        print(f'{i} X {j} = {i * j}')\n",
    "    print(' ')"
   ]
  },
  {
   "cell_type": "markdown",
   "metadata": {},
   "source": [
    "<p><strong>[출력 결과]</strong></p><pre>2 X 1 = 2\n",
    "2 X 2 = 4\n",
    "2 X 3 = 6\n",
    "2 X 4 = 8\n",
    "2 X 5 = 10\n",
    "2 X 6 = 12\n",
    "2 X 7 = 14\n",
    "2 X 8 = 16\n",
    "2 X 9 = 18\n",
    "\n",
    "3 X 1 = 3\n",
    "3 X 2 = 6\n",
    "3 X 3 = 9\n",
    "3 X 4 = 12\n",
    "3 X 5 = 15\n",
    "3 X 6 = 18\n",
    "3 X 7 = 21\n",
    "3 X 8 = 24\n",
    "3 X 9 = 27\n",
    "\n",
    "4 X 1 = 4\n",
    "4 X 2 = 8\n",
    "4 X 3 = 12\n",
    "4 X 4 = 16\n",
    "4 X 5 = 20\n",
    "4 X 6 = 24\n",
    "4 X 7 = 28\n",
    "4 X 8 = 32\n",
    "4 X 9 = 36\n",
    "\n",
    "5 X 1 = 5\n",
    "5 X 2 = 10\n",
    "5 X 3 = 15\n",
    "5 X 4 = 20\n",
    "5 X 5 = 25\n",
    "5 X 6 = 30\n",
    "5 X 7 = 35\n",
    "5 X 8 = 40\n",
    "5 X 9 = 45\n",
    "\n",
    "6 X 1 = 6\n",
    "6 X 2 = 12\n",
    "6 X 3 = 18\n",
    "6 X 4 = 24\n",
    "6 X 5 = 30\n",
    "6 X 6 = 36\n",
    "6 X 7 = 42\n",
    "6 X 8 = 48\n",
    "6 X 9 = 54\n",
    "\n",
    "7 X 1 = 7\n",
    "7 X 2 = 14\n",
    "7 X 3 = 21\n",
    "7 X 4 = 28\n",
    "7 X 5 = 35\n",
    "7 X 6 = 42\n",
    "7 X 7 = 49\n",
    "7 X 8 = 56\n",
    "7 X 9 = 63\n",
    "\n",
    "8 X 1 = 8\n",
    "8 X 2 = 16\n",
    "8 X 3 = 24\n",
    "8 X 4 = 32\n",
    "8 X 5 = 40\n",
    "8 X 6 = 48\n",
    "8 X 7 = 56\n",
    "8 X 8 = 64\n",
    "8 X 9 = 72\n",
    "\n",
    "9 X 1 = 9\n",
    "9 X 2 = 18\n",
    "9 X 3 = 27\n",
    "9 X 4 = 36\n",
    "9 X 5 = 45\n",
    "9 X 6 = 54\n",
    "9 X 7 = 63\n",
    "9 X 8 = 72\n",
    "9 X 9 = 81\n",
    "\n",
    "</pre>"
   ]
  },
  {
   "cell_type": "markdown",
   "metadata": {
    "id": "-dT8rGyO-MP4"
   },
   "source": [
    "## 제어문"
   ]
  },
  {
   "cell_type": "markdown",
   "metadata": {},
   "source": [
    "### continue\n",
    "\n",
    "- 반복문 내부에서 `continue` 구문은 해당 루프(loop)를 건너뛰게 합니다.\n",
    "- `continue` 라는 구문을 만나면, 반복문에서 `continue` 아래 작성된 코드는 **실행되지 않고 건너뜁니다.**"
   ]
  },
  {
   "cell_type": "code",
   "execution_count": 39,
   "metadata": {
    "id": "AltNBV5C-Pqt"
   },
   "outputs": [],
   "source": [
    "mylist = [1, 2, 3, 4, 5, 6, 7, 8, 9, 10]"
   ]
  },
  {
   "cell_type": "markdown",
   "metadata": {
    "id": "zk-dZvfaD6H7"
   },
   "source": [
    "**반복문**과 **조건문** 그리고 `continue`를 활용하여 **짝수만 출력**해 주세요"
   ]
  },
  {
   "cell_type": "code",
   "execution_count": 41,
   "metadata": {
    "colab": {
     "base_uri": "https://localhost:8080/",
     "height": 104
    },
    "id": "RWgPVawJ-jRT",
    "outputId": "ee26df08-140a-46c8-fea7-fb2e2f784a27"
   },
   "outputs": [
    {
     "name": "stdout",
     "output_type": "stream",
     "text": [
      "2\n",
      "4\n",
      "6\n",
      "8\n",
      "10\n"
     ]
    }
   ],
   "source": [
    "# 코드를 입력해 주세요\n",
    "for i in mylist:\n",
    "    if i%2 == 1:\n",
    "        continue\n",
    "    print(i)"
   ]
  },
  {
   "cell_type": "markdown",
   "metadata": {},
   "source": [
    "<p><strong>[출력 결과]</strong></p><pre>2\n",
    "4\n",
    "6\n",
    "8\n",
    "10\n",
    "</pre>"
   ]
  },
  {
   "cell_type": "markdown",
   "metadata": {
    "id": "xaDtUK2y-yRo"
   },
   "source": [
    "### break\n",
    "\n",
    "- **break** 구문을 만나면, **반복 루프(loop)는 즉시 종료**됩니다."
   ]
  },
  {
   "cell_type": "code",
   "execution_count": null,
   "metadata": {
    "id": "g8rLTYZg-2R7"
   },
   "outputs": [],
   "source": [
    "mylist = [1, 2, 3, 4, 5, 6, 7, 8, 9, 10]"
   ]
  },
  {
   "cell_type": "markdown",
   "metadata": {
    "id": "tGdZ0d1S-59J"
   },
   "source": [
    "`break`를 사용하여 i가 6 이상이면 STOP"
   ]
  },
  {
   "cell_type": "code",
   "execution_count": 44,
   "metadata": {
    "colab": {
     "base_uri": "https://localhost:8080/",
     "height": 122
    },
    "id": "LyTOiLaC-4hd",
    "outputId": "eaddc0e2-097c-40f2-ffe7-182ba29ef095"
   },
   "outputs": [
    {
     "name": "stdout",
     "output_type": "stream",
     "text": [
      "1\n",
      "2\n",
      "3\n",
      "4\n",
      "5\n"
     ]
    }
   ],
   "source": [
    "for i in mylist:\n",
    "    if i >= 6:\n",
    "        break\n",
    "    print(i)"
   ]
  },
  {
   "cell_type": "markdown",
   "metadata": {},
   "source": [
    "<p><strong>[출력 결과]</strong></p><pre>1\n",
    "2\n",
    "3\n",
    "4\n",
    "5\n",
    "</pre>"
   ]
  },
  {
   "cell_type": "markdown",
   "metadata": {
    "id": "_S11HBwkTwCz"
   },
   "source": [
    "### break, continue 차이"
   ]
  },
  {
   "cell_type": "code",
   "execution_count": 45,
   "metadata": {
    "colab": {
     "base_uri": "https://localhost:8080/",
     "height": 104
    },
    "id": "iCeDy3tYTwC0",
    "outputId": "4d679712-3018-4a3e-cda6-5da131763f81"
   },
   "outputs": [
    {
     "name": "stdout",
     "output_type": "stream",
     "text": [
      "0\n",
      "1\n",
      "2\n",
      "3\n",
      "4\n"
     ]
    }
   ],
   "source": [
    "for i in range(10):\n",
    "    if i == 5:\n",
    "        break\n",
    "    print(i)"
   ]
  },
  {
   "cell_type": "code",
   "execution_count": 66,
   "metadata": {
    "colab": {
     "base_uri": "https://localhost:8080/",
     "height": 173
    },
    "id": "2hryWurmTwC2",
    "outputId": "c404cba6-aeff-4945-9433-3c0081f902ab"
   },
   "outputs": [
    {
     "name": "stdout",
     "output_type": "stream",
     "text": [
      "0\n",
      "1\n",
      "2\n",
      "3\n",
      "4\n",
      "6\n",
      "7\n",
      "8\n",
      "9\n"
     ]
    }
   ],
   "source": [
    "for i in range(10):\n",
    "    if i == 5:\n",
    "        continue\n",
    "    print(i)"
   ]
  },
  {
   "cell_type": "markdown",
   "metadata": {
    "id": "n5HUJMmWTwC6"
   },
   "source": [
    "## While\n",
    "\n",
    "- while 문은 while문과 함께 정의한 **조건이 참이 동안 반복 루프를 수행**합니다."
   ]
  },
  {
   "cell_type": "code",
   "execution_count": null,
   "metadata": {},
   "outputs": [],
   "source": [
    "count = 5\n",
    "\n",
    "while count > 0:\n",
    "    print(count)\n",
    "    count -= 1"
   ]
  },
  {
   "cell_type": "markdown",
   "metadata": {},
   "source": [
    "많은 사용하는 방법 중 하나는 `while True`로 지정하여 무한 루프를 생성 후, **탈출 구문 루프 내에서 설정**하는 것입니다."
   ]
  },
  {
   "cell_type": "code",
   "execution_count": null,
   "metadata": {
    "id": "b9nzwqYwTwC6"
   },
   "outputs": [],
   "source": [
    "count = 1\n",
    "\n",
    "while True:\n",
    "    print(count)\n",
    "    count += 1\n",
    "    # 탈출 구문(break)\n",
    "    if count > 5:\n",
    "        break"
   ]
  },
  {
   "cell_type": "markdown",
   "metadata": {},
   "source": [
    "### 연습문제 1"
   ]
  },
  {
   "cell_type": "markdown",
   "metadata": {},
   "source": [
    "사용자의 입력이 'MALE', 'FEMALE'인 경우는 while 문을 종료하고, 그렇지 않으면 \"잘못된 입력 값입니다.\"를 출력하세요\n",
    "\n",
    "- input() 함수로 사용자로부터 입력을 받습니다."
   ]
  },
  {
   "cell_type": "code",
   "execution_count": 52,
   "metadata": {
    "id": "_dIvCf1wTwC8"
   },
   "outputs": [
    {
     "name": "stdout",
     "output_type": "stream",
     "text": [
      "성별을 입력해주세요MALE\n",
      "MALE\n",
      "=======\n",
      "프로그램 종료\n"
     ]
    }
   ],
   "source": [
    "# 코드를 입력해 주세요\n",
    "while True:\n",
    "    성별 = input('성별을 입력해주세요')\n",
    "    if 성별 in ['MALE','FEMALE']:\n",
    "        print(성별)\n",
    "        print('=======')\n",
    "        print('프로그램 종료')\n",
    "        break\n",
    "    else:\n",
    "        print('잘못된 입력 값입니다')"
   ]
  },
  {
   "cell_type": "markdown",
   "metadata": {},
   "source": [
    "<p><strong>[출력 결과]</strong></p><pre>male\n",
    "잘못된 입력 값입니다.\n",
    "animal\n",
    "잘못된 입력 값입니다.\n",
    "FEMALE\n",
    "====\n",
    "프로그램 종료\n",
    "</pre>"
   ]
  },
  {
   "cell_type": "markdown",
   "metadata": {
    "id": "-K427KJjTwC-"
   },
   "source": [
    "### 연습 문제 2"
   ]
  },
  {
   "cell_type": "markdown",
   "metadata": {
    "id": "ee-VmO97TwC-"
   },
   "source": [
    "1부터 50까지의 숫자 중에서 짝수의 합을 구하세요 (while 사용)"
   ]
  },
  {
   "cell_type": "code",
   "execution_count": 83,
   "metadata": {
    "colab": {
     "base_uri": "https://localhost:8080/",
     "height": 484
    },
    "id": "9Wtkpa8JTwC-",
    "outputId": "f71fe2e9-56a6-441b-f5af-cdc321c9b332"
   },
   "outputs": [
    {
     "name": "stdout",
     "output_type": "stream",
     "text": [
      "count:2, total: 2\n",
      "count:4, total: 6\n",
      "count:6, total: 12\n",
      "count:8, total: 20\n",
      "count:10, total: 30\n",
      "count:12, total: 42\n",
      "count:14, total: 56\n",
      "count:16, total: 72\n",
      "count:18, total: 90\n",
      "count:20, total: 110\n",
      "count:22, total: 132\n",
      "count:24, total: 156\n",
      "count:26, total: 182\n",
      "count:28, total: 210\n",
      "count:30, total: 240\n",
      "count:32, total: 272\n",
      "count:34, total: 306\n",
      "count:36, total: 342\n",
      "count:38, total: 380\n",
      "count:40, total: 420\n",
      "count:42, total: 462\n",
      "count:44, total: 506\n",
      "count:46, total: 552\n",
      "count:48, total: 600\n",
      "count:50, total: 650\n"
     ]
    }
   ],
   "source": [
    "# 코드를 입력해 주세요\n",
    "count = 0\n",
    "total = 0\n",
    "while True:\n",
    "    count += 1\n",
    "    if count > 50:\n",
    "        break\n",
    "    else:\n",
    "        if count % 2 == 1:\n",
    "            continue\n",
    "        else:\n",
    "            total += count\n",
    "            print(f'count:{count}, total: {total}')"
   ]
  },
  {
   "cell_type": "markdown",
   "metadata": {},
   "source": [
    "<p><strong>[출력 결과]</strong></p><pre>count: 2, total: 2\n",
    "count: 4, total: 6\n",
    "count: 6, total: 12\n",
    "count: 8, total: 20\n",
    "count: 10, total: 30\n",
    "count: 12, total: 42\n",
    "count: 14, total: 56\n",
    "count: 16, total: 72\n",
    "count: 18, total: 90\n",
    "count: 20, total: 110\n",
    "count: 22, total: 132\n",
    "count: 24, total: 156\n",
    "count: 26, total: 182\n",
    "count: 28, total: 210\n",
    "count: 30, total: 240\n",
    "count: 32, total: 272\n",
    "count: 34, total: 306\n",
    "count: 36, total: 342\n",
    "count: 38, total: 380\n",
    "count: 40, total: 420\n",
    "count: 42, total: 462\n",
    "count: 44, total: 506\n",
    "count: 46, total: 552\n",
    "count: 48, total: 600\n",
    "count: 50, total: 650\n",
    "</pre>"
   ]
  },
  {
   "cell_type": "markdown",
   "metadata": {
    "id": "N__LNdqPTwDA"
   },
   "source": [
    "### 연습 문제 3"
   ]
  },
  {
   "cell_type": "markdown",
   "metadata": {
    "id": "ZyCbL-IxTwDB"
   },
   "source": [
    "**while**을 이용하여 다음과 같이 @ 찍기에 도전해 보세요!"
   ]
  },
  {
   "cell_type": "code",
   "execution_count": 88,
   "metadata": {
    "id": "qX1sgUIuTwDB"
   },
   "outputs": [
    {
     "name": "stdout",
     "output_type": "stream",
     "text": [
      "@\n",
      "@@\n",
      "@@@\n",
      "@@@@\n",
      "@@@@@\n"
     ]
    }
   ],
   "source": [
    "# 코드를 입력해 주세요\n",
    "i = 0\n",
    "while True:\n",
    "    i += 1\n",
    "    print(\"@\"*i)\n",
    "    if i == 5:\n",
    "        break"
   ]
  },
  {
   "cell_type": "markdown",
   "metadata": {},
   "source": [
    "<p><strong>[출력 결과]</strong></p><pre>@\n",
    "@@\n",
    "@@@\n",
    "@@@@\n",
    "@@@@@\n",
    "</pre>"
   ]
  },
  {
   "cell_type": "markdown",
   "metadata": {},
   "source": [
    "<p><strong>[출력 결과]</strong></p><pre>@\n",
    "@@\n",
    "@@@\n",
    "@@\n",
    "@\n",
    "</pre>"
   ]
  }
 ],
 "metadata": {
  "colab": {
   "collapsed_sections": [],
   "name": "07-파이썬-반복문-(실습)",
   "provenance": []
  },
  "kernelspec": {
   "display_name": "Python 3",
   "language": "python",
   "name": "python3"
  },
  "language_info": {
   "codemirror_mode": {
    "name": "ipython",
    "version": 3
   },
   "file_extension": ".py",
   "mimetype": "text/x-python",
   "name": "python",
   "nbconvert_exporter": "python",
   "pygments_lexer": "ipython3",
   "version": "3.6.6"
  }
 },
 "nbformat": 4,
 "nbformat_minor": 1
}
