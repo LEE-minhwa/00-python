{
 "cells": [
  {
   "cell_type": "markdown",
   "metadata": {
    "id": "yhrjrcX50_xk"
   },
   "source": [
    "# 문자열"
   ]
  },
  {
   "cell_type": "markdown",
   "metadata": {
    "id": "af-WjtP-6EHN"
   },
   "source": [
    "데이터 분석에 있어서 문자열(텍스트) 데이터의 중요성\n",
    "\n",
    "- 자연어처리 데이터는 대부분이 텍스트 데이터로 이루어져 있습니다.\n",
    "- 우리가 흔히 접하는 Excel 혹은 Table 데이터안에도 수많은 텍스트 데이터가 존재합니다.\n",
    "- 게다가 우리나라는 영어와 더불어 **한글**까지 추가로 처리 할 수 있어야 합니다!!"
   ]
  },
  {
   "cell_type": "markdown",
   "metadata": {},
   "source": [
    "### 특성\n",
    "\n",
    "- 문자열 역시 리스트(list), 튜플(tuple)과 마찬가지로 sequence 형 자료구조를 가집니다.\n",
    "- 문자열은 불변(immutable) 객체입니다."
   ]
  },
  {
   "cell_type": "markdown",
   "metadata": {
    "id": "NuK-a3yR8d9b"
   },
   "source": [
    "### 문자열의 생성\n",
    "\n",
    "파이썬의 문자열은 작은 따옴표(**'**) 나 큰 따옴표(**\"**) 모두 구분없이 사용하여 문자열을 생성할 수 있습니다."
   ]
  },
  {
   "cell_type": "markdown",
   "metadata": {
    "id": "58vOhBsu6WLW"
   },
   "source": [
    "작은 따옴표(**'**) 사용"
   ]
  },
  {
   "cell_type": "code",
   "execution_count": null,
   "metadata": {
    "colab": {
     "base_uri": "https://localhost:8080/",
     "height": 35
    },
    "id": "JXzjndKx6Tqq",
    "outputId": "110c7f13-b9ef-4206-ebf9-69fe1f52c54a"
   },
   "outputs": [],
   "source": [
    "'안녕하세요? 반갑습니다.'"
   ]
  },
  {
   "cell_type": "code",
   "execution_count": 1,
   "metadata": {},
   "outputs": [
    {
     "ename": "TypeError",
     "evalue": "must be str, not int",
     "output_type": "error",
     "traceback": [
      "\u001b[0;31m---------------------------------------------------------------------------\u001b[0m",
      "\u001b[0;31mTypeError\u001b[0m                                 Traceback (most recent call last)",
      "\u001b[0;32m<ipython-input-1-2c1af051ccc0>\u001b[0m in \u001b[0;36m<module>\u001b[0;34m\u001b[0m\n\u001b[1;32m      1\u001b[0m \u001b[0ma\u001b[0m\u001b[0;34m=\u001b[0m\u001b[0;34m\"30\"\u001b[0m\u001b[0;34m\u001b[0m\u001b[0m\n\u001b[1;32m      2\u001b[0m \u001b[0mb\u001b[0m\u001b[0;34m=\u001b[0m\u001b[0;36m6\u001b[0m\u001b[0;34m\u001b[0m\u001b[0m\n\u001b[0;32m----> 3\u001b[0;31m \u001b[0mprint\u001b[0m\u001b[0;34m(\u001b[0m\u001b[0ma\u001b[0m\u001b[0;34m+\u001b[0m\u001b[0mb\u001b[0m\u001b[0;34m)\u001b[0m\u001b[0;34m\u001b[0m\u001b[0m\n\u001b[0m",
      "\u001b[0;31mTypeError\u001b[0m: must be str, not int"
     ]
    }
   ],
   "source": [
    "a=\"30\"\n",
    "b=6\n",
    "print(a+b)"
   ]
  },
  {
   "cell_type": "code",
   "execution_count": 3,
   "metadata": {},
   "outputs": [
    {
     "data": {
      "text/plain": [
       "[1, 2, 3]"
      ]
     },
     "execution_count": 3,
     "metadata": {},
     "output_type": "execute_result"
    }
   ],
   "source": [
    "mylist = [1,2,3,2,1,3,2,1,2,3,1,3,2,1,2,3,3,1,2]\n",
    "list(set(mylist))"
   ]
  },
  {
   "cell_type": "markdown",
   "metadata": {
    "id": "5HX4SerY6X9F"
   },
   "source": [
    "큰 따옴표(**\"**) 사용"
   ]
  },
  {
   "cell_type": "code",
   "execution_count": null,
   "metadata": {
    "colab": {
     "base_uri": "https://localhost:8080/",
     "height": 35
    },
    "id": "-PBmn72k6YFJ",
    "outputId": "3a31150a-7ce4-4ae4-fd75-87ad21d11d32"
   },
   "outputs": [],
   "source": [
    "\"안녕하세요? 반갑습니다.\""
   ]
  },
  {
   "cell_type": "markdown",
   "metadata": {
    "id": "Wl5BW9ZY6b6N"
   },
   "source": [
    "작은 따옴표 3개 혹은 큰 따옴표 3개를 써서 **여러 줄의 문자열을 생성**할 수 있습니다."
   ]
  },
  {
   "cell_type": "code",
   "execution_count": 1,
   "metadata": {
    "colab": {
     "base_uri": "https://localhost:8080/",
     "height": 35
    },
    "id": "YX2-gHvH6YRE",
    "outputId": "14764494-1181-4886-b2d8-938fafafa4b8"
   },
   "outputs": [
    {
     "name": "stdout",
     "output_type": "stream",
     "text": [
      "안녕하세요? \n",
      "반가워요\n",
      "내이름은 \n",
      "파이썬 입니다.\n"
     ]
    }
   ],
   "source": [
    "sample = '''안녕하세요? \n",
    "반가워요\n",
    "내이름은 \n",
    "파이썬 입니다.'''\n",
    "\n",
    "print(sample)"
   ]
  },
  {
   "cell_type": "markdown",
   "metadata": {
    "id": "CYr2ZjlH8g77"
   },
   "source": [
    "## 문자열 출력 (포맷팅)"
   ]
  },
  {
   "cell_type": "markdown",
   "metadata": {
    "id": "G6S7kF158rD9"
   },
   "source": [
    "### print() : 출력"
   ]
  },
  {
   "cell_type": "code",
   "execution_count": null,
   "metadata": {
    "colab": {
     "base_uri": "https://localhost:8080/",
     "height": 35
    },
    "id": "xw3G7lRN80nO",
    "outputId": "c263ee57-510e-4db1-dcbe-28e82bf5f0fd"
   },
   "outputs": [],
   "source": [
    "print('헬로우 파이썬')"
   ]
  },
  {
   "cell_type": "code",
   "execution_count": null,
   "metadata": {
    "colab": {
     "base_uri": "https://localhost:8080/",
     "height": 35
    },
    "id": "yVHPxpah84Ng",
    "outputId": "1e3fa3c4-e70c-403b-d606-be331aec4d6c"
   },
   "outputs": [],
   "source": [
    "print('문자열 첫째', '그리고, 둘째')"
   ]
  },
  {
   "cell_type": "markdown",
   "metadata": {
    "id": "9gaXVMAjio6o"
   },
   "source": [
    "### %를 사용한 출력"
   ]
  },
  {
   "cell_type": "code",
   "execution_count": 2,
   "metadata": {
    "colab": {
     "base_uri": "https://localhost:8080/",
     "height": 35
    },
    "id": "UcL19LR7irHO",
    "outputId": "72a235be-7570-40bf-fa0a-315bb6c754a5"
   },
   "outputs": [
    {
     "data": {
      "text/plain": [
       "'안녕하세요? 반갑습니다.'"
      ]
     },
     "execution_count": 2,
     "metadata": {},
     "output_type": "execute_result"
    }
   ],
   "source": [
    "\"안녕하세요? %s\" % ('반갑습니다.')"
   ]
  },
  {
   "cell_type": "code",
   "execution_count": 3,
   "metadata": {
    "colab": {
     "base_uri": "https://localhost:8080/",
     "height": 35
    },
    "id": "B-6BrxWbivtD",
    "outputId": "0e818bda-ec43-41ab-914f-aea1f1c0d206"
   },
   "outputs": [
    {
     "data": {
      "text/plain": [
       "'안녕하세요? 0.1235'"
      ]
     },
     "execution_count": 3,
     "metadata": {},
     "output_type": "execute_result"
    }
   ],
   "source": [
    "'안녕하세요? %.4f' % (0.123456)"
   ]
  },
  {
   "cell_type": "code",
   "execution_count": 4,
   "metadata": {
    "colab": {
     "base_uri": "https://localhost:8080/",
     "height": 35
    },
    "id": "D0xXLvfti3cS",
    "outputId": "7d1d6cfa-5f79-4755-8268-851e6d4d514f"
   },
   "outputs": [
    {
     "data": {
      "text/plain": [
       "'안녕하세요? 12345'"
      ]
     },
     "execution_count": 4,
     "metadata": {},
     "output_type": "execute_result"
    }
   ],
   "source": [
    "'안녕하세요? %d' % (12345)"
   ]
  },
  {
   "cell_type": "code",
   "execution_count": 5,
   "metadata": {
    "colab": {
     "base_uri": "https://localhost:8080/",
     "height": 35
    },
    "id": "RU7ru-gPi-US",
    "outputId": "00c0caa4-bffd-4163-ac0b-c0800b81858e"
   },
   "outputs": [
    {
     "data": {
      "text/plain": [
       "'안녕하세요? a'"
      ]
     },
     "execution_count": 5,
     "metadata": {},
     "output_type": "execute_result"
    }
   ],
   "source": [
    "'안녕하세요? %c' % ('a')"
   ]
  },
  {
   "cell_type": "markdown",
   "metadata": {
    "id": "5CLJ0YaDjF8Z"
   },
   "source": [
    "### {} 와 format를 사용한 출력"
   ]
  },
  {
   "cell_type": "code",
   "execution_count": null,
   "metadata": {
    "colab": {
     "base_uri": "https://localhost:8080/",
     "height": 35
    },
    "id": "32GRkJFgjIyG",
    "outputId": "3a66bc0c-10be-4da2-b929-513e02da0616"
   },
   "outputs": [],
   "source": [
    "'웰컴투? {}'.format('파이썬.')"
   ]
  },
  {
   "cell_type": "code",
   "execution_count": null,
   "metadata": {
    "colab": {
     "base_uri": "https://localhost:8080/",
     "height": 35
    },
    "id": "8J2L4341jNKd",
    "outputId": "964dcd92-304c-4cb7-91aa-13185cbcc732"
   },
   "outputs": [],
   "source": [
    "'비밀번호 {}'.format(486)"
   ]
  },
  {
   "cell_type": "markdown",
   "metadata": {},
   "source": [
    "소수점 2자리 까지 제한하는 경우 (그 이하자리는 반올림)"
   ]
  },
  {
   "cell_type": "code",
   "execution_count": null,
   "metadata": {
    "colab": {
     "base_uri": "https://localhost:8080/",
     "height": 35
    },
    "id": "lL6qZGlSjPsO",
    "outputId": "c8921d0a-d070-403f-c302-6e3cac8145b8"
   },
   "outputs": [],
   "source": [
    "'원주율? {:.2f}'.format(3.141592)"
   ]
  },
  {
   "cell_type": "markdown",
   "metadata": {
    "id": "EKla2fH0_rRt"
   },
   "source": [
    "### f 문자열 포맷팅 (python 3.6 이상만 지원)"
   ]
  },
  {
   "cell_type": "code",
   "execution_count": 6,
   "metadata": {
    "colab": {
     "base_uri": "https://localhost:8080/",
     "height": 35
    },
    "id": "8fAI91HW_w1O",
    "outputId": "46f089cd-c5c6-4756-886e-d55425bd6542"
   },
   "outputs": [
    {
     "name": "stdout",
     "output_type": "stream",
     "text": [
      "나의 이름은 펭수입니다. 나이는 10 살입니다.\n"
     ]
    }
   ],
   "source": [
    "name = '펭수'\n",
    "age = 10\n",
    "print(f'나의 이름은 {name}입니다. 나이는 {age} 살입니다.')"
   ]
  },
  {
   "cell_type": "code",
   "execution_count": 7,
   "metadata": {
    "colab": {
     "base_uri": "https://localhost:8080/",
     "height": 35
    },
    "id": "1zx2auV4_3fu",
    "outputId": "68abf497-46a2-4d0e-e88e-da2eb65e00c3"
   },
   "outputs": [
    {
     "name": "stdout",
     "output_type": "stream",
     "text": [
      "내년에 저는 11 살입니다.\n"
     ]
    }
   ],
   "source": [
    "print(f'내년에 저는 {age+1} 살입니다.')"
   ]
  },
  {
   "cell_type": "code",
   "execution_count": 9,
   "metadata": {
    "id": "90vy6SCUADEu"
   },
   "outputs": [],
   "source": [
    "d = {'name':'펭수', 'age':10}"
   ]
  },
  {
   "cell_type": "code",
   "execution_count": 10,
   "metadata": {
    "colab": {
     "base_uri": "https://localhost:8080/",
     "height": 35
    },
    "id": "sk6wcosPAGX9",
    "outputId": "9588acb6-0b60-47c1-d5ff-9f18d3a98886"
   },
   "outputs": [
    {
     "name": "stdout",
     "output_type": "stream",
     "text": [
      "반가워요. 저는 펭수입니다. 저의 나이는 10 살입니다.\n"
     ]
    }
   ],
   "source": [
    "print(f\"반가워요. 저는 {d['name']}입니다. 저의 나이는 {d['age']} 살입니다.\")"
   ]
  },
  {
   "cell_type": "markdown",
   "metadata": {},
   "source": [
    "### 연습문제\n",
    "\n",
    "- 변수 `a`를 활용하여 문자열 포맷팅으로 출력하세요\n",
    "- print() 를 사용합니다."
   ]
  },
  {
   "cell_type": "code",
   "execution_count": 12,
   "metadata": {},
   "outputs": [],
   "source": [
    "a = 1234"
   ]
  },
  {
   "cell_type": "code",
   "execution_count": 13,
   "metadata": {},
   "outputs": [
    {
     "name": "stdout",
     "output_type": "stream",
     "text": [
      "a의 값은1234입니다\n"
     ]
    }
   ],
   "source": [
    "# 코드를 입력해 주세요\n",
    "print(f'a의 값은{a}입니다')"
   ]
  },
  {
   "cell_type": "markdown",
   "metadata": {},
   "source": [
    "<p><strong>[출력 결과]</strong></p><pre>a의 값은 1234입니다\n",
    "</pre>"
   ]
  },
  {
   "cell_type": "markdown",
   "metadata": {},
   "source": [
    "- 변수 `a`, `b`를 활용하여 문자열 포맷팅으로 출력하세요\n",
    "- 단, `a`, `b`의 값은 소수 3째짜리까지 출력하고, 그 이하는 반올림합니다."
   ]
  },
  {
   "cell_type": "code",
   "execution_count": 15,
   "metadata": {},
   "outputs": [],
   "source": [
    "a = 3.141592\n",
    "b = 6.181112"
   ]
  },
  {
   "cell_type": "code",
   "execution_count": 17,
   "metadata": {},
   "outputs": [
    {
     "name": "stdout",
     "output_type": "stream",
     "text": [
      "a의 값은 3.142, b의 값은 6.181입니다\n"
     ]
    }
   ],
   "source": [
    "# 코드를 입력해 주세요\n",
    "print(f'a의 값은 {a:.3f}, b의 값은 {b:.3f}입니다')"
   ]
  },
  {
   "cell_type": "markdown",
   "metadata": {},
   "source": [
    "<p><strong>[출력 결과]</strong></p><pre>a의 값은 3.142, b의 값은 6.181입니다\n",
    "</pre>"
   ]
  },
  {
   "cell_type": "markdown",
   "metadata": {
    "id": "I0X0Ex-N6ftn"
   },
   "source": [
    "## 문자열 길이"
   ]
  },
  {
   "cell_type": "markdown",
   "metadata": {
    "id": "Bn4hrljDumxP"
   },
   "source": [
    "### 영문 (alphabet)"
   ]
  },
  {
   "cell_type": "code",
   "execution_count": 18,
   "metadata": {
    "colab": {
     "base_uri": "https://localhost:8080/",
     "height": 35
    },
    "id": "LHe2Vr9m6pK1",
    "outputId": "ebffc29f-f1ca-4170-9f57-3fd407f520ce"
   },
   "outputs": [
    {
     "data": {
      "text/plain": [
       "6"
      ]
     },
     "execution_count": 18,
     "metadata": {},
     "output_type": "execute_result"
    }
   ],
   "source": [
    "len('banana')"
   ]
  },
  {
   "cell_type": "markdown",
   "metadata": {
    "id": "9siMZPhguuqx"
   },
   "source": [
    "**공백**은 길이에 포함됩니다."
   ]
  },
  {
   "cell_type": "code",
   "execution_count": 19,
   "metadata": {
    "colab": {
     "base_uri": "https://localhost:8080/",
     "height": 35
    },
    "id": "sWeic6eQ6vvd",
    "outputId": "795165fc-0db0-4e04-d77a-e65cdeae41af"
   },
   "outputs": [
    {
     "data": {
      "text/plain": [
       "10"
      ]
     },
     "execution_count": 19,
     "metadata": {},
     "output_type": "execute_result"
    }
   ],
   "source": [
    "len('banana pen')"
   ]
  },
  {
   "cell_type": "markdown",
   "metadata": {
    "id": "MJT04oW7uqLg"
   },
   "source": [
    "### 한글"
   ]
  },
  {
   "cell_type": "code",
   "execution_count": 20,
   "metadata": {
    "colab": {
     "base_uri": "https://localhost:8080/",
     "height": 35
    },
    "id": "C4OsD6KE64xb",
    "outputId": "3d146219-8a7f-495a-a905-872e22c1a2b3"
   },
   "outputs": [
    {
     "data": {
      "text/plain": [
       "2"
      ]
     },
     "execution_count": 20,
     "metadata": {},
     "output_type": "execute_result"
    }
   ],
   "source": [
    "len('한글')"
   ]
  },
  {
   "cell_type": "markdown",
   "metadata": {
    "id": "K9saUoviu5tz"
   },
   "source": [
    "**공백**은 길이에 포함됩니다."
   ]
  },
  {
   "cell_type": "code",
   "execution_count": 21,
   "metadata": {
    "colab": {
     "base_uri": "https://localhost:8080/",
     "height": 35
    },
    "id": "VqpF4dSg68cG",
    "outputId": "fd4b7565-9edf-47f8-d5da-0e08ad24c5cb"
   },
   "outputs": [
    {
     "data": {
      "text/plain": [
       "6"
      ]
     },
     "execution_count": 21,
     "metadata": {},
     "output_type": "execute_result"
    }
   ],
   "source": [
    "len('한글 킹왕짱')"
   ]
  },
  {
   "cell_type": "markdown",
   "metadata": {
    "id": "fYYXjPApww5F"
   },
   "source": [
    "## 인덱싱 (indexing)\n",
    "\n",
    "- 문자열에서 한 개의 글자(char)를 조회하기 위해서는 **[]를 활용한 인덱싱으로 조회**할 수 있습니다."
   ]
  },
  {
   "cell_type": "code",
   "execution_count": null,
   "metadata": {},
   "outputs": [],
   "source": [
    "a = 'Python is my life'\n",
    "a"
   ]
  },
  {
   "cell_type": "markdown",
   "metadata": {},
   "source": [
    "<div class=\"jp-RenderedHTMLCommon jp-RenderedMarkdown jp-MarkdownOutput \" data-mime-type=\"text/markdown\">\n",
    "<table>\n",
    "<thead><tr>\n",
    "<th>P</th>\n",
    "<th>y</th>\n",
    "<th>t</th>\n",
    "<th>h</th>\n",
    "<th>o</th>\n",
    "<th>n</th>\n",
    "<th></th>\n",
    "<th>i</th>\n",
    "<th>s</th>\n",
    "<th></th>\n",
    "<th>m</th>\n",
    "<th>y</th>\n",
    "<th></th>\n",
    "<th>l</th>\n",
    "<th>i</th>\n",
    "<th>f</th>\n",
    "<th>e</th>\n",
    "</tr>\n",
    "</thead>\n",
    "<tbody>\n",
    "<tr>\n",
    "<td>0</td>\n",
    "<td>1</td>\n",
    "<td>2</td>\n",
    "<td>3</td>\n",
    "<td>4</td>\n",
    "<td>5</td>\n",
    "<td>6</td>\n",
    "<td>7</td>\n",
    "<td>8</td>\n",
    "<td>9</td>\n",
    "<td>10</td>\n",
    "<td>11</td>\n",
    "<td>12</td>\n",
    "<td>13</td>\n",
    "<td>14</td>\n",
    "<td>15</td>\n",
    "<td>16</td>\n",
    "</tr>\n",
    "<tr>\n",
    "<td>-17</td>\n",
    "<td>-16</td>\n",
    "<td>-15</td>\n",
    "<td>-14</td>\n",
    "<td>-13</td>\n",
    "<td>-12</td>\n",
    "<td>-11</td>\n",
    "<td>-10</td>\n",
    "<td>-9</td>\n",
    "<td>-8</td>\n",
    "<td>-7</td>\n",
    "<td>-6</td>\n",
    "<td>-5</td>\n",
    "<td>-4</td>\n",
    "<td>-3</td>\n",
    "<td>-2</td>\n",
    "<td>-1</td>\n",
    "</tr>\n",
    "</tbody>\n",
    "</table>\n",
    "\n",
    "</div>"
   ]
  },
  {
   "cell_type": "code",
   "execution_count": null,
   "metadata": {
    "colab": {
     "base_uri": "https://localhost:8080/",
     "height": 35
    },
    "id": "_Ee3pk7axjxw",
    "outputId": "49b525ca-6800-4d5e-dee7-11782c65882d"
   },
   "outputs": [],
   "source": [
    "a[0]"
   ]
  },
  {
   "cell_type": "code",
   "execution_count": null,
   "metadata": {
    "colab": {
     "base_uri": "https://localhost:8080/",
     "height": 35
    },
    "id": "wrjfuPlrxm8E",
    "outputId": "f38104d4-012e-4808-a0d5-ffef2e8fe16d"
   },
   "outputs": [],
   "source": [
    "a[-2]"
   ]
  },
  {
   "cell_type": "markdown",
   "metadata": {},
   "source": [
    "### 연습문제"
   ]
  },
  {
   "cell_type": "markdown",
   "metadata": {},
   "source": [
    "문자열 \"210101-1234567\"을 인덱싱 하여 성별을 나타내는 숫자를 출력 하세요"
   ]
  },
  {
   "cell_type": "code",
   "execution_count": 22,
   "metadata": {},
   "outputs": [],
   "source": [
    "registration_number =  '210101-1234567'"
   ]
  },
  {
   "cell_type": "code",
   "execution_count": 23,
   "metadata": {},
   "outputs": [
    {
     "data": {
      "text/plain": [
       "'1'"
      ]
     },
     "execution_count": 23,
     "metadata": {},
     "output_type": "execute_result"
    }
   ],
   "source": [
    "# 코드를 입력해 주세요\n",
    "registration_number[-7]"
   ]
  },
  {
   "cell_type": "markdown",
   "metadata": {},
   "source": [
    "<p><strong>[출력 결과]</strong></p><pre>'1'</pre>"
   ]
  },
  {
   "cell_type": "markdown",
   "metadata": {
    "id": "uQtvUw-txhmT"
   },
   "source": [
    "## 슬라이싱 (Slicing)\n",
    "\n",
    "- 슬라이싱의 활용: [start:stop:step] 을 명시하여 부분을 추출할 수 있습니다."
   ]
  },
  {
   "cell_type": "code",
   "execution_count": null,
   "metadata": {},
   "outputs": [],
   "source": [
    "a = 'Python is my life'\n",
    "a"
   ]
  },
  {
   "cell_type": "markdown",
   "metadata": {},
   "source": [
    "<div class=\"jp-RenderedHTMLCommon jp-RenderedMarkdown jp-MarkdownOutput \" data-mime-type=\"text/markdown\">\n",
    "<table>\n",
    "<thead><tr>\n",
    "<th>P</th>\n",
    "<th>y</th>\n",
    "<th>t</th>\n",
    "<th>h</th>\n",
    "<th>o</th>\n",
    "<th>n</th>\n",
    "<th></th>\n",
    "<th>i</th>\n",
    "<th>s</th>\n",
    "<th></th>\n",
    "<th>m</th>\n",
    "<th>y</th>\n",
    "<th></th>\n",
    "<th>l</th>\n",
    "<th>i</th>\n",
    "<th>f</th>\n",
    "<th>e</th>\n",
    "</tr>\n",
    "</thead>\n",
    "<tbody>\n",
    "<tr>\n",
    "<td>0</td>\n",
    "<td>1</td>\n",
    "<td>2</td>\n",
    "<td>3</td>\n",
    "<td>4</td>\n",
    "<td>5</td>\n",
    "<td>6</td>\n",
    "<td>7</td>\n",
    "<td>8</td>\n",
    "<td>9</td>\n",
    "<td>10</td>\n",
    "<td>11</td>\n",
    "<td>12</td>\n",
    "<td>13</td>\n",
    "<td>14</td>\n",
    "<td>15</td>\n",
    "<td>16</td>\n",
    "</tr>\n",
    "<tr>\n",
    "<td>-17</td>\n",
    "<td>-16</td>\n",
    "<td>-15</td>\n",
    "<td>-14</td>\n",
    "<td>-13</td>\n",
    "<td>-12</td>\n",
    "<td>-11</td>\n",
    "<td>-10</td>\n",
    "<td>-9</td>\n",
    "<td>-8</td>\n",
    "<td>-7</td>\n",
    "<td>-6</td>\n",
    "<td>-5</td>\n",
    "<td>-4</td>\n",
    "<td>-3</td>\n",
    "<td>-2</td>\n",
    "<td>-1</td>\n",
    "</tr>\n",
    "</tbody>\n",
    "</table>\n",
    "\n",
    "</div>"
   ]
  },
  {
   "cell_type": "markdown",
   "metadata": {},
   "source": [
    "[:]을 활용하여 전체를 추출할 수 있습니다."
   ]
  },
  {
   "cell_type": "code",
   "execution_count": null,
   "metadata": {},
   "outputs": [],
   "source": [
    "a[:]"
   ]
  },
  {
   "cell_type": "markdown",
   "metadata": {},
   "source": [
    "<div class=\"jp-RenderedHTMLCommon jp-RenderedMarkdown jp-MarkdownOutput \" data-mime-type=\"text/markdown\">\n",
    "<table>\n",
    "<thead><tr>\n",
    "<th>P</th>\n",
    "<th>y</th>\n",
    "<th>t</th>\n",
    "<th>h</th>\n",
    "<th>o</th>\n",
    "<th>n</th>\n",
    "<th></th>\n",
    "<th>i</th>\n",
    "<th>s</th>\n",
    "<th></th>\n",
    "<th>m</th>\n",
    "<th>y</th>\n",
    "<th></th>\n",
    "<th>l</th>\n",
    "<th>i</th>\n",
    "<th>f</th>\n",
    "<th>e</th>\n",
    "</tr>\n",
    "</thead>\n",
    "<tbody>\n",
    "<tr>\n",
    "<td>0</td>\n",
    "<td>1</td>\n",
    "<td>2</td>\n",
    "<td>3</td>\n",
    "<td>4</td>\n",
    "<td>5</td>\n",
    "<td>6</td>\n",
    "<td>7</td>\n",
    "<td>8</td>\n",
    "<td>9</td>\n",
    "<td>10</td>\n",
    "<td>11</td>\n",
    "<td>12</td>\n",
    "<td>13</td>\n",
    "<td>14</td>\n",
    "<td>15</td>\n",
    "<td>16</td>\n",
    "</tr>\n",
    "<tr>\n",
    "<td>-17</td>\n",
    "<td>-16</td>\n",
    "<td>-15</td>\n",
    "<td>-14</td>\n",
    "<td>-13</td>\n",
    "<td>-12</td>\n",
    "<td>-11</td>\n",
    "<td>-10</td>\n",
    "<td>-9</td>\n",
    "<td>-8</td>\n",
    "<td>-7</td>\n",
    "<td>-6</td>\n",
    "<td>-5</td>\n",
    "<td>-4</td>\n",
    "<td>-3</td>\n",
    "<td>-2</td>\n",
    "<td>-1</td>\n",
    "</tr>\n",
    "</tbody>\n",
    "</table>\n",
    "\n",
    "</div>"
   ]
  },
  {
   "cell_type": "markdown",
   "metadata": {},
   "source": [
    "[start:]는 시작 index 부터 끝까지 추출합니다."
   ]
  },
  {
   "cell_type": "code",
   "execution_count": null,
   "metadata": {},
   "outputs": [],
   "source": [
    "a[3:]"
   ]
  },
  {
   "cell_type": "code",
   "execution_count": null,
   "metadata": {},
   "outputs": [],
   "source": [
    "a[-4:]"
   ]
  },
  {
   "cell_type": "markdown",
   "metadata": {},
   "source": [
    "<div class=\"jp-RenderedHTMLCommon jp-RenderedMarkdown jp-MarkdownOutput \" data-mime-type=\"text/markdown\">\n",
    "<table>\n",
    "<thead><tr>\n",
    "<th>P</th>\n",
    "<th>y</th>\n",
    "<th>t</th>\n",
    "<th>h</th>\n",
    "<th>o</th>\n",
    "<th>n</th>\n",
    "<th></th>\n",
    "<th>i</th>\n",
    "<th>s</th>\n",
    "<th></th>\n",
    "<th>m</th>\n",
    "<th>y</th>\n",
    "<th></th>\n",
    "<th>l</th>\n",
    "<th>i</th>\n",
    "<th>f</th>\n",
    "<th>e</th>\n",
    "</tr>\n",
    "</thead>\n",
    "<tbody>\n",
    "<tr>\n",
    "<td>0</td>\n",
    "<td>1</td>\n",
    "<td>2</td>\n",
    "<td>3</td>\n",
    "<td>4</td>\n",
    "<td>5</td>\n",
    "<td>6</td>\n",
    "<td>7</td>\n",
    "<td>8</td>\n",
    "<td>9</td>\n",
    "<td>10</td>\n",
    "<td>11</td>\n",
    "<td>12</td>\n",
    "<td>13</td>\n",
    "<td>14</td>\n",
    "<td>15</td>\n",
    "<td>16</td>\n",
    "</tr>\n",
    "<tr>\n",
    "<td>-17</td>\n",
    "<td>-16</td>\n",
    "<td>-15</td>\n",
    "<td>-14</td>\n",
    "<td>-13</td>\n",
    "<td>-12</td>\n",
    "<td>-11</td>\n",
    "<td>-10</td>\n",
    "<td>-9</td>\n",
    "<td>-8</td>\n",
    "<td>-7</td>\n",
    "<td>-6</td>\n",
    "<td>-5</td>\n",
    "<td>-4</td>\n",
    "<td>-3</td>\n",
    "<td>-2</td>\n",
    "<td>-1</td>\n",
    "</tr>\n",
    "</tbody>\n",
    "</table>\n",
    "\n",
    "</div>"
   ]
  },
  {
   "cell_type": "markdown",
   "metadata": {},
   "source": [
    "[:end]는 처음부터 end 전까지 추출합니다."
   ]
  },
  {
   "cell_type": "code",
   "execution_count": null,
   "metadata": {
    "colab": {
     "base_uri": "https://localhost:8080/",
     "height": 35
    },
    "id": "GuwSW6AfxHlO",
    "outputId": "65f38fa1-662b-4784-85e3-6417da4a5871"
   },
   "outputs": [],
   "source": [
    "a[:6]"
   ]
  },
  {
   "cell_type": "code",
   "execution_count": null,
   "metadata": {
    "colab": {
     "base_uri": "https://localhost:8080/",
     "height": 35
    },
    "id": "PJU7lxPfxK-K",
    "outputId": "16be18e6-6b16-4a30-9767-9649e8032288"
   },
   "outputs": [],
   "source": [
    "a[:-3]"
   ]
  },
  {
   "cell_type": "markdown",
   "metadata": {},
   "source": [
    "<div class=\"jp-RenderedHTMLCommon jp-RenderedMarkdown jp-MarkdownOutput \" data-mime-type=\"text/markdown\">\n",
    "<table>\n",
    "<thead><tr>\n",
    "<th>P</th>\n",
    "<th>y</th>\n",
    "<th>t</th>\n",
    "<th>h</th>\n",
    "<th>o</th>\n",
    "<th>n</th>\n",
    "<th></th>\n",
    "<th>i</th>\n",
    "<th>s</th>\n",
    "<th></th>\n",
    "<th>m</th>\n",
    "<th>y</th>\n",
    "<th></th>\n",
    "<th>l</th>\n",
    "<th>i</th>\n",
    "<th>f</th>\n",
    "<th>e</th>\n",
    "</tr>\n",
    "</thead>\n",
    "<tbody>\n",
    "<tr>\n",
    "<td>0</td>\n",
    "<td>1</td>\n",
    "<td>2</td>\n",
    "<td>3</td>\n",
    "<td>4</td>\n",
    "<td>5</td>\n",
    "<td>6</td>\n",
    "<td>7</td>\n",
    "<td>8</td>\n",
    "<td>9</td>\n",
    "<td>10</td>\n",
    "<td>11</td>\n",
    "<td>12</td>\n",
    "<td>13</td>\n",
    "<td>14</td>\n",
    "<td>15</td>\n",
    "<td>16</td>\n",
    "</tr>\n",
    "<tr>\n",
    "<td>-17</td>\n",
    "<td>-16</td>\n",
    "<td>-15</td>\n",
    "<td>-14</td>\n",
    "<td>-13</td>\n",
    "<td>-12</td>\n",
    "<td>-11</td>\n",
    "<td>-10</td>\n",
    "<td>-9</td>\n",
    "<td>-8</td>\n",
    "<td>-7</td>\n",
    "<td>-6</td>\n",
    "<td>-5</td>\n",
    "<td>-4</td>\n",
    "<td>-3</td>\n",
    "<td>-2</td>\n",
    "<td>-1</td>\n",
    "</tr>\n",
    "</tbody>\n",
    "</table>\n",
    "\n",
    "</div>"
   ]
  },
  {
   "cell_type": "markdown",
   "metadata": {},
   "source": [
    "[start:end]는 start부터 end 전까지 추출합니다."
   ]
  },
  {
   "cell_type": "code",
   "execution_count": null,
   "metadata": {
    "colab": {
     "base_uri": "https://localhost:8080/",
     "height": 35
    },
    "id": "D0nLAaU9xV3E",
    "outputId": "d51d202e-f3a6-4b93-f356-c84c0479a7bf"
   },
   "outputs": [],
   "source": [
    "a[3:6]"
   ]
  },
  {
   "cell_type": "markdown",
   "metadata": {},
   "source": [
    "[start:stop:step]에서 step 지정시 step만큼 건너 뛰면서 추출합니다."
   ]
  },
  {
   "cell_type": "code",
   "execution_count": null,
   "metadata": {
    "colab": {
     "base_uri": "https://localhost:8080/",
     "height": 35
    },
    "id": "lVNSxsf7xZdK",
    "outputId": "e4723212-9cbd-4215-cb06-d3efb3c4e213"
   },
   "outputs": [],
   "source": [
    "a[::2]"
   ]
  },
  {
   "cell_type": "markdown",
   "metadata": {},
   "source": [
    "역순으로 출력하기 위해서는 step을 -1로 지정합니다."
   ]
  },
  {
   "cell_type": "code",
   "execution_count": null,
   "metadata": {},
   "outputs": [],
   "source": [
    "a[::-1]"
   ]
  },
  {
   "cell_type": "markdown",
   "metadata": {},
   "source": [
    "### 연습문제"
   ]
  },
  {
   "cell_type": "markdown",
   "metadata": {},
   "source": [
    "문자열 '20210101Sunny'를 슬라이싱하여 날짜는 `date`변수에 날씨는 `weather` 변수에 저장 후 출력 하세요"
   ]
  },
  {
   "cell_type": "code",
   "execution_count": 32,
   "metadata": {},
   "outputs": [],
   "source": [
    "sample = '20210101Sunny'"
   ]
  },
  {
   "cell_type": "code",
   "execution_count": 34,
   "metadata": {},
   "outputs": [
    {
     "name": "stdout",
     "output_type": "stream",
     "text": [
      "date: 20210101\n",
      "weather: Sunny\n"
     ]
    }
   ],
   "source": [
    "# 코드를 입력해 주세요\n",
    "date = sample[:8]\n",
    "print(f'date: {date}')\n",
    "weather = sample[8:]\n",
    "print(f'weather: {weather}')"
   ]
  },
  {
   "cell_type": "markdown",
   "metadata": {},
   "source": [
    "<p><strong>[출력 결과]</strong></p><pre>date: 20210101, weather: Sunny\n",
    "</pre>"
   ]
  },
  {
   "cell_type": "markdown",
   "metadata": {},
   "source": [
    "(문자열 슬라이싱을 활용)자동차 번호가 다음과 같을 때 뒤에 4자리만 출력하세요."
   ]
  },
  {
   "cell_type": "code",
   "execution_count": 35,
   "metadata": {},
   "outputs": [],
   "source": [
    "license_plate = \"13나 5645\""
   ]
  },
  {
   "cell_type": "code",
   "execution_count": 36,
   "metadata": {},
   "outputs": [
    {
     "name": "stdout",
     "output_type": "stream",
     "text": [
      "5645\n"
     ]
    }
   ],
   "source": [
    "# 코드를 입력해 주세요\n",
    "print(license_plate[4:]) "
   ]
  },
  {
   "cell_type": "markdown",
   "metadata": {},
   "source": [
    "<p><strong>[출력 결과]</strong></p><pre>5645\n",
    "</pre>"
   ]
  },
  {
   "cell_type": "markdown",
   "metadata": {},
   "source": [
    "### 불변(immutable)\n",
    "\n",
    "- 문자열은 index를 통해 값을 수정 및 변경이 불가합니다.\n",
    "- 하지만 메서드(method)로 변경할 수 있습니다."
   ]
  },
  {
   "cell_type": "code",
   "execution_count": 37,
   "metadata": {
    "id": "dX6xkFv8ycbC"
   },
   "outputs": [],
   "source": [
    "a = 'Python is my life'"
   ]
  },
  {
   "cell_type": "markdown",
   "metadata": {},
   "source": [
    "index에 값을 할당하여 변경하려는 경우"
   ]
  },
  {
   "cell_type": "code",
   "execution_count": 38,
   "metadata": {
    "colab": {
     "base_uri": "https://localhost:8080/",
     "height": 172
    },
    "id": "d0OIpUlQyd98",
    "outputId": "90b091d3-4847-44ee-9f56-8cc2de111e8d"
   },
   "outputs": [
    {
     "ename": "TypeError",
     "evalue": "'str' object does not support item assignment",
     "output_type": "error",
     "traceback": [
      "\u001b[0;31m---------------------------------------------------------------------------\u001b[0m",
      "\u001b[0;31mTypeError\u001b[0m                                 Traceback (most recent call last)",
      "\u001b[0;32m<ipython-input-38-f2db0e8f1888>\u001b[0m in \u001b[0;36m<module>\u001b[0;34m\u001b[0m\n\u001b[0;32m----> 1\u001b[0;31m \u001b[0ma\u001b[0m\u001b[0;34m[\u001b[0m\u001b[0;36m2\u001b[0m\u001b[0;34m]\u001b[0m \u001b[0;34m=\u001b[0m \u001b[0;34m'Y'\u001b[0m\u001b[0;34m\u001b[0m\u001b[0m\n\u001b[0m",
      "\u001b[0;31mTypeError\u001b[0m: 'str' object does not support item assignment"
     ]
    }
   ],
   "source": [
    "a[2] = 'Y'"
   ]
  },
  {
   "cell_type": "markdown",
   "metadata": {},
   "source": [
    "## 문자열의 덧셈과 곱셈"
   ]
  },
  {
   "cell_type": "markdown",
   "metadata": {
    "id": "wy7OzuVn7Rx6"
   },
   "source": [
    "### 연결: 문자열의 덧셈\n",
    "\n",
    "덧셈은 문자열을 연결합니다."
   ]
  },
  {
   "cell_type": "code",
   "execution_count": 39,
   "metadata": {},
   "outputs": [],
   "source": [
    "a = '반갑습니다!'\n",
    "b = '웰컴 투 파이썬'"
   ]
  },
  {
   "cell_type": "code",
   "execution_count": 40,
   "metadata": {
    "colab": {
     "base_uri": "https://localhost:8080/",
     "height": 35
    },
    "id": "3_LKDb6_7Bap",
    "outputId": "fa4ea1ee-63c7-41e4-c83e-bd8438a50206"
   },
   "outputs": [
    {
     "data": {
      "text/plain": [
       "'반갑습니다!웰컴 투 파이썬'"
      ]
     },
     "execution_count": 40,
     "metadata": {},
     "output_type": "execute_result"
    }
   ],
   "source": [
    "a + b"
   ]
  },
  {
   "cell_type": "markdown",
   "metadata": {
    "id": "qQqStSwV7Tdj"
   },
   "source": [
    "### 복제: 문자열의 곱셈\n",
    "\n",
    "문자열을 곱한 숫자 만큼 반복하여 생성합니다."
   ]
  },
  {
   "cell_type": "code",
   "execution_count": 41,
   "metadata": {
    "colab": {
     "base_uri": "https://localhost:8080/",
     "height": 35
    },
    "id": "xrTsCnY77BVO",
    "outputId": "8e233bc5-9983-478f-fdd6-ddab882a56c3"
   },
   "outputs": [
    {
     "data": {
      "text/plain": [
       "'반갑습니다!반갑습니다!'"
      ]
     },
     "execution_count": 41,
     "metadata": {},
     "output_type": "execute_result"
    }
   ],
   "source": [
    "a * 2"
   ]
  },
  {
   "cell_type": "code",
   "execution_count": 42,
   "metadata": {
    "colab": {
     "base_uri": "https://localhost:8080/",
     "height": 35
    },
    "id": "IacR3tePvfZg",
    "outputId": "aaeeca7c-6bf5-4720-86c0-574f7a01c755"
   },
   "outputs": [
    {
     "name": "stdout",
     "output_type": "stream",
     "text": [
      "abc abc abc abc abc \n",
      "=====================\n"
     ]
    }
   ],
   "source": [
    "print('abc ' * 5)\n",
    "print('===' * 7)"
   ]
  },
  {
   "cell_type": "markdown",
   "metadata": {
    "id": "2VJuUbNy_ZUr"
   },
   "source": [
    "## 문자열의 list, set"
   ]
  },
  {
   "cell_type": "markdown",
   "metadata": {
    "id": "cST_Dqdov5gS"
   },
   "source": [
    "### 리스트(list)\n",
    "\n",
    "- 문자열을 리스트(list)로 타입 변환이 가능합니다.\n",
    "- 타입 변환시 한 글자를 요소로 갖는 리스트가 생성됩니다."
   ]
  },
  {
   "cell_type": "code",
   "execution_count": 56,
   "metadata": {
    "colab": {
     "base_uri": "https://localhost:8080/",
     "height": 35
    },
    "id": "SLWiM44c_cng",
    "outputId": "d1f8b8de-a238-42d2-e54c-d1b5d07cd944"
   },
   "outputs": [
    {
     "data": {
      "text/plain": [
       "['A', 'B', 'C', 'D', 'E']"
      ]
     },
     "execution_count": 56,
     "metadata": {},
     "output_type": "execute_result"
    }
   ],
   "source": [
    "list('ABCDE')"
   ]
  },
  {
   "cell_type": "markdown",
   "metadata": {
    "id": "Fb2mqFztv7uK"
   },
   "source": [
    "### 세트(set)\n",
    "\n",
    "- 한 글자를 요소로 갖는 세트가 생성됩니다.\n",
    "- 세트의 특성상 요소를 생성한 후 중복된 글자는 제거됩니다."
   ]
  },
  {
   "cell_type": "code",
   "execution_count": 57,
   "metadata": {
    "colab": {
     "base_uri": "https://localhost:8080/",
     "height": 35
    },
    "id": "XTEdxUag_evd",
    "outputId": "35ff62f3-7c61-4fe1-f243-2816f5ac2e23"
   },
   "outputs": [
    {
     "data": {
      "text/plain": [
       "{'A', 'B', 'C'}"
      ]
     },
     "execution_count": 57,
     "metadata": {},
     "output_type": "execute_result"
    }
   ],
   "source": [
    "set('AAABBBCCC')"
   ]
  },
  {
   "cell_type": "markdown",
   "metadata": {},
   "source": [
    "중복이 제거된 리스트로 생성하기 위해서는 list로 다시 타입 변환합니다."
   ]
  },
  {
   "cell_type": "code",
   "execution_count": 58,
   "metadata": {
    "colab": {
     "base_uri": "https://localhost:8080/",
     "height": 35
    },
    "id": "8ujXOXJp_eNh",
    "outputId": "2f286b1e-0145-4c3d-95b4-cb263ff65e95"
   },
   "outputs": [
    {
     "data": {
      "text/plain": [
       "['B', 'C', 'A']"
      ]
     },
     "execution_count": 58,
     "metadata": {},
     "output_type": "execute_result"
    }
   ],
   "source": [
    "list(set('AAABBBCCC'))"
   ]
  },
  {
   "cell_type": "markdown",
   "metadata": {},
   "source": [
    "### 연습문제\n",
    "\n",
    "- 다음 중 a, b, c에서 공통으로 사용된 알파벳(공백 포함)을 출력하세요.\n",
    "- list 형식으로 출력하세요."
   ]
  },
  {
   "cell_type": "code",
   "execution_count": 79,
   "metadata": {},
   "outputs": [],
   "source": [
    "a = 'Hello, World'\n",
    "b = 'World To World'\n",
    "c = 'world to world'"
   ]
  },
  {
   "cell_type": "code",
   "execution_count": 88,
   "metadata": {},
   "outputs": [
    {
     "name": "stdout",
     "output_type": "stream",
     "text": [
      "{'r', 'l', 'o', ' ', 'd'}\n"
     ]
    }
   ],
   "source": [
    "# 코드를 입력해 주세요\n",
    "a = set(a)\n",
    "b = set(b)\n",
    "c = set(c)\n",
    "d = a&b\n",
    "e = d&c\n",
    "print(e)"
   ]
  },
  {
   "cell_type": "markdown",
   "metadata": {},
   "source": [
    "<p><strong>[출력 결과]</strong></p><pre>[' ', 'd', 'l', 'o', 'r']</pre>"
   ]
  },
  {
   "cell_type": "markdown",
   "metadata": {
    "id": "X3drW8_W6_cP"
   },
   "source": [
    "## 문자열(텍스트)을 다루는 다양한 기능, 메서드(method)\n",
    "\n",
    "문자열만 가지고 있는 **고유의 편한 기능**들이 있습니다. \n",
    "\n",
    "우리는 이들 중 몇 가지를 배워 앞으로 유용하게 활용할 예정입니다."
   ]
  },
  {
   "cell_type": "markdown",
   "metadata": {
    "id": "b3crAbCA7Oy-"
   },
   "source": [
    "### split() : 분리"
   ]
  },
  {
   "cell_type": "markdown",
   "metadata": {
    "id": "OsAWWrld7UiV"
   },
   "source": [
    "- split은 문장을 특정 규칙에 의해 쪼개 주는 기능을 합니다.\n",
    "- 분리한 결과는 list 형식으로 값을 return 받습니다."
   ]
  },
  {
   "cell_type": "code",
   "execution_count": 89,
   "metadata": {
    "id": "FC4GEYLM7WmE"
   },
   "outputs": [],
   "source": [
    "a = 'This is a pen'"
   ]
  },
  {
   "cell_type": "markdown",
   "metadata": {},
   "source": [
    "기본 값으로 **공백**이 지정되어 있습니다. 즉, 공백을 기준으로 분리하여 리스트로 반환합니다."
   ]
  },
  {
   "cell_type": "code",
   "execution_count": 90,
   "metadata": {},
   "outputs": [
    {
     "data": {
      "text/plain": [
       "['This', 'is', 'a', 'pen']"
      ]
     },
     "execution_count": 90,
     "metadata": {},
     "output_type": "execute_result"
    }
   ],
   "source": [
    "a.split()"
   ]
  },
  {
   "cell_type": "markdown",
   "metadata": {
    "id": "JWUQvHVc7vql"
   },
   "source": [
    "기본 값인 **공백**에서 **특정 문자**로 지정할 수 있습니다."
   ]
  },
  {
   "cell_type": "code",
   "execution_count": 91,
   "metadata": {
    "id": "-CCwHeQk7hru"
   },
   "outputs": [],
   "source": [
    "a = 'This-is-a-pen'"
   ]
  },
  {
   "cell_type": "code",
   "execution_count": 92,
   "metadata": {
    "colab": {
     "base_uri": "https://localhost:8080/",
     "height": 35
    },
    "id": "fr07vyKD7lJd",
    "outputId": "7e557fd1-fe38-4c81-fff1-004c8169ade5"
   },
   "outputs": [
    {
     "data": {
      "text/plain": [
       "['This', 'is', 'a', 'pen']"
      ]
     },
     "execution_count": 92,
     "metadata": {},
     "output_type": "execute_result"
    }
   ],
   "source": [
    "a.split('-')"
   ]
  },
  {
   "cell_type": "markdown",
   "metadata": {},
   "source": [
    "**한글**도 동일하게 적용됩니다."
   ]
  },
  {
   "cell_type": "code",
   "execution_count": 93,
   "metadata": {
    "id": "8cV3DoUT8X5P"
   },
   "outputs": [],
   "source": [
    "a = '한글은 어떻게 될까요?'"
   ]
  },
  {
   "cell_type": "code",
   "execution_count": 94,
   "metadata": {
    "colab": {
     "base_uri": "https://localhost:8080/",
     "height": 35
    },
    "id": "Hjb4bU-a8Ebd",
    "outputId": "a3d178c5-1839-489c-c5f3-0e8a4cef4925"
   },
   "outputs": [
    {
     "data": {
      "text/plain": [
       "['한글은', '어떻게', '될까요?']"
      ]
     },
     "execution_count": 94,
     "metadata": {},
     "output_type": "execute_result"
    }
   ],
   "source": [
    "a.split()"
   ]
  },
  {
   "cell_type": "markdown",
   "metadata": {},
   "source": [
    "### 연습문제\n",
    "\n",
    "`sample` 변수를 활용하여 다음의 출력을 가지도록 문자열을 분리하세요"
   ]
  },
  {
   "cell_type": "code",
   "execution_count": 95,
   "metadata": {},
   "outputs": [],
   "source": [
    "sample = 'abc-def.789/100'"
   ]
  },
  {
   "cell_type": "code",
   "execution_count": 96,
   "metadata": {},
   "outputs": [
    {
     "data": {
      "text/plain": [
       "['abc-def', '789/100']"
      ]
     },
     "execution_count": 96,
     "metadata": {},
     "output_type": "execute_result"
    }
   ],
   "source": [
    "# 코드를 입력해 주세요\n",
    "sample.split('.')"
   ]
  },
  {
   "cell_type": "markdown",
   "metadata": {},
   "source": [
    "<p><strong>[출력 결과]</strong></p><pre>['abc-def', '789/100']</pre>"
   ]
  },
  {
   "cell_type": "code",
   "execution_count": 97,
   "metadata": {},
   "outputs": [
    {
     "data": {
      "text/plain": [
       "['abc', 'def.789/100']"
      ]
     },
     "execution_count": 97,
     "metadata": {},
     "output_type": "execute_result"
    }
   ],
   "source": [
    "# 코드를 입력해 주세요\n",
    "sample.split('-')"
   ]
  },
  {
   "cell_type": "markdown",
   "metadata": {},
   "source": [
    "<p><strong>[출력 결과]</strong></p><pre>['abc', 'def.789/100']</pre>"
   ]
  },
  {
   "cell_type": "markdown",
   "metadata": {
    "id": "YiAIxxl3-JZk"
   },
   "source": [
    "### join() : 합치기\n",
    "\n",
    "- 결합하고자 하는 문자에 .join() 안에 리스트를 지정하여 결합할 수 있습니다."
   ]
  },
  {
   "cell_type": "code",
   "execution_count": 98,
   "metadata": {
    "colab": {
     "base_uri": "https://localhost:8080/",
     "height": 35
    },
    "id": "ovA1xnOEwSZ6",
    "outputId": "4efb4985-b9ea-4ca0-8ce8-b1d91b5d2613"
   },
   "outputs": [
    {
     "data": {
      "text/plain": [
       "'010-1234-5678'"
      ]
     },
     "execution_count": 98,
     "metadata": {},
     "output_type": "execute_result"
    }
   ],
   "source": [
    "'-'.join(['010',  '1234', '5678'])"
   ]
  },
  {
   "cell_type": "code",
   "execution_count": 99,
   "metadata": {
    "colab": {
     "base_uri": "https://localhost:8080/",
     "height": 35
    },
    "id": "qlufBtYj-Un_",
    "outputId": "3973d6fa-2ed0-46fe-f1c3-b94f378cecc9"
   },
   "outputs": [
    {
     "data": {
      "text/plain": [
       "'A-B-C-D-E'"
      ]
     },
     "execution_count": 99,
     "metadata": {},
     "output_type": "execute_result"
    }
   ],
   "source": [
    "'-'.join('ABCDE')"
   ]
  },
  {
   "cell_type": "markdown",
   "metadata": {},
   "source": [
    "### 연습문제"
   ]
  },
  {
   "cell_type": "markdown",
   "metadata": {},
   "source": [
    "sample = ['Python', 'is', 'too', 'interesting']\n",
    "\n",
    "리스트를 Python is too interesting 이라는 문자열로 출력하세요"
   ]
  },
  {
   "cell_type": "code",
   "execution_count": 100,
   "metadata": {},
   "outputs": [],
   "source": [
    "sample = ['Python', 'is', 'too', 'interesting']"
   ]
  },
  {
   "cell_type": "code",
   "execution_count": 103,
   "metadata": {},
   "outputs": [
    {
     "data": {
      "text/plain": [
       "'Python * is * too * interesting'"
      ]
     },
     "execution_count": 103,
     "metadata": {},
     "output_type": "execute_result"
    }
   ],
   "source": [
    "# 코드를 입력해 주세요\n",
    "' * '.join(sample)"
   ]
  },
  {
   "cell_type": "markdown",
   "metadata": {},
   "source": [
    "<p><strong>[출력 결과]</strong></p><pre>'Python * is * too * interesting'</pre>"
   ]
  },
  {
   "cell_type": "code",
   "execution_count": 104,
   "metadata": {},
   "outputs": [],
   "source": [
    "phone_number = ['010', '1234', '5678']"
   ]
  },
  {
   "cell_type": "code",
   "execution_count": 105,
   "metadata": {},
   "outputs": [
    {
     "data": {
      "text/plain": [
       "'010-1234-5678'"
      ]
     },
     "execution_count": 105,
     "metadata": {},
     "output_type": "execute_result"
    }
   ],
   "source": [
    "# 코드를 입력해 주세요\n",
    "'-'.join(phone_number)"
   ]
  },
  {
   "cell_type": "markdown",
   "metadata": {},
   "source": [
    "<p><strong>[출력 결과]</strong></p><pre>'010-1234-5678'</pre>"
   ]
  },
  {
   "cell_type": "markdown",
   "metadata": {
    "id": "dBxYW5wZ8GP-"
   },
   "source": [
    "### lower(), upper() : 소문자 / 대문자로 만들기"
   ]
  },
  {
   "cell_type": "code",
   "execution_count": 106,
   "metadata": {
    "id": "_jM72wdq8I5l"
   },
   "outputs": [],
   "source": [
    "a = 'My name is Teddy'"
   ]
  },
  {
   "cell_type": "markdown",
   "metadata": {},
   "source": [
    "소문자로 변경"
   ]
  },
  {
   "cell_type": "code",
   "execution_count": 107,
   "metadata": {
    "colab": {
     "base_uri": "https://localhost:8080/",
     "height": 35
    },
    "id": "nzwSAYnY8PMt",
    "outputId": "530e8821-810f-4732-ad41-ea313e3fe180"
   },
   "outputs": [
    {
     "data": {
      "text/plain": [
       "'my name is teddy'"
      ]
     },
     "execution_count": 107,
     "metadata": {},
     "output_type": "execute_result"
    }
   ],
   "source": [
    "a.lower()"
   ]
  },
  {
   "cell_type": "markdown",
   "metadata": {},
   "source": [
    "대문자로 변경"
   ]
  },
  {
   "cell_type": "code",
   "execution_count": 108,
   "metadata": {
    "colab": {
     "base_uri": "https://localhost:8080/",
     "height": 35
    },
    "id": "-WzdUBjE8Q45",
    "outputId": "816f449c-b253-49a1-8413-9cf25d006f8c"
   },
   "outputs": [
    {
     "data": {
      "text/plain": [
       "'MY NAME IS TEDDY'"
      ]
     },
     "execution_count": 108,
     "metadata": {},
     "output_type": "execute_result"
    }
   ],
   "source": [
    "a.upper()"
   ]
  },
  {
   "cell_type": "markdown",
   "metadata": {},
   "source": [
    "한글에는 대소문자 구분이 없습니다."
   ]
  },
  {
   "cell_type": "code",
   "execution_count": 109,
   "metadata": {
    "id": "LCvVGpAs8V_e"
   },
   "outputs": [],
   "source": [
    "a = '한글엔 대소문자가 없어요ㅠ'"
   ]
  },
  {
   "cell_type": "code",
   "execution_count": 110,
   "metadata": {
    "colab": {
     "base_uri": "https://localhost:8080/",
     "height": 35
    },
    "id": "Als5HOz28hM5",
    "outputId": "8cb20266-d096-4917-e9e5-73f7c9c5ddcd"
   },
   "outputs": [
    {
     "data": {
      "text/plain": [
       "'한글엔 대소문자가 없어요ㅠ'"
      ]
     },
     "execution_count": 110,
     "metadata": {},
     "output_type": "execute_result"
    }
   ],
   "source": [
    "a.lower()"
   ]
  },
  {
   "cell_type": "code",
   "execution_count": 111,
   "metadata": {
    "colab": {
     "base_uri": "https://localhost:8080/",
     "height": 35
    },
    "id": "rjPBxrK08iFt",
    "outputId": "84927478-b332-43de-e3f2-84e00d38196d"
   },
   "outputs": [
    {
     "data": {
      "text/plain": [
       "'한글엔 대소문자가 없어요ㅠ'"
      ]
     },
     "execution_count": 111,
     "metadata": {},
     "output_type": "execute_result"
    }
   ],
   "source": [
    "a.upper()"
   ]
  },
  {
   "cell_type": "markdown",
   "metadata": {
    "id": "ZThLS-KL8rA8"
   },
   "source": [
    "## startswith, endswith\n",
    "\n",
    "시작과, 끝이 맞는지 결과를 bool로 반환합니다."
   ]
  },
  {
   "cell_type": "code",
   "execution_count": 112,
   "metadata": {
    "id": "uuTemUdN0w2B"
   },
   "outputs": [],
   "source": [
    "a = '01-sample.png'"
   ]
  },
  {
   "cell_type": "markdown",
   "metadata": {
    "id": "EavY7Aun0kjs"
   },
   "source": [
    "### startswith() : 시작하는\n",
    "\n",
    "- 지정한 문자열로 시작하면 True, 그렇지 않다면 False를 반환합니다."
   ]
  },
  {
   "cell_type": "code",
   "execution_count": null,
   "metadata": {
    "colab": {
     "base_uri": "https://localhost:8080/",
     "height": 35
    },
    "id": "8pNYKEFi85Ie",
    "outputId": "b60bad2e-191a-4fce-8e5a-15403ad32a2f"
   },
   "outputs": [],
   "source": [
    "a.startswith('01')"
   ]
  },
  {
   "cell_type": "code",
   "execution_count": null,
   "metadata": {
    "colab": {
     "base_uri": "https://localhost:8080/",
     "height": 35
    },
    "id": "D858M3T00b3z",
    "outputId": "5a70c6b7-2905-485e-9970-8144d42d3b8d"
   },
   "outputs": [],
   "source": [
    "a.startswith('02')"
   ]
  },
  {
   "cell_type": "markdown",
   "metadata": {
    "id": "oGXxMjlf0cyr"
   },
   "source": [
    "### endswith() : 끝나는\n",
    "\n",
    "- 지정한 문자열로 끝나면 True, 그렇지 않다면 False를 반환합니다."
   ]
  },
  {
   "cell_type": "code",
   "execution_count": null,
   "metadata": {
    "colab": {
     "base_uri": "https://localhost:8080/",
     "height": 35
    },
    "id": "VCpn1plG892e",
    "outputId": "525a3419-121c-4c01-b769-87c734cede50"
   },
   "outputs": [],
   "source": [
    "a.endswith('.png')"
   ]
  },
  {
   "cell_type": "code",
   "execution_count": null,
   "metadata": {
    "colab": {
     "base_uri": "https://localhost:8080/",
     "height": 35
    },
    "id": "1F4JLtPY9BZl",
    "outputId": "184601bb-3118-4b58-fc16-d595d16e6395"
   },
   "outputs": [],
   "source": [
    "a.endswith('.jpg')"
   ]
  },
  {
   "cell_type": "markdown",
   "metadata": {
    "id": "BlmsgCrK9VVk"
   },
   "source": [
    "## replace() : 문자열 바꾸기\n",
    "\n",
    "- 문자열에 **replace(바꿀 대상, 바꾸려는 문자열)** 지정하여 문자열을 변경합니다.\n",
    "- 결과는 복사본이 만들어져 반환됩니다."
   ]
  },
  {
   "cell_type": "code",
   "execution_count": null,
   "metadata": {
    "id": "ANj2HqcK9Vb8"
   },
   "outputs": [],
   "source": [
    "a = '01-sample.png'"
   ]
  },
  {
   "cell_type": "code",
   "execution_count": null,
   "metadata": {
    "colab": {
     "base_uri": "https://localhost:8080/",
     "height": 35
    },
    "id": "EEjlaLiV9end",
    "outputId": "787c736d-1dca-4fbb-cce8-85e97b3f59be"
   },
   "outputs": [],
   "source": [
    "a.replace('.png', '.jpg')"
   ]
  },
  {
   "cell_type": "markdown",
   "metadata": {
    "id": "f2XosBBa97Uk"
   },
   "source": [
    "## 불필요한 공백 제거"
   ]
  },
  {
   "cell_type": "code",
   "execution_count": null,
   "metadata": {
    "id": "KsUFyKpj9-eL"
   },
   "outputs": [],
   "source": [
    "a = '    01-sample.png                '"
   ]
  },
  {
   "cell_type": "code",
   "execution_count": null,
   "metadata": {
    "colab": {
     "base_uri": "https://localhost:8080/",
     "height": 35
    },
    "id": "EX31a4RRz3mX",
    "outputId": "0da146d2-8892-425c-bd87-eef73b5cc16e"
   },
   "outputs": [],
   "source": [
    "print(a)"
   ]
  },
  {
   "cell_type": "markdown",
   "metadata": {
    "id": "x2BIXr3a-IbK"
   },
   "source": [
    "**strip은 불필요한 공백을 제거**해 줍니다."
   ]
  },
  {
   "cell_type": "markdown",
   "metadata": {
    "id": "TkvP_X0Ez-GA"
   },
   "source": [
    "### strip() : 양쪽 공백 제거"
   ]
  },
  {
   "cell_type": "code",
   "execution_count": null,
   "metadata": {
    "colab": {
     "base_uri": "https://localhost:8080/",
     "height": 35
    },
    "id": "YiShmptM-G_b",
    "outputId": "dedf45de-8868-4c80-8702-9428db4fd697"
   },
   "outputs": [],
   "source": [
    "a.strip()"
   ]
  }
 ],
 "metadata": {
  "colab": {
   "collapsed_sections": [],
   "name": "04-파이썬-문자열-(실습)",
   "provenance": []
  },
  "kernelspec": {
   "display_name": "Python 3",
   "language": "python",
   "name": "python3"
  },
  "language_info": {
   "codemirror_mode": {
    "name": "ipython",
    "version": 3
   },
   "file_extension": ".py",
   "mimetype": "text/x-python",
   "name": "python",
   "nbconvert_exporter": "python",
   "pygments_lexer": "ipython3",
   "version": "3.6.6"
  }
 },
 "nbformat": 4,
 "nbformat_minor": 1
}
