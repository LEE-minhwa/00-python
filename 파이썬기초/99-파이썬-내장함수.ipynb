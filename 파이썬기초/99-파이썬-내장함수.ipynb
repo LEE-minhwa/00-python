{
 "cells": [
  {
   "cell_type": "markdown",
   "metadata": {},
   "source": [
    "# 내장함수(built-in function)\n",
    "\n",
    "- 파이썬에는 이미 만들어진 내장함수가 존재합니다.\n",
    "- 이미 사용하고 있는 `print()`, `type()`이 파이썬의 대표적인 내장함수입니다.\n",
    "- 이 밖에도 유용한 몇 가지 내장함수를 알아 보겠습니다."
   ]
  },
  {
   "cell_type": "markdown",
   "metadata": {
    "id": "V8gRF35efbQQ"
   },
   "source": [
    "## map\n",
    "\n",
    "- 문법: **map(function, iterable)**\n",
    "- map은 함수(f)와 순회 가능한(iterable) 자료형을 입력으로 받습니다. \n",
    "- map은 입력받은 자료형의 각 요소를 함수(function)가 수행한 결과를 묶어서 돌려줍니다."
   ]
  },
  {
   "cell_type": "code",
   "execution_count": null,
   "metadata": {
    "id": "d9CAT6gOfMSR"
   },
   "outputs": [],
   "source": [
    "sample_data = [1, 2, 3, 4, 5, 6, 7, 8, 9, 10]"
   ]
  },
  {
   "cell_type": "markdown",
   "metadata": {},
   "source": [
    "map만 실행시 요소의 내용이 바로 출력되지 않습니다."
   ]
  },
  {
   "cell_type": "code",
   "execution_count": null,
   "metadata": {
    "id": "fAOcpluff7fc"
   },
   "outputs": [],
   "source": [
    "map(str, sample_data)"
   ]
  },
  {
   "cell_type": "markdown",
   "metadata": {},
   "source": [
    "list()로 타입 변환하여 요소를 출력합니다."
   ]
  },
  {
   "cell_type": "code",
   "execution_count": null,
   "metadata": {
    "id": "hjWqV7bnf-si"
   },
   "outputs": [],
   "source": [
    "list(map(str, sample_data))"
   ]
  },
  {
   "cell_type": "markdown",
   "metadata": {
    "id": "jyozggwtgBj9"
   },
   "source": [
    "### map에 lambda 함수 적용"
   ]
  },
  {
   "cell_type": "code",
   "execution_count": null,
   "metadata": {
    "id": "Ds7WoQ6nfYqH"
   },
   "outputs": [],
   "source": [
    "result = map(lambda x: x*2, sample_data)\n",
    "list(result)"
   ]
  },
  {
   "cell_type": "markdown",
   "metadata": {
    "id": "6vqs1yfgfmk4"
   },
   "source": [
    "### map에 다중 인수를 지정"
   ]
  },
  {
   "cell_type": "code",
   "execution_count": null,
   "metadata": {
    "id": "jvoaFy-3fpsO"
   },
   "outputs": [],
   "source": [
    "sample_data = [1, 2, 3, 4, 5, 6, 7, 8, 9, 10]\n",
    "sample_data_2 = [0, 1, 2, 3, 5, 8, 13, 21, 34, 55]\n",
    "list(map(lambda x, y: x+y, sample_data, sample_data_2))"
   ]
  },
  {
   "cell_type": "markdown",
   "metadata": {
    "id": "ZU4lsAO4fybe"
   },
   "source": [
    "### list의 size가 다른 경우, 작은 size에 맞춰 생성"
   ]
  },
  {
   "cell_type": "code",
   "execution_count": null,
   "metadata": {
    "id": "iIklwPoCftq0"
   },
   "outputs": [],
   "source": [
    "sample_data = [1, 2, 3, 4, 5, 6, 7, 8, 9, 10]\n",
    "sample_data_2 = [1, 1, 1, 10, 100]"
   ]
  },
  {
   "cell_type": "code",
   "execution_count": null,
   "metadata": {
    "id": "QNKqdxGff2yT"
   },
   "outputs": [],
   "source": [
    "list(map(lambda x, y: x+y, sample_data, sample_data_2))"
   ]
  },
  {
   "cell_type": "markdown",
   "metadata": {},
   "source": [
    "### 연습문제"
   ]
  },
  {
   "cell_type": "markdown",
   "metadata": {},
   "source": [
    "`map()`을 활용하여 sample 리스트 **요소의 제곱**을 리스트 형식으로 출력하세요"
   ]
  },
  {
   "cell_type": "code",
   "execution_count": null,
   "metadata": {},
   "outputs": [],
   "source": [
    "sample = [2, 4, 6, 8, 10]"
   ]
  },
  {
   "cell_type": "code",
   "execution_count": null,
   "metadata": {},
   "outputs": [],
   "source": [
    "# 코드를 입력해 주세요\n"
   ]
  },
  {
   "cell_type": "markdown",
   "metadata": {},
   "source": [
    "<p><strong>[출력 결과]</strong></p><pre>[4, 16, 36, 64, 100]</pre>"
   ]
  },
  {
   "cell_type": "markdown",
   "metadata": {
    "id": "rm8OpLI5fzx2"
   },
   "source": [
    "## zip\n",
    "\n",
    "- 문법: **zip(*iterable)**\n",
    "- 동일한 개수로 이루어진 자료형을 묶어 주는 역할을 합니다."
   ]
  },
  {
   "cell_type": "code",
   "execution_count": null,
   "metadata": {
    "id": "sRZqzUSpgSCJ"
   },
   "outputs": [],
   "source": [
    "sample_data1 = [1, 2, 3, 4, 5, 6, 7, 8, 9, 10]\n",
    "sample_data2 = [0, 1, 2, 3, 5, 8, 13, 21, 34, 55]\n",
    "sample_data3 = [5, 6, 7]"
   ]
  },
  {
   "cell_type": "markdown",
   "metadata": {},
   "source": [
    "`sample_data1`, `sample_data2`을 zip으로 묶어준 경우"
   ]
  },
  {
   "cell_type": "code",
   "execution_count": null,
   "metadata": {
    "id": "n558ZjfOgU0Z"
   },
   "outputs": [],
   "source": [
    "result = zip(sample_data1, sample_data2)\n",
    "list(result)"
   ]
  },
  {
   "cell_type": "markdown",
   "metadata": {},
   "source": [
    "`sample_data1`, `sample_data2`, `sample_data3`을 zip으로 묶어준 경우\n",
    "\n",
    "- 작은 size를 가지는 리스트(list)에 맞춰 생성합니다."
   ]
  },
  {
   "cell_type": "code",
   "execution_count": null,
   "metadata": {
    "id": "Gj_I34ANgcTi"
   },
   "outputs": [],
   "source": [
    "list(zip(sample_data1, sample_data2, sample_data3))"
   ]
  },
  {
   "cell_type": "markdown",
   "metadata": {},
   "source": [
    "### zip의 응용"
   ]
  },
  {
   "cell_type": "code",
   "execution_count": null,
   "metadata": {
    "id": "_nU-m4O5gmpV"
   },
   "outputs": [],
   "source": [
    "number = [1, 2, 3, 4]\n",
    "name = ['홍길동','김철수','John','Paul']"
   ]
  },
  {
   "cell_type": "code",
   "execution_count": null,
   "metadata": {
    "id": "Eb6HDJL-g37P"
   },
   "outputs": [],
   "source": [
    "number_name = list(zip(number,name))\n",
    "number_name"
   ]
  },
  {
   "cell_type": "markdown",
   "metadata": {
    "id": "cPwXYLB5hG2A"
   },
   "source": [
    "### zip을 활용한 dict 만들기"
   ]
  },
  {
   "cell_type": "code",
   "execution_count": null,
   "metadata": {
    "id": "mXIf5zE-hDkD"
   },
   "outputs": [],
   "source": [
    "number = [1, 2, 3, 4]\n",
    "name = ['홍길동','김철수','John','Paul']\n",
    "dic = {}\n",
    "\n",
    "for number, name in zip(number,name): \n",
    "    dic[number] = name"
   ]
  },
  {
   "cell_type": "code",
   "execution_count": null,
   "metadata": {
    "id": "61z39FoHhCL8"
   },
   "outputs": [],
   "source": [
    "dic"
   ]
  },
  {
   "cell_type": "markdown",
   "metadata": {},
   "source": [
    "### 연습문제"
   ]
  },
  {
   "cell_type": "markdown",
   "metadata": {},
   "source": [
    "`zip()`과 반복문을 활용하여 다음과 같이 출력해 주세요"
   ]
  },
  {
   "cell_type": "code",
   "execution_count": null,
   "metadata": {},
   "outputs": [],
   "source": [
    "fruit = ['사과', '자두', '딸기', '망고']\n",
    "price = [1000, 3000, 2500, 6000]"
   ]
  },
  {
   "cell_type": "code",
   "execution_count": null,
   "metadata": {},
   "outputs": [
    {
     "name": "stdout",
     "output_type": "stream",
     "text": []
    }
   ],
   "source": [
    "# 코드를 입력해 주세요\n"
   ]
  },
  {
   "cell_type": "markdown",
   "metadata": {},
   "source": [
    "<p><strong>[출력 결과]</strong></p><pre>(사과 / 1000 원)\n",
    "(자두 / 3000 원)\n",
    "(딸기 / 2500 원)\n",
    "(망고 / 6000 원)\n",
    "</pre>"
   ]
  },
  {
   "cell_type": "markdown",
   "metadata": {},
   "source": [
    "## enumerate\n",
    "\n",
    "- [문법]: **enumerate(iterable, start=0)**\n",
    "- 순서가 있는 자료형을 입력 받아 index를 포함하는 객체로 return 합니다."
   ]
  },
  {
   "cell_type": "markdown",
   "metadata": {},
   "source": [
    "일반 `range()` 함수를 사용한 경우"
   ]
  },
  {
   "cell_type": "code",
   "execution_count": null,
   "metadata": {},
   "outputs": [],
   "source": [
    "for value in range(1, 10, 2):\n",
    "    print(value)"
   ]
  },
  {
   "cell_type": "markdown",
   "metadata": {},
   "source": [
    "`enumerate()` 함수를 사용하여 index를 return 받은 경우"
   ]
  },
  {
   "cell_type": "code",
   "execution_count": null,
   "metadata": {},
   "outputs": [],
   "source": [
    "for idx, value in enumerate(range(1, 10, 2)):\n",
    "    print(f'index: {idx}, value: {value}')"
   ]
  }
 ],
 "metadata": {
  "colab": {
   "collapsed_sections": [],
   "name": "99-파이썬-내장함수-(실습)",
   "provenance": []
  },
  "kernelspec": {
   "display_name": "Python 3",
   "language": "python",
   "name": "python3"
  },
  "language_info": {
   "codemirror_mode": {
    "name": "ipython",
    "version": 3
   },
   "file_extension": ".py",
   "mimetype": "text/x-python",
   "name": "python",
   "nbconvert_exporter": "python",
   "pygments_lexer": "ipython3",
   "version": "3.6.6"
  }
 },
 "nbformat": 4,
 "nbformat_minor": 1
}
