{
 "cells": [
  {
   "cell_type": "code",
   "execution_count": null,
   "metadata": {
    "id": "4e6uTqLq2OWr"
   },
   "outputs": [],
   "source": [
    "from IPython.display import Image"
   ]
  },
  {
   "cell_type": "markdown",
   "metadata": {
    "id": "pV39e4IM1jR1"
   },
   "source": [
    "## 패키지와 모듈의 관계"
   ]
  },
  {
   "cell_type": "markdown",
   "metadata": {
    "id": "03Wyuv9-25Hr"
   },
   "source": [
    "* **함수**들이 뭉쳐진 하나의 .py 파일 안에 이루어진 것을 **모듈**이라고 합니다.\n",
    "* 여러 개의 모듈을 그룹화 하면 **패키지**가 됩니다.\n",
    "* **패키지**는 종종 **라이브러리**라고도 불리웁니다."
   ]
  },
  {
   "cell_type": "code",
   "execution_count": null,
   "metadata": {
    "colab": {
     "base_uri": "https://localhost:8080/",
     "height": 195
    },
    "id": "jgkanXLh10Lv",
    "outputId": "ec5c29ed-e0f7-4520-c801-10bde0b6bd8a"
   },
   "outputs": [],
   "source": [
    "# 출처: pythonstudy.xyz\n",
    "Image('http://pythonstudy.xyz/images/basics/python-package.png')"
   ]
  },
  {
   "cell_type": "markdown",
   "metadata": {},
   "source": [
    "즉, 하나의 .py 파일은 **모듈**이며, 모듈을 포함하는 디렉토리(directory)는 **패키지**로 정의됩니다."
   ]
  },
  {
   "cell_type": "markdown",
   "metadata": {
    "id": "ZaHyvfbF3cfx"
   },
   "source": [
    "## 모듈 import\n",
    "\n",
    "- 모듈 import는 외장 라이브러리의 모듈을 불러오는 유용한 기능입니다.\n",
    "- 모듈 import를 통해 는 다른 누군가가 이미 만들어 놓은 기능을 쉽게 가져와 사용할 수 있습니다.\n",
    "- 파이썬 모듈을 가져와 사용하기 위해서는 `import` 구문을 사용합니다.\n",
    "- 파이썬 모듈을 import 하는 방법은 여러가지 방식이 존재합니다."
   ]
  },
  {
   "cell_type": "markdown",
   "metadata": {
    "id": "9R28ydc_49GW"
   },
   "source": [
    "`random` 모듈 import"
   ]
  },
  {
   "cell_type": "code",
   "execution_count": 1,
   "metadata": {},
   "outputs": [],
   "source": [
    "import random"
   ]
  },
  {
   "cell_type": "code",
   "execution_count": 2,
   "metadata": {},
   "outputs": [],
   "source": [
    "a = [1, 2, 3, 4, 5]\n",
    "\n",
    "# random 모듈의 shuffle 함수를 실행\n",
    "random.shuffle(a)"
   ]
  },
  {
   "cell_type": "code",
   "execution_count": 3,
   "metadata": {},
   "outputs": [
    {
     "data": {
      "text/plain": [
       "[2, 4, 3, 1, 5]"
      ]
     },
     "execution_count": 3,
     "metadata": {},
     "output_type": "execute_result"
    }
   ],
   "source": [
    "a"
   ]
  },
  {
   "cell_type": "markdown",
   "metadata": {},
   "source": [
    "`random`모듈을 `rd` 별칭(alias) 지정"
   ]
  },
  {
   "cell_type": "code",
   "execution_count": 4,
   "metadata": {},
   "outputs": [],
   "source": [
    "import random as rd"
   ]
  },
  {
   "cell_type": "code",
   "execution_count": 5,
   "metadata": {},
   "outputs": [],
   "source": [
    "b = [1, 2, 3, 4, 5]\n",
    "\n",
    "# rd 별칭으로 지정한 random 모듈의 shuffle 함수를 실행\n",
    "rd.shuffle(b)"
   ]
  },
  {
   "cell_type": "code",
   "execution_count": 6,
   "metadata": {},
   "outputs": [
    {
     "data": {
      "text/plain": [
       "[2, 3, 1, 5, 4]"
      ]
     },
     "execution_count": 6,
     "metadata": {},
     "output_type": "execute_result"
    }
   ],
   "source": [
    "b"
   ]
  },
  {
   "cell_type": "markdown",
   "metadata": {},
   "source": [
    "`random` 모듈의 `shuffle()` 함수 import"
   ]
  },
  {
   "cell_type": "code",
   "execution_count": null,
   "metadata": {
    "id": "UoBQDPI35TQ7"
   },
   "outputs": [],
   "source": [
    "from random import shuffle"
   ]
  },
  {
   "cell_type": "code",
   "execution_count": null,
   "metadata": {},
   "outputs": [],
   "source": [
    "c = [1, 2, 3, 4, 5]\n",
    "\n",
    "# import한 shuffle 함수를 실행\n",
    "shuffle(c)"
   ]
  },
  {
   "cell_type": "code",
   "execution_count": null,
   "metadata": {},
   "outputs": [],
   "source": [
    "c"
   ]
  },
  {
   "cell_type": "markdown",
   "metadata": {
    "id": "UgNkGgBA7MLi"
   },
   "source": [
    "## 자주 사용하는 파이썬 데이터 분석 모듈"
   ]
  },
  {
   "cell_type": "code",
   "execution_count": null,
   "metadata": {
    "id": "gbMS9Y9C7QL2"
   },
   "outputs": [],
   "source": [
    "import numpy as np\n",
    "import pandas as pd\n",
    "import matplotlib.pyplot as plt\n",
    "import seaborn as sns\n",
    "import random"
   ]
  },
  {
   "cell_type": "markdown",
   "metadata": {
    "id": "u6EfObpV7aTu"
   },
   "source": [
    "- numpy: 과학 계산을 위한 패키지\n",
    "- pandas: 데이터 분석을 할 때 가장 많이 쓰이는 모듈\n",
    "- matplotlib: 시각화를 위한 모듈\n",
    "- seaborn: 시각화를 위한 모듈 (matplotlib을 더 쉽게 사용할 수 있도록 도와주는 패키지)\n",
    "- random: 난수 생성 관련 모듈"
   ]
  },
  {
   "cell_type": "code",
   "execution_count": 7,
   "metadata": {
    "colab": {
     "base_uri": "https://localhost:8080/",
     "height": 36
    },
    "id": "pxV8WMg9ohaE",
    "outputId": "c100ef5d-27aa-42ce-e91a-e66275d00a6e"
   },
   "outputs": [
    {
     "data": {
      "text/plain": [
       "0.9125144109985941"
      ]
     },
     "execution_count": 7,
     "metadata": {},
     "output_type": "execute_result"
    }
   ],
   "source": [
    "# 0.0에서부터 1.0 사이의 실수(float) 난수 생성\n",
    "random.random()"
   ]
  },
  {
   "cell_type": "code",
   "execution_count": 8,
   "metadata": {
    "id": "ut3ZDKpJoxst"
   },
   "outputs": [
    {
     "data": {
      "text/plain": [
       "[3, 2, 1, 4]"
      ]
     },
     "execution_count": 8,
     "metadata": {},
     "output_type": "execute_result"
    }
   ],
   "source": [
    "# shuffle\n",
    "a = [1, 2, 3, 4]\n",
    "random.shuffle(a)\n",
    "a"
   ]
  },
  {
   "cell_type": "code",
   "execution_count": 9,
   "metadata": {
    "id": "6lvPirFfoz9D"
   },
   "outputs": [
    {
     "data": {
      "text/plain": [
       "9"
      ]
     },
     "execution_count": 9,
     "metadata": {},
     "output_type": "execute_result"
    }
   ],
   "source": [
    "# start포함 end미만 사이에서 랜덤한 정수 난수 생성\n",
    "random.randrange(3, 10)"
   ]
  }
 ],
 "metadata": {
  "colab": {
   "collapsed_sections": [],
   "name": "09-파이썬-패키지-모듈-(실습)",
   "provenance": []
  },
  "kernelspec": {
   "display_name": "Python 3",
   "language": "python",
   "name": "python3"
  },
  "language_info": {
   "codemirror_mode": {
    "name": "ipython",
    "version": 3
   },
   "file_extension": ".py",
   "mimetype": "text/x-python",
   "name": "python",
   "nbconvert_exporter": "python",
   "pygments_lexer": "ipython3",
   "version": "3.6.6"
  }
 },
 "nbformat": 4,
 "nbformat_minor": 1
}
