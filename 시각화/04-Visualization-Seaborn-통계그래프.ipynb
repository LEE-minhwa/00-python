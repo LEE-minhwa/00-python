{
 "cells": [
  {
   "cell_type": "markdown",
   "metadata": {
    "id": "iRJ4r-qKZz66"
   },
   "source": [
    "\n",
    "# 통계 기반의 그래프"
   ]
  },
  {
   "cell_type": "markdown",
   "metadata": {
    "id": "AW1hGQCeZz67"
   },
   "source": [
    "`seaborn` 라이브러리가 매력적인 이유는 바로 **통계 차트** 입니다.\n",
    "\n",
    "이번 실습에서는 `seaborn`의 다양한 통계 차트 중 대표적인 차트 몇 개를 뽑아서 다뤄볼 예정입니다.\n",
    "\n",
    "더 많은 통계 차트를 경험해보고 싶으신 분은 [공식 도큐먼트](https://seaborn.pydata.org/api.html)에서 확인하실 수 있습니다."
   ]
  },
  {
   "cell_type": "markdown",
   "metadata": {},
   "source": [
    "## 모듈 Import"
   ]
  },
  {
   "cell_type": "code",
   "execution_count": null,
   "metadata": {},
   "outputs": [],
   "source": [
    "from IPython.display import Image\n",
    "import numpy as np\n",
    "import pandas as pd\n",
    "import matplotlib.pyplot as plt\n",
    "import seaborn as sns\n",
    "\n",
    "# Unicode warning 제거 (폰트 관련 경고메시지)\n",
    "plt.rcParams['axes.unicode_minus']=False\n",
    "\n",
    "# 스타일 설정\n",
    "sns.set_style('white')\n",
    "\n",
    "# 그래프 출력 사이즈 설정\n",
    "plt.rcParams[\"figure.figsize\"] = (12, 8)"
   ]
  },
  {
   "cell_type": "markdown",
   "metadata": {},
   "source": [
    "### 샘플 데이터셋 로드"
   ]
  },
  {
   "cell_type": "code",
   "execution_count": null,
   "metadata": {
    "colab": {
     "base_uri": "https://localhost:8080/",
     "height": 415
    },
    "id": "fNK79Zt0Zz68",
    "outputId": "d3492b2d-929f-440d-f5ce-6510651c66c9"
   },
   "outputs": [],
   "source": [
    "titanic = sns.load_dataset('titanic')\n",
    "titanic"
   ]
  },
  {
   "cell_type": "markdown",
   "metadata": {
    "id": "9VlKnwYDZz7H"
   },
   "source": [
    "* survived: 생존여부\n",
    "* pclass: 좌석등급\n",
    "* sex: 성별\n",
    "* age: 나이\n",
    "* sibsp: 형제자매 + 배우자 숫자\n",
    "* parch: 부모자식 숫자\n",
    "* fare: 요금\n",
    "* embarked: 탑승 항구\n",
    "* class: 좌석등급 (영문)\n",
    "* who: 사람 구분\n",
    "* deck: 데크\n",
    "* embark_town: 탑승 항구 (영문)\n",
    "* alive: 생존여부 (영문)\n",
    "* alone: 혼자인지 여부"
   ]
  },
  {
   "cell_type": "code",
   "execution_count": null,
   "metadata": {
    "colab": {
     "base_uri": "https://localhost:8080/",
     "height": 415
    },
    "id": "B5goLI84Zz7I",
    "outputId": "3afaf3d8-ffc4-4152-efe0-272516370bfd"
   },
   "outputs": [],
   "source": [
    "tips = sns.load_dataset('tips')\n",
    "tips"
   ]
  },
  {
   "cell_type": "markdown",
   "metadata": {
    "id": "yIoNnL5yZz7M"
   },
   "source": [
    "* total_bill: 총 합계 요금표\n",
    "* tip: 팁\n",
    "* sex: 성별\n",
    "* smoker: 흡연자 여부\n",
    "* day: 요일\n",
    "* time: 식사 시간\n",
    "* size: 식사 인원"
   ]
  },
  {
   "cell_type": "markdown",
   "metadata": {
    "id": "WVLH_u01Zz7N"
   },
   "source": [
    "## Countplot"
   ]
  },
  {
   "cell_type": "markdown",
   "metadata": {
    "id": "yKdDTzh7Zz7O"
   },
   "source": [
    "항목별 갯수를 세어주는 `countplot` 입니다.\n",
    "\n",
    "알아서 해당 column을 구성하고 있는 value들을 구분하여 보여줍니다."
   ]
  },
  {
   "cell_type": "markdown",
   "metadata": {
    "id": "Qae_ICoYZz7O"
   },
   "source": [
    "[countplot 공식 도큐먼트](https://seaborn.pydata.org/generated/seaborn.countplot.html)"
   ]
  },
  {
   "cell_type": "markdown",
   "metadata": {
    "id": "D1cS0zflZz7U"
   },
   "source": [
    "### 세로로 그리기"
   ]
  },
  {
   "cell_type": "code",
   "execution_count": null,
   "metadata": {
    "colab": {
     "base_uri": "https://localhost:8080/",
     "height": 557
    },
    "id": "yTHOqMhUZz7V",
    "outputId": "c43f868c-6802-4e24-9a53-3d2bbade019e"
   },
   "outputs": [],
   "source": [
    "sns.countplot(x=\"class\", hue=\"who\", data=titanic)"
   ]
  },
  {
   "cell_type": "markdown",
   "metadata": {
    "id": "ck_i4SQ6Zz7a"
   },
   "source": [
    "### 가로로 그리기"
   ]
  },
  {
   "cell_type": "code",
   "execution_count": null,
   "metadata": {
    "colab": {
     "base_uri": "https://localhost:8080/",
     "height": 557
    },
    "id": "ZLbt6RwTZz7b",
    "outputId": "0fbc23f7-bcfd-4f79-dc51-7e06aaeaf9f9"
   },
   "outputs": [],
   "source": [
    "sns.countplot(y=\"class\", hue=\"who\", data=titanic, palette='rocket')"
   ]
  },
  {
   "cell_type": "markdown",
   "metadata": {},
   "source": [
    "## kdeplot"
   ]
  },
  {
   "cell_type": "markdown",
   "metadata": {},
   "source": [
    "`kde`는 histogram보다 **부드러운 형태의 분포 곡선**을 보여주는 방법"
   ]
  },
  {
   "cell_type": "code",
   "execution_count": null,
   "metadata": {},
   "outputs": [],
   "source": [
    "# 샘플데이터 생성\n",
    "x = np.random.randn(100)"
   ]
  },
  {
   "cell_type": "code",
   "execution_count": null,
   "metadata": {},
   "outputs": [],
   "source": [
    "sns.kdeplot(x=x)"
   ]
  },
  {
   "cell_type": "markdown",
   "metadata": {
    "id": "8eIZKPQfZz7x"
   },
   "source": [
    "## rugplot"
   ]
  },
  {
   "cell_type": "markdown",
   "metadata": {
    "id": "sMK0_2H6Zz7y"
   },
   "source": [
    "`rugplot`의 `rug`는 데이터 위치를 x축 위에 **작은 선분(rug)으로 나타내어 데이터들의 위치 및 분포**를 보여준다."
   ]
  },
  {
   "cell_type": "code",
   "execution_count": null,
   "metadata": {},
   "outputs": [],
   "source": [
    "sns.kdeplot(x=x)\n",
    "sns.rugplot(x=x)"
   ]
  },
  {
   "cell_type": "markdown",
   "metadata": {
    "id": "_uVIG6JSZz8G"
   },
   "source": [
    "## heatmap"
   ]
  },
  {
   "cell_type": "markdown",
   "metadata": {
    "id": "FN1tFLtKZz8I"
   },
   "source": [
    "색상으로 표현할 수 있는 다양한 정보를 **일정한 이미지위에 열분포 형태의 비쥬얼한 그래픽**으로\n",
    "출력하는 것이 특징이다"
   ]
  },
  {
   "cell_type": "markdown",
   "metadata": {
    "id": "X69s6xeSZz8J"
   },
   "source": [
    "[heatmap 도큐먼트](https://seaborn.pydata.org/generated/seaborn.heatmap.html?highlight=heatmap#seaborn.heatmap)"
   ]
  },
  {
   "cell_type": "markdown",
   "metadata": {
    "id": "CFYoXE36Zz8T"
   },
   "source": [
    "### correlation(상관관계)를 시각화"
   ]
  },
  {
   "cell_type": "markdown",
   "metadata": {
    "id": "q_26YStRZz8U"
   },
   "source": [
    "**corr()** 함수는 데이터의 상관관계를 보여줍니다."
   ]
  },
  {
   "cell_type": "code",
   "execution_count": null,
   "metadata": {
    "colab": {
     "base_uri": "https://localhost:8080/",
     "height": 314
    },
    "id": "6KG9UwALZz8U",
    "outputId": "014375ef-92f0-489e-d58c-de668672dc3a"
   },
   "outputs": [],
   "source": [
    "titanic.corr()"
   ]
  },
  {
   "cell_type": "code",
   "execution_count": null,
   "metadata": {
    "colab": {
     "base_uri": "https://localhost:8080/",
     "height": 517
    },
    "id": "y924xC0OZz8Y",
    "outputId": "8ec47276-258b-42b5-c0a8-bc08633a7217"
   },
   "outputs": [],
   "source": [
    "plt.figure(figsize=(10, 8))\n",
    "sns.heatmap(titanic.corr(), annot=True, cmap=\"RdBu_r\")\n",
    "plt.show()"
   ]
  },
  {
   "cell_type": "markdown",
   "metadata": {
    "id": "rBvKEXgBZz8c"
   },
   "source": [
    "## pairplot"
   ]
  },
  {
   "cell_type": "markdown",
   "metadata": {
    "id": "hI-RbKpFZz8d"
   },
   "source": [
    "[pairplot 도큐먼트](https://seaborn.pydata.org/generated/seaborn.pairplot.html?highlight=pairplot#seaborn.pairplot)"
   ]
  },
  {
   "cell_type": "markdown",
   "metadata": {
    "id": "pXrop-4vZz8d"
   },
   "source": [
    "pairplot은 그리도(grid) 형태로 각 **집합의 조합에 대해 히스토그램과 분포도**를 그립니다.\n",
    "\n",
    "또한, 숫자형 column에 대해서만 그려줍니다."
   ]
  },
  {
   "cell_type": "code",
   "execution_count": null,
   "metadata": {
    "id": "NqW4xZkImAoV"
   },
   "outputs": [],
   "source": [
    "iris = sns.load_dataset('iris')\n",
    "iris.head()"
   ]
  },
  {
   "cell_type": "markdown",
   "metadata": {
    "id": "6pEG-VpPZz8h"
   },
   "source": [
    "### 기본 pairplot 생성"
   ]
  },
  {
   "cell_type": "code",
   "execution_count": null,
   "metadata": {
    "colab": {
     "base_uri": "https://localhost:8080/",
     "height": 646
    },
    "id": "j4yFNAfuZz8h",
    "outputId": "77e14958-de3e-41c7-ec8b-2d6e1de060c4"
   },
   "outputs": [],
   "source": [
    "sns.pairplot(iris)"
   ]
  },
  {
   "cell_type": "markdown",
   "metadata": {
    "id": "6aE0gpHpZz8k"
   },
   "source": [
    "### hue 옵션으로 특성 구분"
   ]
  },
  {
   "cell_type": "code",
   "execution_count": null,
   "metadata": {
    "colab": {
     "base_uri": "https://localhost:8080/",
     "height": 567
    },
    "id": "NE-3efOnZz8l",
    "outputId": "1e9b9318-44e3-4f5b-87c5-6418a3285718"
   },
   "outputs": [],
   "source": [
    "sns.pairplot(iris, hue='species', palette=\"Set1\")"
   ]
  },
  {
   "cell_type": "markdown",
   "metadata": {
    "id": "L7twr_-YZz81"
   },
   "source": [
    "## violinplot"
   ]
  },
  {
   "cell_type": "markdown",
   "metadata": {
    "id": "2vkv4BuwZz82"
   },
   "source": [
    "바이올린처럼 생긴 violinplot 입니다.\n",
    "\n",
    "column에 대한 **데이터의 비교 분포도**를 확인할 수 있습니다.\n",
    "\n",
    "* 곡선진 부분 (뚱뚱한 부분)은 데이터의 분포를 나타냅니다.\n",
    "* 양쪽 끝 뾰족한 부분은 데이터의 최소값과 최대값을 나타냅니다."
   ]
  },
  {
   "cell_type": "markdown",
   "metadata": {
    "id": "81Nf-WSLZz83"
   },
   "source": [
    "[violinplot 도큐먼트](https://seaborn.pydata.org/generated/seaborn.violinplot.html)"
   ]
  },
  {
   "cell_type": "markdown",
   "metadata": {
    "id": "rcG3LAomZz85"
   },
   "source": [
    "### 기본 violinplot 그리기"
   ]
  },
  {
   "cell_type": "code",
   "execution_count": null,
   "metadata": {
    "colab": {
     "base_uri": "https://localhost:8080/",
     "height": 513
    },
    "id": "AxrmfMzaZz85",
    "outputId": "08cd3579-d06b-4abf-8537-253a214a901b"
   },
   "outputs": [],
   "source": [
    "sns.violinplot(x=tips[\"total_bill\"])"
   ]
  },
  {
   "cell_type": "markdown",
   "metadata": {
    "id": "E1u6VTrHZz88"
   },
   "source": [
    "### 비교 분포 확인"
   ]
  },
  {
   "cell_type": "markdown",
   "metadata": {
    "id": "wGBab3nSZz89"
   },
   "source": [
    "x, y축을 지정해줌으로썬 바이올린을 분할하여 **비교 분포**를 볼 수 있습니다."
   ]
  },
  {
   "cell_type": "code",
   "execution_count": null,
   "metadata": {
    "colab": {
     "base_uri": "https://localhost:8080/",
     "height": 486
    },
    "id": "TTkbEr2hZz8-",
    "outputId": "b964f488-21f9-41e8-ab1f-a85d5bb771be"
   },
   "outputs": [],
   "source": [
    "sns.violinplot(x=\"day\", y=\"total_bill\", data=tips)"
   ]
  },
  {
   "cell_type": "markdown",
   "metadata": {
    "id": "kLIFkT4kZz9L"
   },
   "source": [
    "### hue 옵션으로 분포 비교"
   ]
  },
  {
   "cell_type": "markdown",
   "metadata": {
    "id": "br0DyhrrZz9M"
   },
   "source": [
    "사실 hue 옵션을 사용하지 않으면 바이올린이 대칭이기 때문에 비교 분포의 큰 의미는 없습니다.\n",
    "\n",
    "하지만, hue 옵션을 주면, **단일 column에 대한 바이올린 모양의 비교**를 할 수 있습니다."
   ]
  },
  {
   "cell_type": "code",
   "execution_count": null,
   "metadata": {
    "colab": {
     "base_uri": "https://localhost:8080/",
     "height": 486
    },
    "id": "DGkPSiyfZz9N",
    "outputId": "1c95564b-1b72-43e6-b6a8-665976ef717a"
   },
   "outputs": [],
   "source": [
    "sns.violinplot(x=\"day\", y=\"total_bill\", hue=\"smoker\", data=tips, palette=\"muted\")"
   ]
  },
  {
   "cell_type": "markdown",
   "metadata": {
    "id": "rKcjq8AEZz9R"
   },
   "source": [
    "### split 옵션으로 바이올린을 합쳐서 볼 수 있습니다."
   ]
  },
  {
   "cell_type": "code",
   "execution_count": null,
   "metadata": {
    "colab": {
     "base_uri": "https://localhost:8080/",
     "height": 486
    },
    "id": "3EP-MSy8Zz9S",
    "outputId": "88703763-d162-45b0-e57d-7ded7acc33af"
   },
   "outputs": [],
   "source": [
    "sns.violinplot(x=\"day\", y=\"total_bill\", hue=\"smoker\", data=tips, palette=\"muted\", split=True)"
   ]
  },
  {
   "cell_type": "markdown",
   "metadata": {
    "id": "fEvkLEZcZz9W"
   },
   "source": [
    "## lmplot"
   ]
  },
  {
   "cell_type": "markdown",
   "metadata": {
    "id": "_givuJ2EZz9X"
   },
   "source": [
    "`lmplot`은 column 간의 **선형관계를 확인하기에 용이한 차트**입니다.\n",
    "\n",
    "또한, **outlier**도 같이 짐작해 볼 수 있습니다."
   ]
  },
  {
   "cell_type": "markdown",
   "metadata": {
    "id": "lQip4MeTZz9Y"
   },
   "source": [
    "[lmplot 도큐먼트](https://seaborn.pydata.org/generated/seaborn.lmplot.html)"
   ]
  },
  {
   "cell_type": "markdown",
   "metadata": {
    "id": "OxKn7EvEZz9Z"
   },
   "source": [
    "### 기본 lmplot"
   ]
  },
  {
   "cell_type": "code",
   "execution_count": null,
   "metadata": {
    "colab": {
     "base_uri": "https://localhost:8080/",
     "height": 598
    },
    "id": "KubLM5S6Zz9a",
    "outputId": "e37c420e-f8e5-414e-cf80-7fd974b3b98a"
   },
   "outputs": [],
   "source": [
    "sns.lmplot(x=\"total_bill\", y=\"tip\", data=tips)"
   ]
  },
  {
   "cell_type": "markdown",
   "metadata": {
    "id": "3635r6uCZz9e"
   },
   "source": [
    "### hue 옵션으로 다중 선형관계 그리기"
   ]
  },
  {
   "cell_type": "markdown",
   "metadata": {
    "id": "EkHz91X-Zz9e"
   },
   "source": [
    "아래의 그래프를 통하여 비흡연자가, 흡연자 대비 좀 더 **가파른 선형관계**를 가지는 것을 볼 수 있습니다."
   ]
  },
  {
   "cell_type": "code",
   "execution_count": null,
   "metadata": {
    "colab": {
     "base_uri": "https://localhost:8080/",
     "height": 586
    },
    "id": "Kc3wAs-aZz9f",
    "outputId": "a708c9a7-9fc5-46cf-a13b-edb1f30db9ed"
   },
   "outputs": [],
   "source": [
    "sns.lmplot(x=\"total_bill\", y=\"tip\", hue=\"smoker\", data=tips)"
   ]
  },
  {
   "cell_type": "markdown",
   "metadata": {
    "id": "zpDyE8rtZz9l"
   },
   "source": [
    "### col 옵션을 추가하여 그래프를 별도로 그려볼 수 있습니다"
   ]
  },
  {
   "cell_type": "markdown",
   "metadata": {
    "id": "3KI5sR9mZz9m"
   },
   "source": [
    "또한, `col_wrap`으로 한 줄에 표기할 column의 갯수를 명시할 수 있습니다."
   ]
  },
  {
   "cell_type": "code",
   "execution_count": null,
   "metadata": {
    "colab": {
     "base_uri": "https://localhost:8080/",
     "height": 604
    },
    "id": "_2ARoxUGZz9m",
    "outputId": "6869ca5b-7573-40d5-d11a-b5bfbd9af8de"
   },
   "outputs": [],
   "source": [
    "sns.lmplot(x='total_bill', y='tip', hue='smoker', col='day', col_wrap=2, data=tips)"
   ]
  },
  {
   "cell_type": "markdown",
   "metadata": {
    "id": "hEBfJlzBZz99"
   },
   "source": [
    "## jointplot"
   ]
  },
  {
   "cell_type": "markdown",
   "metadata": {
    "id": "fVc501-4Zz9-"
   },
   "source": [
    "scatter(산점도)와 histogram(분포)을 동시에 그려줍니다.\n",
    "\n",
    "숫자형 데이터만 표현 가능하니, 이 점 유의하세요."
   ]
  },
  {
   "cell_type": "markdown",
   "metadata": {
    "id": "pr7XhqUXZz9_"
   },
   "source": [
    "[jointplot 도큐먼트](https://seaborn.pydata.org/generated/seaborn.jointplot.html?highlight=jointplot#seaborn.jointplot)"
   ]
  },
  {
   "cell_type": "markdown",
   "metadata": {
    "id": "N95ALAxBZz9_"
   },
   "source": [
    "### 기본 jointplot 그리기"
   ]
  },
  {
   "cell_type": "code",
   "execution_count": null,
   "metadata": {
    "colab": {
     "base_uri": "https://localhost:8080/",
     "height": 581
    },
    "id": "kklOUjKDZz-A",
    "outputId": "ca04b2bc-685e-49f5-8c67-c9ca4f245cac"
   },
   "outputs": [],
   "source": [
    "sns.jointplot(x=\"total_bill\", y=\"tip\", height=7, data=tips)"
   ]
  },
  {
   "cell_type": "markdown",
   "metadata": {
    "id": "ooQ7GYuzZz-D"
   },
   "source": [
    "### 선형관계를 표현하는 regression 라인 그리기"
   ]
  },
  {
   "cell_type": "markdown",
   "metadata": {
    "id": "Jw6lJlx0Zz-D"
   },
   "source": [
    "옵션에 **kind='reg'**을 추가해 줍니다."
   ]
  },
  {
   "cell_type": "code",
   "execution_count": null,
   "metadata": {
    "colab": {
     "base_uri": "https://localhost:8080/",
     "height": 639
    },
    "id": "tvFXkdlNZz-E",
    "outputId": "c3e95971-5776-4430-c89a-f0e97899a53d"
   },
   "outputs": [],
   "source": [
    "sns.jointplot(x=\"total_bill\", y=\"tip\", data=tips, kind=\"reg\")"
   ]
  },
  {
   "cell_type": "markdown",
   "metadata": {
    "id": "YAEcvivTZz-H"
   },
   "source": [
    "### hex 밀도 보기"
   ]
  },
  {
   "cell_type": "markdown",
   "metadata": {
    "id": "3O2SI8OuZz-K"
   },
   "source": [
    "**kind='hex'** 옵션을 통해 hex 모양의 밀도를 확인할 수 있습니다."
   ]
  },
  {
   "cell_type": "code",
   "execution_count": null,
   "metadata": {
    "colab": {
     "base_uri": "https://localhost:8080/",
     "height": 639
    },
    "id": "mTAtXSfwZz-L",
    "outputId": "cab92b7b-6d3e-48f9-9711-6a14b6591de1"
   },
   "outputs": [],
   "source": [
    "sns.jointplot(x=\"total_bill\", y=\"tip\", data=tips, kind=\"hex\")"
   ]
  },
  {
   "cell_type": "markdown",
   "metadata": {
    "id": "igJ8DT_a3nHz"
   },
   "source": [
    "## Swarm Plot"
   ]
  },
  {
   "cell_type": "code",
   "execution_count": null,
   "metadata": {
    "colab": {
     "base_uri": "https://localhost:8080/",
     "height": 486
    },
    "id": "QOk9qyIKkdMa",
    "outputId": "7473bcf9-0a44-45b9-dbe6-14e8288febce"
   },
   "outputs": [],
   "source": [
    "sns.swarmplot(x='day', y='total_bill', data=tips)"
   ]
  },
  {
   "cell_type": "code",
   "execution_count": null,
   "metadata": {
    "colab": {
     "base_uri": "https://localhost:8080/",
     "height": 486
    },
    "id": "2hlKv2aokdMb",
    "outputId": "d69c8fc0-073a-43db-d165-8afe560cc2ba"
   },
   "outputs": [],
   "source": [
    "sns.boxplot(x='day', y='total_bill', data=tips)\n",
    "sns.swarmplot(x='day', y='total_bill', data=tips, color='black')"
   ]
  },
  {
   "cell_type": "markdown",
   "metadata": {},
   "source": [
    "## Catplot"
   ]
  },
  {
   "cell_type": "markdown",
   "metadata": {},
   "source": [
    "카테고리에 따른, row/col으로 분류하여 각각의 그래프를 시각화할 수 있습니다.\n",
    "\n",
    "[도큐먼트](https://seaborn.pydata.org/generated/seaborn.catplot.html)\n",
    "\n",
    "- 검은색 bar는 오차막대(error bar) 이며 신뢰구간(confidence interval) 95%"
   ]
  },
  {
   "cell_type": "code",
   "execution_count": null,
   "metadata": {},
   "outputs": [],
   "source": [
    "titanic.head()"
   ]
  },
  {
   "cell_type": "markdown",
   "metadata": {},
   "source": [
    "### barplot"
   ]
  },
  {
   "cell_type": "code",
   "execution_count": null,
   "metadata": {},
   "outputs": [],
   "source": [
    "sns.catplot(x='who', y='survived', \n",
    "            col='pclass', \n",
    "            row='embarked',\n",
    "            kind='bar',\n",
    "            height=3, \n",
    "            data=titanic)"
   ]
  },
  {
   "cell_type": "markdown",
   "metadata": {},
   "source": [
    "### countplot"
   ]
  },
  {
   "cell_type": "code",
   "execution_count": null,
   "metadata": {},
   "outputs": [],
   "source": [
    "sns.catplot(x='survived', \n",
    "            col='pclass', \n",
    "            row='embarked',\n",
    "            kind='count',\n",
    "            height=3, \n",
    "            data=titanic)"
   ]
  },
  {
   "cell_type": "code",
   "execution_count": null,
   "metadata": {},
   "outputs": [],
   "source": [
    "sns.catplot(x='who',\n",
    "            y='age', \n",
    "            col='pclass', \n",
    "            row='embarked',\n",
    "            kind='box',\n",
    "            height=3, \n",
    "            data=titanic)"
   ]
  },
  {
   "cell_type": "markdown",
   "metadata": {},
   "source": [
    "### violinplot"
   ]
  },
  {
   "cell_type": "code",
   "execution_count": null,
   "metadata": {},
   "outputs": [],
   "source": [
    "sns.catplot(x='who',\n",
    "            y='fare', \n",
    "            col='pclass', \n",
    "            kind='violin',\n",
    "            height=3, \n",
    "            data=titanic)"
   ]
  }
 ],
 "metadata": {
  "colab": {
   "collapsed_sections": [],
   "name": "04-Visualization-Seaborn-통계그래프-(실습)",
   "provenance": []
  },
  "kernelspec": {
   "display_name": "Python 3",
   "language": "python",
   "name": "python3"
  },
  "language_info": {
   "codemirror_mode": {
    "name": "ipython",
    "version": 3
   },
   "file_extension": ".py",
   "mimetype": "text/x-python",
   "name": "python",
   "nbconvert_exporter": "python",
   "pygments_lexer": "ipython3",
   "version": "3.6.6"
  }
 },
 "nbformat": 4,
 "nbformat_minor": 1
}
